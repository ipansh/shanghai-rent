{
 "cells": [
  {
   "cell_type": "code",
   "execution_count": 1,
   "source": [
    "import pandas as pd\n",
    "import plotly.express as px\n",
    "import datetime\n",
    "from datetime import datetime"
   ],
   "outputs": [],
   "metadata": {}
  },
  {
   "cell_type": "code",
   "execution_count": 5,
   "source": [
    "main_df = pd.read_csv('/Users/ilya/Desktop/Computer-Science/Projects/Kepler/data/all_listings.csv', index_col = False)\n",
    "\n",
    "## trimming size and price columns\n",
    "main_df.loc[:,('size_sqm')] = [int(x.replace(' sqm', '')) for x in main_df['size']]\n",
    "main_df.loc[:,('price')] = main_df['price'].astype('int')\n",
    "main_df.loc[:,('price_per_sqm')] = round(main_df['price']/main_df['size_sqm'])\n",
    "\n",
    "## converting date_posted to datetime type\n",
    "main_df.loc[:,('date_posted')] = [x.split(', ')[0]+' '+x.split(', ')[1] for x in main_df['posted_time']]\n",
    "main_df.loc[:,('date_posted')] = [datetime.strptime(x, '%B %d %Y') for x in main_df['date_posted']]\n",
    "\n",
    "##taking out the mins as an integer from metro_proxim string\n",
    "main_df.loc[:,('metro_min_walk')] = [int(x.split(' ', 1)[0]) for x in main_df['metro_proxim']]\n",
    "\n",
    "##a few week-based (presumably \"short-term\") listings that we do not need\n",
    "main_df.loc[:,('period')] = [x.replace('/ ', '') for x in main_df['period']]\n",
    "main_df = main_df[main_df['period'] != 'Week']\n",
    "main_df\n",
    "\n",
    "## dropping redundant columns\n",
    "main_df = main_df.drop(columns = ['property_type','currency','bedrooms','bathrooms','size','posted_time','metro_proxim', 'period','furnished','comission'])\n",
    "main_df"
   ],
   "outputs": [
    {
     "output_type": "execute_result",
     "data": {
      "text/plain": [
       "           id                                        description  price  \\\n",
       "0     1447763       Bright 1Br+Yard @ L1/10/12 Shanxi rd station   8500   \n",
       "1     1448399  Elevator 1Br/1Lr/1Bt apt nr Jiangsu rd,Line2/3...   8000   \n",
       "2     1448398    Jiaotong Uni. 1bed nice style historical street  15120   \n",
       "3     1448395  65sqm 1br Apartments/ChangPing Rd Area/Fully E...  12000   \n",
       "4     1448394              Nice 1br Apartment @Nanjing West Road   9500   \n",
       "...       ...                                                ...    ...   \n",
       "2033  1442833                One bedroom near jiangsu rd station   8500   \n",
       "2034  1442828                Jing'an Changping Rd. elevator 1bed  10500   \n",
       "2035  1442826       One bedroom near jiaotong university station   8000   \n",
       "2036  1442823  4.5 m ceiling at Yongjia road only 8K@hengshan...   8000   \n",
       "2037  1442821   Hengshan Rd. bright and cozy 1LDK @floor heating  14400   \n",
       "\n",
       "      floor windows          district             area                metro  \\\n",
       "0         1   South             Xuhui                -     South Shaanxi Rd   \n",
       "1         7   South         Changning                -           Jiangsu Rd   \n",
       "2         2   South         Changning                -  Jiaotong University   \n",
       "3         5   South  Jing'an District                -            Wuning Rd   \n",
       "4         4   South  Jing'an District                -      West Nanjing Rd   \n",
       "...     ...     ...               ...              ...                  ...   \n",
       "2033      4   South         Changning   Zhongshan Park           Jiangsu Rd   \n",
       "2034     14   South  Jing'an District   Jing'an Temple         Changping Rd   \n",
       "2035      5   South         Changning                -  Jiaotong University   \n",
       "2036      3   South           Huangpu  People's Square          Hengshan Rd   \n",
       "2037      9   South             Xuhui        Old Xuhui          Hengshan Rd   \n",
       "\n",
       "     list_source  size_sqm  price_per_sqm date_posted  metro_min_walk  \n",
       "0          Agent        50          170.0  2021-08-18               5  \n",
       "1          Agent        50          160.0  2021-08-21               6  \n",
       "2          Agent        70          216.0  2021-08-21              10  \n",
       "3          Agent        65          185.0  2021-08-21               5  \n",
       "4          Agent        60          158.0  2021-08-21               7  \n",
       "...          ...       ...            ...         ...             ...  \n",
       "2033       Agent        55          155.0  2021-07-23              10  \n",
       "2034       Agent        65          162.0  2021-07-23              10  \n",
       "2035       Agent        50          160.0  2021-07-23              10  \n",
       "2036       Agent        60          133.0  2021-07-23               5  \n",
       "2037       Agent        90          160.0  2021-07-23               2  \n",
       "\n",
       "[2026 rows x 13 columns]"
      ],
      "text/html": [
       "<div>\n",
       "<style scoped>\n",
       "    .dataframe tbody tr th:only-of-type {\n",
       "        vertical-align: middle;\n",
       "    }\n",
       "\n",
       "    .dataframe tbody tr th {\n",
       "        vertical-align: top;\n",
       "    }\n",
       "\n",
       "    .dataframe thead th {\n",
       "        text-align: right;\n",
       "    }\n",
       "</style>\n",
       "<table border=\"1\" class=\"dataframe\">\n",
       "  <thead>\n",
       "    <tr style=\"text-align: right;\">\n",
       "      <th></th>\n",
       "      <th>id</th>\n",
       "      <th>description</th>\n",
       "      <th>price</th>\n",
       "      <th>floor</th>\n",
       "      <th>windows</th>\n",
       "      <th>district</th>\n",
       "      <th>area</th>\n",
       "      <th>metro</th>\n",
       "      <th>list_source</th>\n",
       "      <th>size_sqm</th>\n",
       "      <th>price_per_sqm</th>\n",
       "      <th>date_posted</th>\n",
       "      <th>metro_min_walk</th>\n",
       "    </tr>\n",
       "  </thead>\n",
       "  <tbody>\n",
       "    <tr>\n",
       "      <th>0</th>\n",
       "      <td>1447763</td>\n",
       "      <td>Bright 1Br+Yard @ L1/10/12 Shanxi rd station</td>\n",
       "      <td>8500</td>\n",
       "      <td>1</td>\n",
       "      <td>South</td>\n",
       "      <td>Xuhui</td>\n",
       "      <td>-</td>\n",
       "      <td>South Shaanxi Rd</td>\n",
       "      <td>Agent</td>\n",
       "      <td>50</td>\n",
       "      <td>170.0</td>\n",
       "      <td>2021-08-18</td>\n",
       "      <td>5</td>\n",
       "    </tr>\n",
       "    <tr>\n",
       "      <th>1</th>\n",
       "      <td>1448399</td>\n",
       "      <td>Elevator 1Br/1Lr/1Bt apt nr Jiangsu rd,Line2/3...</td>\n",
       "      <td>8000</td>\n",
       "      <td>7</td>\n",
       "      <td>South</td>\n",
       "      <td>Changning</td>\n",
       "      <td>-</td>\n",
       "      <td>Jiangsu Rd</td>\n",
       "      <td>Agent</td>\n",
       "      <td>50</td>\n",
       "      <td>160.0</td>\n",
       "      <td>2021-08-21</td>\n",
       "      <td>6</td>\n",
       "    </tr>\n",
       "    <tr>\n",
       "      <th>2</th>\n",
       "      <td>1448398</td>\n",
       "      <td>Jiaotong Uni. 1bed nice style historical street</td>\n",
       "      <td>15120</td>\n",
       "      <td>2</td>\n",
       "      <td>South</td>\n",
       "      <td>Changning</td>\n",
       "      <td>-</td>\n",
       "      <td>Jiaotong University</td>\n",
       "      <td>Agent</td>\n",
       "      <td>70</td>\n",
       "      <td>216.0</td>\n",
       "      <td>2021-08-21</td>\n",
       "      <td>10</td>\n",
       "    </tr>\n",
       "    <tr>\n",
       "      <th>3</th>\n",
       "      <td>1448395</td>\n",
       "      <td>65sqm 1br Apartments/ChangPing Rd Area/Fully E...</td>\n",
       "      <td>12000</td>\n",
       "      <td>5</td>\n",
       "      <td>South</td>\n",
       "      <td>Jing'an District</td>\n",
       "      <td>-</td>\n",
       "      <td>Wuning Rd</td>\n",
       "      <td>Agent</td>\n",
       "      <td>65</td>\n",
       "      <td>185.0</td>\n",
       "      <td>2021-08-21</td>\n",
       "      <td>5</td>\n",
       "    </tr>\n",
       "    <tr>\n",
       "      <th>4</th>\n",
       "      <td>1448394</td>\n",
       "      <td>Nice 1br Apartment @Nanjing West Road</td>\n",
       "      <td>9500</td>\n",
       "      <td>4</td>\n",
       "      <td>South</td>\n",
       "      <td>Jing'an District</td>\n",
       "      <td>-</td>\n",
       "      <td>West Nanjing Rd</td>\n",
       "      <td>Agent</td>\n",
       "      <td>60</td>\n",
       "      <td>158.0</td>\n",
       "      <td>2021-08-21</td>\n",
       "      <td>7</td>\n",
       "    </tr>\n",
       "    <tr>\n",
       "      <th>...</th>\n",
       "      <td>...</td>\n",
       "      <td>...</td>\n",
       "      <td>...</td>\n",
       "      <td>...</td>\n",
       "      <td>...</td>\n",
       "      <td>...</td>\n",
       "      <td>...</td>\n",
       "      <td>...</td>\n",
       "      <td>...</td>\n",
       "      <td>...</td>\n",
       "      <td>...</td>\n",
       "      <td>...</td>\n",
       "      <td>...</td>\n",
       "    </tr>\n",
       "    <tr>\n",
       "      <th>2033</th>\n",
       "      <td>1442833</td>\n",
       "      <td>One bedroom near jiangsu rd station</td>\n",
       "      <td>8500</td>\n",
       "      <td>4</td>\n",
       "      <td>South</td>\n",
       "      <td>Changning</td>\n",
       "      <td>Zhongshan Park</td>\n",
       "      <td>Jiangsu Rd</td>\n",
       "      <td>Agent</td>\n",
       "      <td>55</td>\n",
       "      <td>155.0</td>\n",
       "      <td>2021-07-23</td>\n",
       "      <td>10</td>\n",
       "    </tr>\n",
       "    <tr>\n",
       "      <th>2034</th>\n",
       "      <td>1442828</td>\n",
       "      <td>Jing'an Changping Rd. elevator 1bed</td>\n",
       "      <td>10500</td>\n",
       "      <td>14</td>\n",
       "      <td>South</td>\n",
       "      <td>Jing'an District</td>\n",
       "      <td>Jing'an Temple</td>\n",
       "      <td>Changping Rd</td>\n",
       "      <td>Agent</td>\n",
       "      <td>65</td>\n",
       "      <td>162.0</td>\n",
       "      <td>2021-07-23</td>\n",
       "      <td>10</td>\n",
       "    </tr>\n",
       "    <tr>\n",
       "      <th>2035</th>\n",
       "      <td>1442826</td>\n",
       "      <td>One bedroom near jiaotong university station</td>\n",
       "      <td>8000</td>\n",
       "      <td>5</td>\n",
       "      <td>South</td>\n",
       "      <td>Changning</td>\n",
       "      <td>-</td>\n",
       "      <td>Jiaotong University</td>\n",
       "      <td>Agent</td>\n",
       "      <td>50</td>\n",
       "      <td>160.0</td>\n",
       "      <td>2021-07-23</td>\n",
       "      <td>10</td>\n",
       "    </tr>\n",
       "    <tr>\n",
       "      <th>2036</th>\n",
       "      <td>1442823</td>\n",
       "      <td>4.5 m ceiling at Yongjia road only 8K@hengshan...</td>\n",
       "      <td>8000</td>\n",
       "      <td>3</td>\n",
       "      <td>South</td>\n",
       "      <td>Huangpu</td>\n",
       "      <td>People's Square</td>\n",
       "      <td>Hengshan Rd</td>\n",
       "      <td>Agent</td>\n",
       "      <td>60</td>\n",
       "      <td>133.0</td>\n",
       "      <td>2021-07-23</td>\n",
       "      <td>5</td>\n",
       "    </tr>\n",
       "    <tr>\n",
       "      <th>2037</th>\n",
       "      <td>1442821</td>\n",
       "      <td>Hengshan Rd. bright and cozy 1LDK @floor heating</td>\n",
       "      <td>14400</td>\n",
       "      <td>9</td>\n",
       "      <td>South</td>\n",
       "      <td>Xuhui</td>\n",
       "      <td>Old Xuhui</td>\n",
       "      <td>Hengshan Rd</td>\n",
       "      <td>Agent</td>\n",
       "      <td>90</td>\n",
       "      <td>160.0</td>\n",
       "      <td>2021-07-23</td>\n",
       "      <td>2</td>\n",
       "    </tr>\n",
       "  </tbody>\n",
       "</table>\n",
       "<p>2026 rows × 13 columns</p>\n",
       "</div>"
      ]
     },
     "metadata": {},
     "execution_count": 5
    }
   ],
   "metadata": {}
  },
  {
   "cell_type": "code",
   "execution_count": 6,
   "source": [
    "## removing outliers by size and price\n",
    "\n",
    "main_df = main_df[main_df['size_sqm'] <= main_df['size_sqm'].mean()+main_df['size_sqm'].std()*3]\n",
    "main_df = main_df[main_df['price'] <= main_df['price'].mean()+main_df['price'].std()*3]\n",
    "main_df = main_df[main_df['price_per_sqm'] <= main_df['price_per_sqm'].mean()+3*main_df['price_per_sqm'].std()]\n",
    "\n",
    "### a most certain mistake in sqm size when you look at the actual listing\n",
    "main_df = main_df[main_df['id'] != 1446245]\n",
    "\n",
    "print(\"Number of listings in the finalized dataset: {}\".format(len(main_df)))"
   ],
   "outputs": [
    {
     "output_type": "stream",
     "name": "stdout",
     "text": [
      "Number of listings in the finalized dataset: 2007\n"
     ]
    }
   ],
   "metadata": {}
  },
  {
   "cell_type": "code",
   "execution_count": 7,
   "source": [
    "price_df = main_df[['id','price','size_sqm','price_per_sqm']]\n",
    "price_df.head(4)"
   ],
   "outputs": [
    {
     "output_type": "execute_result",
     "data": {
      "text/plain": [
       "        id  price  size_sqm  price_per_sqm\n",
       "0  1447763   8500        50          170.0\n",
       "1  1448399   8000        50          160.0\n",
       "2  1448398  15120        70          216.0\n",
       "3  1448395  12000        65          185.0"
      ],
      "text/html": [
       "<div>\n",
       "<style scoped>\n",
       "    .dataframe tbody tr th:only-of-type {\n",
       "        vertical-align: middle;\n",
       "    }\n",
       "\n",
       "    .dataframe tbody tr th {\n",
       "        vertical-align: top;\n",
       "    }\n",
       "\n",
       "    .dataframe thead th {\n",
       "        text-align: right;\n",
       "    }\n",
       "</style>\n",
       "<table border=\"1\" class=\"dataframe\">\n",
       "  <thead>\n",
       "    <tr style=\"text-align: right;\">\n",
       "      <th></th>\n",
       "      <th>id</th>\n",
       "      <th>price</th>\n",
       "      <th>size_sqm</th>\n",
       "      <th>price_per_sqm</th>\n",
       "    </tr>\n",
       "  </thead>\n",
       "  <tbody>\n",
       "    <tr>\n",
       "      <th>0</th>\n",
       "      <td>1447763</td>\n",
       "      <td>8500</td>\n",
       "      <td>50</td>\n",
       "      <td>170.0</td>\n",
       "    </tr>\n",
       "    <tr>\n",
       "      <th>1</th>\n",
       "      <td>1448399</td>\n",
       "      <td>8000</td>\n",
       "      <td>50</td>\n",
       "      <td>160.0</td>\n",
       "    </tr>\n",
       "    <tr>\n",
       "      <th>2</th>\n",
       "      <td>1448398</td>\n",
       "      <td>15120</td>\n",
       "      <td>70</td>\n",
       "      <td>216.0</td>\n",
       "    </tr>\n",
       "    <tr>\n",
       "      <th>3</th>\n",
       "      <td>1448395</td>\n",
       "      <td>12000</td>\n",
       "      <td>65</td>\n",
       "      <td>185.0</td>\n",
       "    </tr>\n",
       "  </tbody>\n",
       "</table>\n",
       "</div>"
      ]
     },
     "metadata": {},
     "execution_count": 7
    }
   ],
   "metadata": {}
  },
  {
   "cell_type": "code",
   "execution_count": 8,
   "source": [
    "## monthly rent fee descriptive stats\n",
    "\n",
    "print(\"Minimum: {}\".format(round(price_df['price'].min())))\n",
    "print(\"Maximum: {}\".format(round(price_df['price'].max())))\n",
    "print(\"Mean: {}\".format(round(price_df['price'].mean())))\n",
    "print(\"Median: {}\".format(price_df['price'].quantile(q = 0.5)))\n",
    "print(\"10th Percentile Value: {}\".format(price_df['price'].quantile(q = 0.1)))\n",
    "print(\"90th Percentile Value: {}\".format(price_df['price'].quantile(q = 0.9)))"
   ],
   "outputs": [
    {
     "output_type": "stream",
     "name": "stdout",
     "text": [
      "Minimum: 3200\n",
      "Maximum: 23000\n",
      "Mean: 10449\n",
      "Median: 9800.0\n",
      "10th Percentile Value: 6800.0\n",
      "90th Percentile Value: 15000.0\n"
     ]
    }
   ],
   "metadata": {}
  },
  {
   "cell_type": "code",
   "execution_count": 10,
   "source": [
    "price_df.loc[:,('price_bin')] = ['a_7000' if 0 <= x <= 7000 else\n",
    "                                 'b_7001-8000' if 7001 <= x <= 8000 else\n",
    "                                 'c_8001_9000' if 8001 <= x <= 9000 else\n",
    "                                 'd_9001_10001' if 9001 <= x <= 10000 else\n",
    "                                 'e_10001_11001' if 10001 <= x <= 11000 else\n",
    "                                 'f_11001_12000' if 11001 <= x <= 12000 else\n",
    "                                 'g_12001_13000' if 12001 <= x <= 13000 else\n",
    "                                 'h_13001_14000' if 13001 <= x <= 14000 else\n",
    "                                 'i_14001_15000' if 14001 <= x <= 15000 else\n",
    "                                 'j_15001' for x in price_df['price']]"
   ],
   "outputs": [],
   "metadata": {}
  },
  {
   "cell_type": "code",
   "execution_count": 11,
   "source": [
    "price_stats_df = price_df.groupby('price_bin').count().reset_index().rename(columns = {'id':'apartment_count'})[['price_bin','apartment_count']]\n",
    "\n",
    "fig = px.bar(price_stats_df,\n",
    "             x=\"price_bin\",\n",
    "             y=\"apartment_count\",\n",
    "             text='apartment_count')\n",
    "\n",
    "fig.update_traces(textposition='inside',\n",
    "                  texttemplate='%{text}',\n",
    "                  marker_color='#9467bd',\n",
    "                  textfont_size=14)\n",
    "\n",
    "fig.update_layout(title_text = 'Apartment Count by Monthly Rental Fee Bin',\n",
    "                  yaxis_title = 'Number of Apartments',\n",
    "                  xaxis_title = 'Montly Rental Fee (Thousand CNY)',\n",
    "                  height = 600, width = 1200)\n",
    "\n",
    "for idx in range(len(fig.data)):\n",
    "    fig.data[idx].x = ['<7','7-8','8-9','9-10','10–11','11–12','12–13','13–14','14–15','>15']\n",
    "\n",
    "fig.show()"
   ],
   "outputs": [
    {
     "output_type": "display_data",
     "data": {
      "application/vnd.plotly.v1+json": {
       "config": {
        "plotlyServerURL": "https://plot.ly"
       },
       "data": [
        {
         "alignmentgroup": "True",
         "hoverlabel": {
          "namelength": 0
         },
         "hovertemplate": "price_bin=%{x}<br>apartment_count=%{text}",
         "legendgroup": "",
         "marker": {
          "color": "#9467bd"
         },
         "name": "",
         "offsetgroup": "",
         "orientation": "v",
         "showlegend": false,
         "text": [
          257,
          285,
          351,
          200,
          160,
          175,
          183,
          117,
          80,
          199
         ],
         "textfont": {
          "size": 14
         },
         "textposition": "inside",
         "texttemplate": "%{text}",
         "type": "bar",
         "x": [
          "<7",
          "7-8",
          "8-9",
          "9-10",
          "10–11",
          "11–12",
          "12–13",
          "13–14",
          "14–15",
          ">15"
         ],
         "xaxis": "x",
         "y": [
          257,
          285,
          351,
          200,
          160,
          175,
          183,
          117,
          80,
          199
         ],
         "yaxis": "y"
        }
       ],
       "layout": {
        "barmode": "relative",
        "height": 600,
        "legend": {
         "tracegroupgap": 0
        },
        "margin": {
         "t": 60
        },
        "template": {
         "data": {
          "bar": [
           {
            "error_x": {
             "color": "#2a3f5f"
            },
            "error_y": {
             "color": "#2a3f5f"
            },
            "marker": {
             "line": {
              "color": "#E5ECF6",
              "width": 0.5
             }
            },
            "type": "bar"
           }
          ],
          "barpolar": [
           {
            "marker": {
             "line": {
              "color": "#E5ECF6",
              "width": 0.5
             }
            },
            "type": "barpolar"
           }
          ],
          "carpet": [
           {
            "aaxis": {
             "endlinecolor": "#2a3f5f",
             "gridcolor": "white",
             "linecolor": "white",
             "minorgridcolor": "white",
             "startlinecolor": "#2a3f5f"
            },
            "baxis": {
             "endlinecolor": "#2a3f5f",
             "gridcolor": "white",
             "linecolor": "white",
             "minorgridcolor": "white",
             "startlinecolor": "#2a3f5f"
            },
            "type": "carpet"
           }
          ],
          "choropleth": [
           {
            "colorbar": {
             "outlinewidth": 0,
             "ticks": ""
            },
            "type": "choropleth"
           }
          ],
          "contour": [
           {
            "colorbar": {
             "outlinewidth": 0,
             "ticks": ""
            },
            "colorscale": [
             [
              0,
              "#0d0887"
             ],
             [
              0.1111111111111111,
              "#46039f"
             ],
             [
              0.2222222222222222,
              "#7201a8"
             ],
             [
              0.3333333333333333,
              "#9c179e"
             ],
             [
              0.4444444444444444,
              "#bd3786"
             ],
             [
              0.5555555555555556,
              "#d8576b"
             ],
             [
              0.6666666666666666,
              "#ed7953"
             ],
             [
              0.7777777777777778,
              "#fb9f3a"
             ],
             [
              0.8888888888888888,
              "#fdca26"
             ],
             [
              1,
              "#f0f921"
             ]
            ],
            "type": "contour"
           }
          ],
          "contourcarpet": [
           {
            "colorbar": {
             "outlinewidth": 0,
             "ticks": ""
            },
            "type": "contourcarpet"
           }
          ],
          "heatmap": [
           {
            "colorbar": {
             "outlinewidth": 0,
             "ticks": ""
            },
            "colorscale": [
             [
              0,
              "#0d0887"
             ],
             [
              0.1111111111111111,
              "#46039f"
             ],
             [
              0.2222222222222222,
              "#7201a8"
             ],
             [
              0.3333333333333333,
              "#9c179e"
             ],
             [
              0.4444444444444444,
              "#bd3786"
             ],
             [
              0.5555555555555556,
              "#d8576b"
             ],
             [
              0.6666666666666666,
              "#ed7953"
             ],
             [
              0.7777777777777778,
              "#fb9f3a"
             ],
             [
              0.8888888888888888,
              "#fdca26"
             ],
             [
              1,
              "#f0f921"
             ]
            ],
            "type": "heatmap"
           }
          ],
          "heatmapgl": [
           {
            "colorbar": {
             "outlinewidth": 0,
             "ticks": ""
            },
            "colorscale": [
             [
              0,
              "#0d0887"
             ],
             [
              0.1111111111111111,
              "#46039f"
             ],
             [
              0.2222222222222222,
              "#7201a8"
             ],
             [
              0.3333333333333333,
              "#9c179e"
             ],
             [
              0.4444444444444444,
              "#bd3786"
             ],
             [
              0.5555555555555556,
              "#d8576b"
             ],
             [
              0.6666666666666666,
              "#ed7953"
             ],
             [
              0.7777777777777778,
              "#fb9f3a"
             ],
             [
              0.8888888888888888,
              "#fdca26"
             ],
             [
              1,
              "#f0f921"
             ]
            ],
            "type": "heatmapgl"
           }
          ],
          "histogram": [
           {
            "marker": {
             "colorbar": {
              "outlinewidth": 0,
              "ticks": ""
             }
            },
            "type": "histogram"
           }
          ],
          "histogram2d": [
           {
            "colorbar": {
             "outlinewidth": 0,
             "ticks": ""
            },
            "colorscale": [
             [
              0,
              "#0d0887"
             ],
             [
              0.1111111111111111,
              "#46039f"
             ],
             [
              0.2222222222222222,
              "#7201a8"
             ],
             [
              0.3333333333333333,
              "#9c179e"
             ],
             [
              0.4444444444444444,
              "#bd3786"
             ],
             [
              0.5555555555555556,
              "#d8576b"
             ],
             [
              0.6666666666666666,
              "#ed7953"
             ],
             [
              0.7777777777777778,
              "#fb9f3a"
             ],
             [
              0.8888888888888888,
              "#fdca26"
             ],
             [
              1,
              "#f0f921"
             ]
            ],
            "type": "histogram2d"
           }
          ],
          "histogram2dcontour": [
           {
            "colorbar": {
             "outlinewidth": 0,
             "ticks": ""
            },
            "colorscale": [
             [
              0,
              "#0d0887"
             ],
             [
              0.1111111111111111,
              "#46039f"
             ],
             [
              0.2222222222222222,
              "#7201a8"
             ],
             [
              0.3333333333333333,
              "#9c179e"
             ],
             [
              0.4444444444444444,
              "#bd3786"
             ],
             [
              0.5555555555555556,
              "#d8576b"
             ],
             [
              0.6666666666666666,
              "#ed7953"
             ],
             [
              0.7777777777777778,
              "#fb9f3a"
             ],
             [
              0.8888888888888888,
              "#fdca26"
             ],
             [
              1,
              "#f0f921"
             ]
            ],
            "type": "histogram2dcontour"
           }
          ],
          "mesh3d": [
           {
            "colorbar": {
             "outlinewidth": 0,
             "ticks": ""
            },
            "type": "mesh3d"
           }
          ],
          "parcoords": [
           {
            "line": {
             "colorbar": {
              "outlinewidth": 0,
              "ticks": ""
             }
            },
            "type": "parcoords"
           }
          ],
          "pie": [
           {
            "automargin": true,
            "type": "pie"
           }
          ],
          "scatter": [
           {
            "marker": {
             "colorbar": {
              "outlinewidth": 0,
              "ticks": ""
             }
            },
            "type": "scatter"
           }
          ],
          "scatter3d": [
           {
            "line": {
             "colorbar": {
              "outlinewidth": 0,
              "ticks": ""
             }
            },
            "marker": {
             "colorbar": {
              "outlinewidth": 0,
              "ticks": ""
             }
            },
            "type": "scatter3d"
           }
          ],
          "scattercarpet": [
           {
            "marker": {
             "colorbar": {
              "outlinewidth": 0,
              "ticks": ""
             }
            },
            "type": "scattercarpet"
           }
          ],
          "scattergeo": [
           {
            "marker": {
             "colorbar": {
              "outlinewidth": 0,
              "ticks": ""
             }
            },
            "type": "scattergeo"
           }
          ],
          "scattergl": [
           {
            "marker": {
             "colorbar": {
              "outlinewidth": 0,
              "ticks": ""
             }
            },
            "type": "scattergl"
           }
          ],
          "scattermapbox": [
           {
            "marker": {
             "colorbar": {
              "outlinewidth": 0,
              "ticks": ""
             }
            },
            "type": "scattermapbox"
           }
          ],
          "scatterpolar": [
           {
            "marker": {
             "colorbar": {
              "outlinewidth": 0,
              "ticks": ""
             }
            },
            "type": "scatterpolar"
           }
          ],
          "scatterpolargl": [
           {
            "marker": {
             "colorbar": {
              "outlinewidth": 0,
              "ticks": ""
             }
            },
            "type": "scatterpolargl"
           }
          ],
          "scatterternary": [
           {
            "marker": {
             "colorbar": {
              "outlinewidth": 0,
              "ticks": ""
             }
            },
            "type": "scatterternary"
           }
          ],
          "surface": [
           {
            "colorbar": {
             "outlinewidth": 0,
             "ticks": ""
            },
            "colorscale": [
             [
              0,
              "#0d0887"
             ],
             [
              0.1111111111111111,
              "#46039f"
             ],
             [
              0.2222222222222222,
              "#7201a8"
             ],
             [
              0.3333333333333333,
              "#9c179e"
             ],
             [
              0.4444444444444444,
              "#bd3786"
             ],
             [
              0.5555555555555556,
              "#d8576b"
             ],
             [
              0.6666666666666666,
              "#ed7953"
             ],
             [
              0.7777777777777778,
              "#fb9f3a"
             ],
             [
              0.8888888888888888,
              "#fdca26"
             ],
             [
              1,
              "#f0f921"
             ]
            ],
            "type": "surface"
           }
          ],
          "table": [
           {
            "cells": {
             "fill": {
              "color": "#EBF0F8"
             },
             "line": {
              "color": "white"
             }
            },
            "header": {
             "fill": {
              "color": "#C8D4E3"
             },
             "line": {
              "color": "white"
             }
            },
            "type": "table"
           }
          ]
         },
         "layout": {
          "annotationdefaults": {
           "arrowcolor": "#2a3f5f",
           "arrowhead": 0,
           "arrowwidth": 1
          },
          "coloraxis": {
           "colorbar": {
            "outlinewidth": 0,
            "ticks": ""
           }
          },
          "colorscale": {
           "diverging": [
            [
             0,
             "#8e0152"
            ],
            [
             0.1,
             "#c51b7d"
            ],
            [
             0.2,
             "#de77ae"
            ],
            [
             0.3,
             "#f1b6da"
            ],
            [
             0.4,
             "#fde0ef"
            ],
            [
             0.5,
             "#f7f7f7"
            ],
            [
             0.6,
             "#e6f5d0"
            ],
            [
             0.7,
             "#b8e186"
            ],
            [
             0.8,
             "#7fbc41"
            ],
            [
             0.9,
             "#4d9221"
            ],
            [
             1,
             "#276419"
            ]
           ],
           "sequential": [
            [
             0,
             "#0d0887"
            ],
            [
             0.1111111111111111,
             "#46039f"
            ],
            [
             0.2222222222222222,
             "#7201a8"
            ],
            [
             0.3333333333333333,
             "#9c179e"
            ],
            [
             0.4444444444444444,
             "#bd3786"
            ],
            [
             0.5555555555555556,
             "#d8576b"
            ],
            [
             0.6666666666666666,
             "#ed7953"
            ],
            [
             0.7777777777777778,
             "#fb9f3a"
            ],
            [
             0.8888888888888888,
             "#fdca26"
            ],
            [
             1,
             "#f0f921"
            ]
           ],
           "sequentialminus": [
            [
             0,
             "#0d0887"
            ],
            [
             0.1111111111111111,
             "#46039f"
            ],
            [
             0.2222222222222222,
             "#7201a8"
            ],
            [
             0.3333333333333333,
             "#9c179e"
            ],
            [
             0.4444444444444444,
             "#bd3786"
            ],
            [
             0.5555555555555556,
             "#d8576b"
            ],
            [
             0.6666666666666666,
             "#ed7953"
            ],
            [
             0.7777777777777778,
             "#fb9f3a"
            ],
            [
             0.8888888888888888,
             "#fdca26"
            ],
            [
             1,
             "#f0f921"
            ]
           ]
          },
          "colorway": [
           "#636efa",
           "#EF553B",
           "#00cc96",
           "#ab63fa",
           "#FFA15A",
           "#19d3f3",
           "#FF6692",
           "#B6E880",
           "#FF97FF",
           "#FECB52"
          ],
          "font": {
           "color": "#2a3f5f"
          },
          "geo": {
           "bgcolor": "white",
           "lakecolor": "white",
           "landcolor": "#E5ECF6",
           "showlakes": true,
           "showland": true,
           "subunitcolor": "white"
          },
          "hoverlabel": {
           "align": "left"
          },
          "hovermode": "closest",
          "mapbox": {
           "style": "light"
          },
          "paper_bgcolor": "white",
          "plot_bgcolor": "#E5ECF6",
          "polar": {
           "angularaxis": {
            "gridcolor": "white",
            "linecolor": "white",
            "ticks": ""
           },
           "bgcolor": "#E5ECF6",
           "radialaxis": {
            "gridcolor": "white",
            "linecolor": "white",
            "ticks": ""
           }
          },
          "scene": {
           "xaxis": {
            "backgroundcolor": "#E5ECF6",
            "gridcolor": "white",
            "gridwidth": 2,
            "linecolor": "white",
            "showbackground": true,
            "ticks": "",
            "zerolinecolor": "white"
           },
           "yaxis": {
            "backgroundcolor": "#E5ECF6",
            "gridcolor": "white",
            "gridwidth": 2,
            "linecolor": "white",
            "showbackground": true,
            "ticks": "",
            "zerolinecolor": "white"
           },
           "zaxis": {
            "backgroundcolor": "#E5ECF6",
            "gridcolor": "white",
            "gridwidth": 2,
            "linecolor": "white",
            "showbackground": true,
            "ticks": "",
            "zerolinecolor": "white"
           }
          },
          "shapedefaults": {
           "line": {
            "color": "#2a3f5f"
           }
          },
          "ternary": {
           "aaxis": {
            "gridcolor": "white",
            "linecolor": "white",
            "ticks": ""
           },
           "baxis": {
            "gridcolor": "white",
            "linecolor": "white",
            "ticks": ""
           },
           "bgcolor": "#E5ECF6",
           "caxis": {
            "gridcolor": "white",
            "linecolor": "white",
            "ticks": ""
           }
          },
          "title": {
           "x": 0.05
          },
          "xaxis": {
           "automargin": true,
           "gridcolor": "white",
           "linecolor": "white",
           "ticks": "",
           "title": {
            "standoff": 15
           },
           "zerolinecolor": "white",
           "zerolinewidth": 2
          },
          "yaxis": {
           "automargin": true,
           "gridcolor": "white",
           "linecolor": "white",
           "ticks": "",
           "title": {
            "standoff": 15
           },
           "zerolinecolor": "white",
           "zerolinewidth": 2
          }
         }
        },
        "title": {
         "text": "Apartment Count by Monthly Rental Fee Bin"
        },
        "width": 1200,
        "xaxis": {
         "anchor": "y",
         "domain": [
          0,
          1
         ],
         "title": {
          "text": "Montly Rental Fee (Thousand CNY)"
         }
        },
        "yaxis": {
         "anchor": "x",
         "domain": [
          0,
          1
         ],
         "title": {
          "text": "Number of Apartments"
         }
        }
       }
      }
     },
     "metadata": {}
    }
   ],
   "metadata": {}
  },
  {
   "cell_type": "code",
   "execution_count": 12,
   "source": [
    "print(\"Correlation between price and size: {}\".format(price_df[['price','size_sqm']].corr()))\n",
    "\n",
    "fig = px.scatter(price_df[['price','size_sqm']],\n",
    "             x=\"price\",\n",
    "             y=\"size_sqm\")\n",
    "\n",
    "fig.update_layout(title_text = 'Relationship between Apartment Size and Monthly Rental Fee',\n",
    "                  yaxis_title = 'Total Apartment Size (sqm)',\n",
    "                  xaxis_title = 'Monthly Rental Fee',\n",
    "                  height = 700, width = 700)"
   ],
   "outputs": [
    {
     "output_type": "stream",
     "name": "stdout",
     "text": [
      "Correlation between price and size:              price  size_sqm\n",
      "price     1.000000  0.750504\n",
      "size_sqm  0.750504  1.000000\n"
     ]
    },
    {
     "output_type": "display_data",
     "data": {
      "application/vnd.plotly.v1+json": {
       "config": {
        "plotlyServerURL": "https://plot.ly"
       },
       "data": [
        {
         "hoverlabel": {
          "namelength": 0
         },
         "hovertemplate": "price=%{x}<br>size_sqm=%{y}",
         "legendgroup": "",
         "marker": {
          "color": "#636efa",
          "symbol": "circle"
         },
         "mode": "markers",
         "name": "",
         "showlegend": false,
         "type": "scattergl",
         "x": [
          8500,
          8000,
          15120,
          12000,
          9500,
          9277,
          9000,
          12000,
          9500,
          10500,
          8800,
          8000,
          7600,
          8500,
          8000,
          15120,
          12000,
          9500,
          9277,
          9000,
          12000,
          9500,
          10500,
          8800,
          8000,
          7600,
          8500,
          10500,
          10900,
          8800,
          8300,
          9000,
          7500,
          13000,
          11500,
          10000,
          13500,
          15600,
          13800,
          8600,
          7900,
          8500,
          8000,
          7300,
          10000,
          7200,
          15600,
          4800,
          15800,
          4200,
          9500,
          15000,
          12800,
          8000,
          13489,
          20800,
          10000,
          7400,
          22500,
          13999,
          6500,
          8000,
          15800,
          10500,
          15800,
          6200,
          12300,
          14800,
          14500,
          14600,
          7500,
          8500,
          8500,
          15000,
          8900,
          15000,
          6500,
          8800,
          14500,
          12500,
          14220,
          15000,
          10000,
          14800,
          6800,
          12300,
          13000,
          3500,
          14800,
          7200,
          12420,
          13300,
          8800,
          7800,
          17000,
          8800,
          10000,
          10500,
          8000,
          7000,
          9000,
          8500,
          8000,
          6700,
          8900,
          8000,
          4000,
          13500,
          5900,
          8600,
          8000,
          16800,
          12500,
          8500,
          7800,
          7800,
          8300,
          8300,
          12000,
          9000,
          10000,
          12000,
          7500,
          8500,
          11000,
          8800,
          16000,
          7000,
          11000,
          17000,
          7500,
          8100,
          8200,
          16800,
          9200,
          7800,
          11800,
          12300,
          8500,
          7000,
          4600,
          4900,
          5800,
          11500,
          6400,
          10500,
          13500,
          6800,
          8000,
          6200,
          5000,
          6500,
          9000,
          16500,
          8200,
          12999,
          13500,
          15120,
          18000,
          9000,
          15500,
          7200,
          5500,
          11999,
          6200,
          12000,
          15500,
          6300,
          12800,
          12500,
          12500,
          7000,
          14000,
          10600,
          8700,
          11000,
          6600,
          10000,
          4500,
          16500,
          8300,
          12000,
          12000,
          15120,
          16800,
          11000,
          12500,
          8800,
          12999,
          5000,
          4500,
          7000,
          5800,
          16000,
          11000,
          12800,
          7900,
          13000,
          16800,
          9900,
          7500,
          11000,
          12000,
          7000,
          15800,
          11500,
          14600,
          11300,
          12000,
          14300,
          10800,
          8500,
          7380,
          9000,
          10500,
          10350,
          7200,
          8000,
          6200,
          10300,
          6800,
          7800,
          7800,
          6700,
          6500,
          7600,
          5600,
          12000,
          7800,
          8500,
          8600,
          7990,
          7600,
          21000,
          6700,
          12300,
          7800,
          7000,
          12500,
          14900,
          6000,
          7000,
          15000,
          8000,
          9999,
          14000,
          11800,
          9800,
          15500,
          12800,
          13800,
          17600,
          16500,
          13300,
          10000,
          12000,
          15000,
          12000,
          18000,
          16500,
          18600,
          11800,
          9212,
          7200,
          14000,
          11600,
          16000,
          7800,
          17500,
          12800,
          15000,
          6800,
          7200,
          12000,
          16500,
          7500,
          11000,
          11300,
          11500,
          9200,
          9000,
          8000,
          7500,
          15800,
          15800,
          15000,
          15000,
          12300,
          5800,
          12500,
          8500,
          6113,
          10800,
          15500,
          11800,
          5929,
          7500,
          11000,
          10500,
          15800,
          6200,
          7300,
          9000,
          9500,
          11000,
          8100,
          10000,
          7000,
          7500,
          12000,
          11500,
          12500,
          10800,
          6600,
          5500,
          16800,
          10000,
          12000,
          8500,
          10500,
          9500,
          11520,
          7800,
          12500,
          12500,
          11520,
          8300,
          12300,
          17500,
          15500,
          10000,
          8888,
          13000,
          8400,
          10650,
          10800,
          9000,
          9500,
          11500,
          13000,
          12000,
          10000,
          10000,
          7800,
          7000,
          7000,
          16000,
          9500,
          11500,
          4800,
          12800,
          9000,
          9000,
          10800,
          9600,
          10000,
          10000,
          10500,
          5300,
          8000,
          11000,
          8800,
          13000,
          9800,
          15000,
          6600,
          3200,
          9900,
          12500,
          18000,
          8200,
          11500,
          12999,
          5780,
          8500,
          7400,
          8500,
          8200,
          9800,
          8800,
          8000,
          8500,
          12700,
          8300,
          7500,
          10000,
          6500,
          7300,
          7000,
          7100,
          13600,
          20000,
          7600,
          13800,
          15800,
          15800,
          11500,
          12500,
          7000,
          14700,
          18500,
          6700,
          7600,
          9000,
          8500,
          6500,
          11500,
          8800,
          7500,
          7500,
          7200,
          8200,
          7800,
          9000,
          12000,
          16800,
          5200,
          12000,
          15500,
          15000,
          12500,
          5300,
          18000,
          8500,
          11800,
          6200,
          11000,
          11000,
          8600,
          15000,
          12800,
          12500,
          15500,
          11500,
          15500,
          14000,
          9000,
          13000,
          12500,
          9000,
          12700,
          4500,
          12500,
          11800,
          11800,
          5800,
          10000,
          4800,
          15500,
          7000,
          10500,
          7500,
          6500,
          11500,
          9200,
          9000,
          11800,
          9000,
          15600,
          12000,
          11000,
          16000,
          6800,
          8300,
          5200,
          12800,
          7600,
          7500,
          9000,
          9000,
          6500,
          11300,
          6000,
          9000,
          8500,
          9000,
          8800,
          8000,
          6000,
          9000,
          7200,
          7500,
          17500,
          7400,
          9500,
          9900,
          9500,
          10300,
          16500,
          18000,
          10000,
          7300,
          9000,
          7400,
          7000,
          6200,
          7400,
          12300,
          14700,
          8800,
          8800,
          12300,
          8900,
          9200,
          7000,
          9300,
          15000,
          14500,
          6600,
          6000,
          7700,
          5800,
          7580,
          17000,
          10000,
          6500,
          15500,
          4800,
          8200,
          16000,
          15000,
          12000,
          9500,
          5756,
          16800,
          16500,
          6653,
          10800,
          17800,
          6300,
          6000,
          5000,
          7600,
          5500,
          8000,
          7600,
          10000,
          8800,
          8800,
          21000,
          12800,
          7800,
          7200,
          9500,
          12420,
          15120,
          15120,
          9000,
          9000,
          10800,
          15000,
          8800,
          9500,
          9800,
          12800,
          12400,
          11000,
          8700,
          4500,
          9500,
          8200,
          8000,
          10500,
          12000,
          7000,
          5100,
          12000,
          9000,
          11000,
          8800,
          6800,
          9000,
          7600,
          5713,
          5800,
          9000,
          11500,
          14000,
          15000,
          8800,
          15000,
          5800,
          13950,
          5000,
          7300,
          9800,
          8800,
          17000,
          14000,
          15300,
          8800,
          6200,
          6300,
          6300,
          16500,
          12400,
          14800,
          14500,
          9200,
          4600,
          5200,
          8500,
          7600,
          7500,
          11000,
          10800,
          7400,
          17500,
          12000,
          7800,
          13500,
          9800,
          9000,
          7900,
          9900,
          8500,
          11000,
          12000,
          5500,
          10000,
          10000,
          8600,
          9200,
          11600,
          11500,
          8700,
          14000,
          12750,
          8200,
          8500,
          9000,
          7600,
          12000,
          11000,
          6999,
          9600,
          9000,
          7800,
          7300,
          14500,
          14600,
          6500,
          8705,
          9200,
          12000,
          6037,
          12000,
          8200,
          9000,
          9800,
          9200,
          8000,
          8300,
          9000,
          15500,
          12000,
          10000,
          14000,
          7200,
          17000,
          7200,
          17500,
          9500,
          13000,
          6300,
          7300,
          10000,
          12800,
          8300,
          12500,
          7500,
          6500,
          11900,
          12600,
          9500,
          6500,
          10200,
          15200,
          13000,
          9000,
          9000,
          17800,
          13000,
          12800,
          14000,
          9999,
          10500,
          10500,
          10800,
          5200,
          17500,
          4300,
          8000,
          8900,
          8800,
          11800,
          9500,
          7650,
          6000,
          7200,
          7500,
          9200,
          16500,
          8300,
          13000,
          7500,
          16500,
          13000,
          5300,
          5500,
          10800,
          12500,
          12500,
          13500,
          14000,
          12800,
          6800,
          6800,
          10800,
          6500,
          8500,
          13800,
          8600,
          12800,
          8400,
          8600,
          10000,
          11000,
          8000,
          10800,
          10600,
          12000,
          13000,
          15200,
          9000,
          10500,
          13000,
          10800,
          13000,
          10000,
          9800,
          7500,
          13800,
          14000,
          16800,
          12800,
          12500,
          8000,
          13200,
          12000,
          11800,
          6000,
          8000,
          8500,
          7500,
          7500,
          11500,
          11000,
          7800,
          13600,
          9300,
          5200,
          5700,
          8000,
          16500,
          12800,
          11800,
          9600,
          7500,
          8900,
          10800,
          7300,
          7000,
          11000,
          10000,
          7500,
          10700,
          6300,
          8200,
          13500,
          11500,
          15500,
          7200,
          9500,
          10000,
          7300,
          14300,
          9800,
          11900,
          11900,
          16999,
          16500,
          9000,
          11800,
          15000,
          5500,
          7800,
          7200,
          6600,
          8000,
          6800,
          8000,
          16800,
          13000,
          15000,
          12800,
          12000,
          12000,
          9000,
          11500,
          12600,
          9000,
          7800,
          13500,
          10600,
          15120,
          9000,
          7400,
          12700,
          10800,
          12000,
          9000,
          14800,
          9000,
          8800,
          4000,
          9800,
          12000,
          12000,
          8600,
          6000,
          15500,
          17000,
          13800,
          13800,
          16800,
          8700,
          8000,
          9000,
          11500,
          7600,
          8500,
          10000,
          17000,
          11500,
          17800,
          17000,
          13500,
          12800,
          11000,
          9500,
          18800,
          14000,
          7600,
          11500,
          6800,
          8300,
          7500,
          12000,
          12500,
          7200,
          13000,
          9500,
          10600,
          5200,
          8200,
          11800,
          7200,
          8800,
          17000,
          16500,
          8200,
          6500,
          11500,
          13800,
          9200,
          8000,
          9500,
          7300,
          8000,
          18000,
          7000,
          9000,
          7500,
          6700,
          4700,
          9000,
          14500,
          13500,
          13500,
          12500,
          10500,
          6200,
          9000,
          5600,
          10000,
          11300,
          8500,
          13000,
          15500,
          11000,
          6761,
          7800,
          10500,
          5700,
          12800,
          17000,
          12800,
          6500,
          14800,
          9500,
          8089,
          5600,
          17800,
          5800,
          16500,
          10000,
          8000,
          7500,
          7500,
          8600,
          11000,
          9500,
          8500,
          8850,
          9000,
          7100,
          7500,
          8800,
          13320,
          14000,
          11500,
          8800,
          11300,
          9000,
          8300,
          9000,
          15000,
          14000,
          7300,
          18000,
          12800,
          9500,
          13800,
          11800,
          17100,
          8800,
          11000,
          4800,
          11300,
          18000,
          5800,
          7900,
          9200,
          10000,
          12400,
          12500,
          10500,
          12500,
          11000,
          11800,
          10800,
          17650,
          13500,
          12500,
          13500,
          14000,
          15000,
          12000,
          7800,
          9800,
          7500,
          9900,
          13500,
          9000,
          9000,
          7300,
          13500,
          13900,
          15300,
          12800,
          13800,
          15800,
          6000,
          7000,
          6200,
          11200,
          12800,
          11200,
          8800,
          11500,
          7500,
          7000,
          10800,
          9000,
          13800,
          7000,
          14220,
          16800,
          12000,
          6900,
          8800,
          12500,
          9500,
          14000,
          11800,
          8750,
          11000,
          13000,
          12500,
          12000,
          6600,
          16000,
          8000,
          8500,
          9000,
          8800,
          10800,
          8500,
          6600,
          11000,
          10800,
          4400,
          10600,
          10900,
          9000,
          11500,
          10800,
          9000,
          6000,
          7200,
          11500,
          6000,
          8000,
          12300,
          9500,
          10500,
          6600,
          8200,
          8800,
          15000,
          6800,
          8800,
          8600,
          17800,
          4800,
          11200,
          15000,
          17500,
          11500,
          7000,
          13000,
          16500,
          10800,
          15500,
          7500,
          8600,
          8800,
          9200,
          11300,
          17800,
          18000,
          12500,
          10000,
          18500,
          8800,
          12900,
          6300,
          6200,
          7900,
          13300,
          17800,
          12000,
          10800,
          17800,
          17000,
          8600,
          9500,
          14000,
          8900,
          18000,
          11000,
          8700,
          5300,
          8200,
          18000,
          7500,
          18500,
          16920,
          12800,
          16920,
          10500,
          9500,
          17500,
          9000,
          13500,
          12000,
          13200,
          7900,
          13000,
          9000,
          11300,
          8200,
          17300,
          7200,
          13000,
          9200,
          9800,
          9000,
          8700,
          12500,
          7300,
          6800,
          8500,
          10200,
          7600,
          13500,
          12800,
          16800,
          6600,
          12000,
          12500,
          12000,
          10000,
          12000,
          16900,
          8800,
          8800,
          7700,
          12800,
          10500,
          10800,
          7500,
          7300,
          10400,
          9400,
          7000,
          10789,
          9400,
          12000,
          8000,
          6200,
          8000,
          9300,
          8400,
          8500,
          13000,
          7600,
          8600,
          7900,
          9800,
          6000,
          6200,
          6300,
          14000,
          8600,
          8600,
          4500,
          8100,
          12500,
          14000,
          10500,
          6200,
          16800,
          17100,
          9500,
          17820,
          13500,
          11500,
          8900,
          7900,
          16800,
          18000,
          16800,
          8000,
          9500,
          13000,
          13500,
          8500,
          12500,
          7600,
          15500,
          12500,
          14800,
          12700,
          10500,
          18000,
          10800,
          6728,
          12800,
          17500,
          18500,
          12000,
          11000,
          8800,
          7000,
          8500,
          17000,
          10000,
          14000,
          7500,
          8800,
          16700,
          14000,
          12500,
          10000,
          15000,
          8700,
          4900,
          6800,
          16920,
          10800,
          11500,
          13700,
          7200,
          5500,
          8500,
          9000,
          9500,
          11500,
          11500,
          7700,
          4500,
          16500,
          5200,
          6800,
          5200,
          12000,
          8000,
          17500,
          9000,
          9500,
          15000,
          8300,
          12500,
          8000,
          17000,
          8500,
          12000,
          11000,
          11500,
          13500,
          7100,
          14000,
          8900,
          8800,
          9000,
          5500,
          13500,
          10500,
          10500,
          10000,
          13800,
          8400,
          11000,
          10500,
          20000,
          8800,
          16800,
          18500,
          9500,
          8800,
          11000,
          8800,
          8500,
          8600,
          7500,
          9300,
          12000,
          6800,
          9600,
          10000,
          10000,
          6500,
          12500,
          10500,
          9800,
          8200,
          8600,
          15800,
          9800,
          12000,
          17800,
          11000,
          15500,
          8200,
          12600,
          12400,
          6900,
          6500,
          7600,
          10600,
          8000,
          8000,
          11800,
          6800,
          7000,
          5000,
          7700,
          14800,
          8800,
          8000,
          11000,
          9000,
          9800,
          8300,
          8300,
          16920,
          15120,
          8300,
          8500,
          10000,
          16000,
          11000,
          6900,
          15000,
          9000,
          13500,
          11000,
          11800,
          8200,
          8900,
          8000,
          15000,
          9800,
          10000,
          10800,
          11500,
          10500,
          8800,
          8500,
          13000,
          7800,
          13000,
          8000,
          13500,
          11400,
          10400,
          6500,
          12500,
          6300,
          7800,
          13800,
          9600,
          9100,
          11000,
          8200,
          9000,
          7800,
          12500,
          9000,
          11800,
          7600,
          8800,
          7800,
          7800,
          11520,
          10500,
          14000,
          18500,
          13500,
          12000,
          14000,
          10800,
          13000,
          12500,
          14200,
          9600,
          7600,
          9500,
          6500,
          10800,
          9300,
          9000,
          12500,
          12800,
          8700,
          9500,
          15800,
          8500,
          6500,
          9000,
          6500,
          10800,
          9000,
          6800,
          3300,
          6500,
          8600,
          15500,
          10600,
          15000,
          7200,
          6800,
          8500,
          11800,
          12000,
          12500,
          7500,
          12500,
          6000,
          5600,
          8900,
          8700,
          13000,
          13500,
          8000,
          12000,
          8500,
          14500,
          13500,
          7200,
          13300,
          9900,
          7300,
          7000,
          8800,
          8000,
          7500,
          6400,
          17300,
          10000,
          13800,
          7500,
          11500,
          12000,
          11500,
          13500,
          9000,
          7900,
          7300,
          13000,
          14500,
          7600,
          12500,
          11500,
          5000,
          12500,
          8300,
          11000,
          15000,
          8200,
          8000,
          13500,
          6500,
          17000,
          6500,
          15000,
          6500,
          8500,
          8000,
          10000,
          11500,
          9800,
          10500,
          10800,
          8200,
          14000,
          7500,
          10500,
          13800,
          12000,
          17500,
          13800,
          16800,
          11800,
          13500,
          12000,
          8000,
          9500,
          9000,
          6200,
          11900,
          14000,
          11500,
          11000,
          9500,
          10000,
          16000,
          7900,
          13500,
          12500,
          12000,
          10000,
          6700,
          10500,
          15500,
          10500,
          13800,
          13500,
          8000,
          12500,
          13000,
          7500,
          8300,
          5500,
          8300,
          10800,
          6000,
          7300,
          9000,
          8550,
          13500,
          7800,
          15000,
          9000,
          15000,
          7500,
          11000,
          11800,
          7500,
          7700,
          8200,
          9700,
          7600,
          6700,
          7750,
          8800,
          8750,
          13500,
          8900,
          7300,
          8500,
          5000,
          8500,
          17000,
          8900,
          9200,
          7550,
          9800,
          8900,
          16000,
          7150,
          8900,
          10400,
          13500,
          9800,
          12500,
          9800,
          7500,
          7600,
          10200,
          10000,
          7200,
          12500,
          10500,
          12500,
          9000,
          8000,
          10000,
          12500,
          8800,
          9200,
          12500,
          17000,
          12800,
          8500,
          9000,
          12500,
          9500,
          9200,
          11800,
          9000,
          7800,
          12000,
          8500,
          8600,
          13800,
          9000,
          8500,
          6300,
          11900,
          8800,
          6800,
          9000,
          6577,
          10500,
          6000,
          12500,
          11900,
          8705,
          6545,
          7000,
          8500,
          8500,
          9500,
          8000,
          12500,
          13500,
          12500,
          12000,
          9000,
          12800,
          8500,
          9200,
          9000,
          8500,
          8900,
          7600,
          13000,
          9500,
          13500,
          13320,
          12800,
          7500,
          14500,
          8000,
          13000,
          6450,
          9000,
          8200,
          12000,
          16920,
          13000,
          11200,
          17000,
          14000,
          12600,
          9300,
          12600,
          13000,
          6800,
          10500,
          15500,
          16000,
          8500,
          12800,
          7500,
          12000,
          8000,
          8800,
          7500,
          15000,
          8400,
          8400,
          7400,
          8500,
          8000,
          8300,
          11000,
          9600,
          11800,
          6200,
          8000,
          7700,
          8800,
          7600,
          15000,
          7500,
          8999,
          13500,
          6600,
          12000,
          13000,
          7500,
          9600,
          9200,
          6500,
          8500,
          9300,
          13000,
          6600,
          9200,
          11500,
          7300,
          6400,
          14600,
          16500,
          9500,
          9000,
          11500,
          8500,
          8000,
          9700,
          10500,
          12300,
          9000,
          13200,
          11000,
          8000,
          8000,
          9000,
          6400,
          4700,
          10000,
          10000,
          12000,
          7800,
          12800,
          15000,
          11700,
          12000,
          13000,
          9500,
          16000,
          10000,
          8800,
          16999,
          18500,
          14000,
          13500,
          13000,
          8600,
          8500,
          8500,
          7500,
          11600,
          9800,
          11000,
          13000,
          13000,
          14500,
          9200,
          7800,
          8800,
          7009,
          11500,
          5929,
          15500,
          15000,
          7000,
          8000,
          22000,
          8500,
          9200,
          10500,
          6300,
          8000,
          4999,
          8500,
          9100,
          10500,
          15000,
          18500,
          15000,
          14000,
          12500,
          15800,
          23000,
          8900,
          15500,
          14000,
          8100,
          10300,
          8300,
          8500,
          9800,
          8000,
          6300,
          7200,
          8500,
          9500,
          13900,
          14000,
          9800,
          10900,
          8800,
          12000,
          7300,
          7700,
          18500,
          8400,
          12500,
          7500,
          17000,
          4300,
          6500,
          8000,
          9000,
          9600,
          7800,
          8500,
          13000,
          6400,
          15000,
          15120,
          15750,
          10500,
          15800,
          13500,
          9600,
          9500,
          7800,
          9300,
          17500,
          11200,
          11500,
          9000,
          8000,
          16800,
          8500,
          12000,
          8000,
          8900,
          9500,
          7000,
          8000,
          8500,
          8800,
          9000,
          11000,
          10000,
          11800,
          14000,
          6200,
          13500,
          11000,
          9600,
          14500,
          8600,
          12800,
          15000,
          12800,
          16800,
          13000,
          12000,
          16000,
          19800,
          13000,
          6500,
          15800,
          11500,
          12000,
          6900,
          10800,
          18000,
          13000,
          10800,
          6800,
          13800,
          9200,
          6800,
          8000,
          7300,
          5800,
          10800,
          13000,
          9500,
          12500,
          9500,
          15800,
          8300,
          15800,
          8500,
          12500,
          8200,
          11000,
          10800,
          7600,
          14220,
          9500,
          9000,
          10500,
          10000,
          7500,
          9900,
          11500,
          8000,
          6600,
          7800,
          12500,
          12000,
          14000,
          13000,
          10500,
          8200,
          8000,
          11000,
          8900,
          13000,
          7500,
          8100,
          12000,
          6500,
          10500,
          13000,
          6300,
          5800,
          11000,
          12800,
          11500,
          8500,
          8200,
          9000,
          8200,
          7500,
          13500,
          13500,
          5700,
          6600,
          13500,
          12000,
          10500,
          9800,
          8900,
          6300,
          10800,
          15000,
          7600,
          13500,
          8000,
          9800,
          7799,
          8300,
          10800,
          7600,
          12500,
          13000,
          8500,
          9000,
          15000,
          8500,
          8800,
          8800,
          11500,
          6800,
          11500,
          10000,
          8500,
          7500,
          6800,
          8500,
          13800,
          8200,
          9700,
          6050,
          7800,
          9000,
          7500,
          10000,
          9000,
          12420,
          10300,
          14000,
          9500,
          7200,
          5800,
          17000,
          6500,
          12600,
          14850,
          7600,
          9400,
          7200,
          8200,
          7800,
          7500,
          8300,
          8000,
          13000,
          12000,
          7500,
          9800,
          9000,
          9800,
          11000,
          11000,
          6200,
          7900,
          17000,
          9799,
          14000,
          11800,
          9300,
          9200,
          9800,
          12500,
          14800,
          8000,
          19800,
          8500,
          6400,
          7600,
          7500,
          13000,
          8000,
          6500,
          14500,
          13000,
          6600,
          10200,
          14000,
          9500,
          8100,
          9000,
          10500,
          16800,
          9300,
          15600,
          8100,
          14500,
          11500,
          12500,
          9300,
          7800,
          6500,
          8799,
          14500,
          7800,
          6300,
          7800,
          11000,
          8500,
          10500,
          8000,
          8000,
          14400
         ],
         "xaxis": "x",
         "y": [
          50,
          50,
          70,
          65,
          60,
          57,
          60,
          75,
          75,
          60,
          50,
          55,
          58,
          50,
          50,
          70,
          65,
          60,
          57,
          60,
          75,
          75,
          60,
          50,
          55,
          58,
          50,
          70,
          60,
          60,
          58,
          50,
          58,
          65,
          70,
          60,
          60,
          70,
          60,
          60,
          50,
          50,
          40,
          50,
          60,
          50,
          63,
          45,
          63,
          45,
          45,
          60,
          80,
          45,
          67,
          135,
          60,
          40,
          110,
          80,
          55,
          45,
          65,
          70,
          65,
          30,
          70,
          70,
          75,
          50,
          40,
          50,
          50,
          80,
          50,
          85,
          60,
          50,
          75,
          65,
          78,
          85,
          70,
          85,
          50,
          65,
          70,
          14,
          85,
          52,
          70,
          60,
          54,
          60,
          72,
          50,
          60,
          60,
          50,
          50,
          60,
          50,
          58,
          40,
          55,
          50,
          18,
          60,
          40,
          60,
          50,
          70,
          60,
          50,
          41,
          55,
          50,
          60,
          70,
          40,
          50,
          113,
          45,
          50,
          70,
          42,
          100,
          50,
          70,
          76,
          45,
          43,
          45,
          70,
          50,
          40,
          65,
          65,
          46,
          40,
          35,
          35,
          58,
          80,
          68,
          102,
          60,
          45,
          50,
          40,
          30,
          35,
          60,
          75,
          45,
          80,
          60,
          95,
          80,
          45,
          95,
          55,
          40,
          70,
          50,
          65,
          95,
          55,
          82,
          65,
          70,
          40,
          75,
          58,
          50,
          70,
          50,
          60,
          17,
          102,
          50,
          60,
          55,
          75,
          72,
          60,
          60,
          60,
          57,
          40,
          35,
          38,
          40,
          75,
          70,
          70,
          40,
          80,
          110,
          55,
          50,
          65,
          105,
          35,
          80,
          70,
          76,
          80,
          85,
          65,
          68,
          60,
          55,
          65,
          70,
          75,
          50,
          50,
          45,
          75,
          60,
          58,
          50,
          35,
          40,
          60,
          40,
          65,
          75,
          60,
          50,
          65,
          50,
          100,
          40,
          60,
          47,
          40,
          70,
          70,
          45,
          45,
          80,
          55,
          55,
          70,
          55,
          76,
          70,
          70,
          78,
          80,
          80,
          50,
          50,
          65,
          70,
          55,
          60,
          75,
          80,
          65,
          56,
          50,
          60,
          80,
          55,
          35,
          80,
          85,
          75,
          51,
          45,
          75,
          70,
          50,
          60,
          60,
          70,
          70,
          50,
          65,
          50,
          75,
          75,
          70,
          70,
          55,
          40,
          70,
          46,
          40,
          60,
          75,
          70,
          40,
          38,
          65,
          65,
          70,
          50,
          45,
          70,
          70,
          60,
          55,
          53,
          45,
          58,
          75,
          65,
          65,
          70,
          50,
          35,
          65,
          55,
          70,
          45,
          75,
          60,
          70,
          45,
          70,
          70,
          60,
          50,
          70,
          90,
          75,
          70,
          65,
          70,
          48,
          65,
          70,
          60,
          60,
          90,
          80,
          70,
          70,
          45,
          78,
          56,
          42,
          70,
          50,
          65,
          30,
          60,
          50,
          55,
          68,
          45,
          80,
          55,
          76,
          40,
          40,
          70,
          48,
          60,
          65,
          80,
          55,
          12,
          50,
          60,
          80,
          60,
          58,
          75,
          25,
          60,
          59,
          58,
          55,
          50,
          70,
          55,
          60,
          85,
          50,
          35,
          60,
          50,
          45,
          45,
          40,
          65,
          80,
          45,
          78,
          80,
          80,
          68,
          75,
          50,
          62,
          75,
          45,
          58,
          60,
          60,
          45,
          70,
          50,
          45,
          50,
          48,
          70,
          50,
          60,
          80,
          75,
          30,
          65,
          75,
          102,
          70,
          35,
          90,
          50,
          60,
          45,
          60,
          85,
          45,
          80,
          60,
          55,
          75,
          55,
          78,
          91,
          50,
          75,
          85,
          50,
          70,
          20,
          75,
          60,
          50,
          60,
          60,
          45,
          80,
          45,
          55,
          45,
          40,
          50,
          57,
          60,
          60,
          56,
          75,
          68,
          60,
          70,
          40,
          50,
          30,
          65,
          68,
          68,
          78,
          60,
          45,
          60,
          68,
          68,
          50,
          60,
          50,
          50,
          58,
          60,
          50,
          55,
          93,
          68,
          88,
          58,
          60,
          58,
          80,
          90,
          78,
          68,
          78,
          68,
          68,
          68,
          68,
          75,
          65,
          50,
          50,
          55,
          62,
          65,
          50,
          71,
          80,
          70,
          40,
          45,
          45,
          35,
          59,
          90,
          70,
          45,
          80,
          35,
          57,
          75,
          80,
          80,
          54,
          40,
          75,
          80,
          54,
          60,
          70,
          45,
          30,
          30,
          45,
          50,
          50,
          50,
          60,
          62,
          55,
          100,
          90,
          50,
          50,
          50,
          70,
          90,
          78,
          60,
          60,
          70,
          80,
          48,
          60,
          70,
          70,
          60,
          70,
          60,
          35,
          60,
          50,
          45,
          60,
          70,
          40,
          40,
          68,
          55,
          70,
          55,
          45,
          100,
          50,
          40,
          30,
          52,
          78,
          80,
          91,
          50,
          80,
          46,
          60,
          40,
          40,
          70,
          65,
          80,
          60,
          60,
          65,
          35,
          40,
          65,
          80,
          67,
          70,
          55,
          65,
          48,
          30,
          58,
          50,
          45,
          70,
          65,
          40,
          89,
          70,
          42,
          76,
          55,
          60,
          47,
          60,
          60,
          70,
          60,
          40,
          60,
          70,
          55,
          50,
          70,
          65,
          65,
          65,
          70,
          50,
          55,
          50,
          58,
          65,
          60,
          54,
          66,
          50,
          50,
          45,
          80,
          76,
          50,
          46,
          55,
          70,
          31,
          60,
          40,
          50,
          55,
          60,
          45,
          50,
          50,
          80,
          62,
          60,
          140,
          50,
          80,
          40,
          90,
          56,
          70,
          40,
          40,
          55,
          70,
          36,
          70,
          40,
          40,
          60,
          80,
          60,
          45,
          65,
          80,
          85,
          60,
          65,
          80,
          60,
          60,
          70,
          50,
          70,
          70,
          65,
          30,
          80,
          30,
          59,
          55,
          60,
          80,
          60,
          50,
          33,
          31,
          50,
          60,
          90,
          50,
          65,
          50,
          78,
          70,
          35,
          35,
          70,
          60,
          70,
          70,
          60,
          70,
          48,
          50,
          80,
          58,
          50,
          80,
          85,
          60,
          45,
          55,
          60,
          53,
          50,
          80,
          75,
          70,
          50,
          80,
          60,
          65,
          78,
          68,
          70,
          70,
          60,
          50,
          85,
          75,
          80,
          70,
          70,
          55,
          80,
          50,
          68,
          40,
          60,
          60,
          50,
          50,
          70,
          65,
          60,
          88,
          65,
          30,
          30,
          50,
          75,
          60,
          68,
          58,
          50,
          70,
          60,
          45,
          50,
          75,
          55,
          50,
          70,
          52,
          58,
          80,
          65,
          80,
          46,
          50,
          50,
          58,
          65,
          65,
          80,
          65,
          70,
          90,
          56,
          60,
          75,
          35,
          50,
          45,
          50,
          55,
          49,
          40,
          80,
          80,
          75,
          90,
          76,
          60,
          60,
          75,
          68,
          68,
          45,
          80,
          65,
          70,
          60,
          38,
          60,
          50,
          60,
          60,
          70,
          65,
          54,
          23,
          70,
          82,
          71,
          50,
          40,
          80,
          80,
          90,
          90,
          70,
          60,
          50,
          65,
          70,
          50,
          80,
          65,
          96,
          70,
          120,
          75,
          90,
          85,
          60,
          60,
          88,
          70,
          40,
          70,
          45,
          55,
          45,
          55,
          80,
          55,
          85,
          70,
          55,
          30,
          40,
          80,
          50,
          60,
          90,
          65,
          60,
          50,
          65,
          62,
          50,
          50,
          50,
          45,
          40,
          90,
          50,
          70,
          50,
          40,
          27,
          52,
          75,
          65,
          78,
          81,
          70,
          68,
          60,
          68,
          70,
          60,
          65,
          75,
          70,
          60,
          45,
          50,
          50,
          40,
          74,
          70,
          70,
          50,
          80,
          55,
          59,
          38,
          80,
          58,
          70,
          60,
          78,
          68,
          68,
          78,
          60,
          78,
          78,
          68,
          65,
          68,
          68,
          78,
          80,
          60,
          75,
          60,
          60,
          78,
          48,
          88,
          70,
          68,
          68,
          80,
          68,
          55,
          90,
          60,
          70,
          60,
          60,
          25,
          50,
          80,
          40,
          50,
          50,
          55,
          70,
          70,
          60,
          70,
          70,
          70,
          100,
          75,
          62,
          60,
          65,
          62,
          60,
          70,
          50,
          45,
          50,
          65,
          105,
          70,
          65,
          55,
          90,
          65,
          70,
          70,
          60,
          80,
          40,
          40,
          40,
          60,
          40,
          60,
          55,
          70,
          50,
          55,
          70,
          55,
          50,
          55,
          70,
          90,
          70,
          55,
          50,
          75,
          65,
          90,
          70,
          60,
          60,
          70,
          75,
          75,
          45,
          80,
          55,
          55,
          50,
          60,
          65,
          60,
          50,
          65,
          60,
          50,
          80,
          60,
          60,
          70,
          60,
          60,
          40,
          50,
          70,
          35,
          50,
          70,
          70,
          55,
          50,
          42,
          55,
          66,
          50,
          70,
          60,
          60,
          45,
          50,
          65,
          80,
          60,
          45,
          70,
          100,
          55,
          76,
          40,
          65,
          55,
          65,
          55,
          95,
          90,
          70,
          55,
          76,
          48,
          60,
          55,
          65,
          40,
          76,
          90,
          70,
          60,
          90,
          88,
          60,
          60,
          70,
          68,
          75,
          70,
          70,
          30,
          50,
          86,
          35,
          75,
          80,
          82,
          85,
          60,
          50,
          90,
          55,
          70,
          80,
          75,
          48,
          68,
          60,
          55,
          45,
          80,
          58,
          78,
          63,
          60,
          62,
          68,
          70,
          45,
          55,
          45,
          70,
          40,
          80,
          75,
          85,
          50,
          65,
          75,
          60,
          60,
          70,
          80,
          50,
          58,
          60,
          55,
          60,
          70,
          60,
          50,
          75,
          55,
          45,
          64,
          60,
          75,
          50,
          45,
          50,
          52,
          40,
          50,
          68,
          50,
          55,
          58,
          70,
          50,
          50,
          49,
          70,
          50,
          65,
          40,
          58,
          70,
          60,
          60,
          35,
          75,
          90,
          65,
          70,
          65,
          70,
          50,
          50,
          70,
          80,
          88,
          50,
          60,
          65,
          60,
          60,
          70,
          45,
          80,
          75,
          75,
          70,
          55,
          70,
          65,
          35,
          65,
          90,
          76,
          80,
          60,
          60,
          50,
          50,
          80,
          60,
          70,
          50,
          45,
          88,
          80,
          65,
          60,
          70,
          45,
          25,
          35,
          70,
          70,
          55,
          60,
          50,
          40,
          50,
          55,
          65,
          50,
          70,
          50,
          30,
          80,
          30,
          40,
          30,
          60,
          50,
          75,
          45,
          55,
          70,
          70,
          90,
          70,
          95,
          60,
          65,
          65,
          65,
          100,
          45,
          105,
          70,
          50,
          50,
          40,
          70,
          70,
          65,
          70,
          80,
          55,
          90,
          55,
          71,
          70,
          75,
          80,
          60,
          50,
          70,
          50,
          45,
          50,
          55,
          60,
          70,
          50,
          60,
          60,
          60,
          50,
          65,
          60,
          60,
          60,
          65,
          80,
          63,
          65,
          88,
          60,
          75,
          60,
          90,
          60,
          58,
          50,
          48,
          65,
          55,
          65,
          78,
          45,
          41,
          35,
          48,
          85,
          65,
          52,
          75,
          57,
          55,
          53,
          55,
          95,
          65,
          50,
          50,
          60,
          60,
          80,
          50,
          80,
          55,
          95,
          65,
          70,
          50,
          60,
          55,
          75,
          65,
          60,
          50,
          60,
          78,
          50,
          55,
          75,
          55,
          70,
          55,
          75,
          90,
          65,
          35,
          70,
          40,
          50,
          80,
          68,
          59,
          70,
          58,
          49,
          50,
          90,
          65,
          80,
          48,
          50,
          50,
          46,
          80,
          65,
          90,
          80,
          100,
          90,
          65,
          60,
          80,
          65,
          75,
          70,
          50,
          70,
          45,
          70,
          70,
          55,
          90,
          70,
          50,
          70,
          80,
          60,
          45,
          65,
          48,
          60,
          48,
          50,
          18,
          40,
          62,
          78,
          60,
          71,
          45,
          52,
          60,
          50,
          80,
          70,
          40,
          80,
          40,
          40,
          70,
          60,
          60,
          80,
          50,
          80,
          60,
          80,
          71,
          45,
          70,
          60,
          40,
          40,
          50,
          60,
          50,
          40,
          128,
          60,
          75,
          48,
          65,
          60,
          65,
          70,
          60,
          65,
          32,
          70,
          65,
          50,
          80,
          50,
          25,
          75,
          35,
          65,
          65,
          55,
          50,
          55,
          50,
          100,
          45,
          70,
          50,
          60,
          50,
          65,
          60,
          60,
          50,
          72,
          55,
          55,
          50,
          65,
          85,
          65,
          90,
          80,
          70,
          50,
          65,
          55,
          50,
          50,
          60,
          52,
          68,
          60,
          80,
          60,
          65,
          60,
          65,
          50,
          90,
          90,
          75,
          60,
          40,
          60,
          65,
          60,
          80,
          75,
          40,
          80,
          70,
          55,
          50,
          40,
          50,
          60,
          78,
          78,
          68,
          78,
          80,
          60,
          60,
          55,
          65,
          50,
          60,
          80,
          50,
          55,
          65,
          60,
          45,
          38,
          68,
          65,
          68,
          90,
          78,
          68,
          65,
          62,
          50,
          88,
          88,
          65,
          68,
          88,
          78,
          64,
          68,
          78,
          88,
          70,
          50,
          70,
          65,
          50,
          50,
          63,
          57,
          50,
          70,
          60,
          70,
          78,
          50,
          43,
          60,
          55,
          40,
          75,
          88,
          85,
          68,
          60,
          60,
          60,
          70,
          60,
          55,
          45,
          70,
          60,
          60,
          70,
          60,
          55,
          40,
          60,
          60,
          55,
          60,
          30,
          78,
          40,
          60,
          60,
          60,
          40,
          41,
          45,
          50,
          55,
          55,
          60,
          70,
          65,
          60,
          55,
          65,
          50,
          40,
          65,
          50,
          60,
          55,
          60,
          68,
          70,
          60,
          75,
          50,
          70,
          45,
          60,
          55,
          70,
          50,
          67,
          90,
          65,
          60,
          88,
          85,
          70,
          70,
          70,
          85,
          45,
          78,
          78,
          80,
          55,
          70,
          56,
          70,
          57,
          60,
          50,
          100,
          60,
          58,
          55,
          50,
          78,
          50,
          80,
          50,
          70,
          40,
          50,
          48,
          50,
          50,
          65,
          50,
          50,
          85,
          45,
          65,
          75,
          50,
          58,
          70,
          50,
          55,
          60,
          75,
          45,
          55,
          85,
          50,
          35,
          70,
          77,
          61,
          58,
          70,
          65,
          50,
          70,
          60,
          68,
          50,
          68,
          65,
          65,
          55,
          50,
          45,
          40,
          50,
          60,
          70,
          51,
          80,
          78,
          65,
          80,
          75,
          60,
          70,
          60,
          50,
          80,
          70,
          60,
          70,
          55,
          60,
          65,
          55,
          45,
          75,
          55,
          65,
          80,
          70,
          80,
          55,
          50,
          50,
          44,
          75,
          35,
          70,
          75,
          45,
          50,
          71,
          50,
          60,
          60,
          39,
          50,
          70,
          55,
          60,
          81,
          72,
          78,
          78,
          50,
          90,
          78,
          91,
          70,
          68,
          70,
          50,
          60,
          58,
          70,
          55,
          50,
          45,
          45,
          50,
          60,
          90,
          65,
          60,
          78,
          50,
          75,
          50,
          58,
          76,
          50,
          75,
          40,
          75,
          40,
          50,
          60,
          60,
          60,
          50,
          50,
          70,
          68,
          78,
          78,
          85,
          65,
          68,
          65,
          50,
          60,
          70,
          50,
          100,
          70,
          70,
          65,
          50,
          100,
          50,
          70,
          50,
          65,
          60,
          50,
          50,
          50,
          60,
          66,
          60,
          65,
          80,
          65,
          70,
          75,
          70,
          75,
          70,
          50,
          70,
          80,
          70,
          70,
          85,
          70,
          60,
          100,
          70,
          50,
          70,
          60,
          75,
          45,
          60,
          84,
          75,
          60,
          50,
          70,
          60,
          40,
          50,
          48,
          40,
          65,
          60,
          60,
          70,
          60,
          60,
          55,
          75,
          58,
          70,
          48,
          60,
          65,
          50,
          80,
          68,
          78,
          92,
          88,
          68,
          88,
          78,
          36,
          40,
          68,
          75,
          70,
          70,
          75,
          60,
          50,
          60,
          70,
          58,
          60,
          55,
          60,
          60,
          50,
          65,
          60,
          50,
          40,
          70,
          85,
          65,
          50,
          45,
          78,
          68,
          50,
          70,
          100,
          36,
          40,
          70,
          80,
          80,
          60,
          50,
          40,
          60,
          65,
          58,
          80,
          32,
          65,
          50,
          55,
          65,
          55,
          80,
          70,
          50,
          40,
          70,
          45,
          55,
          60,
          70,
          40,
          80,
          65,
          60,
          50,
          45,
          60,
          70,
          60,
          70,
          62,
          45,
          68,
          60,
          56,
          78,
          65,
          70,
          75,
          78,
          78,
          55,
          85,
          58,
          85,
          75,
          45,
          50,
          50,
          50,
          60,
          50,
          65,
          45,
          85,
          65,
          50,
          45,
          55,
          60,
          70,
          70,
          38,
          45,
          92,
          55,
          80,
          60,
          60,
          60,
          65,
          75,
          80,
          80,
          75,
          78,
          45,
          60,
          40,
          50,
          45,
          35,
          80,
          70,
          38,
          50,
          70,
          60,
          60,
          58,
          50,
          100,
          65,
          70,
          60,
          70,
          68,
          78,
          55,
          50,
          50,
          60,
          75,
          50,
          43,
          50,
          60,
          55,
          65,
          50,
          60,
          90
         ],
         "yaxis": "y"
        }
       ],
       "layout": {
        "height": 700,
        "legend": {
         "tracegroupgap": 0
        },
        "margin": {
         "t": 60
        },
        "template": {
         "data": {
          "bar": [
           {
            "error_x": {
             "color": "#2a3f5f"
            },
            "error_y": {
             "color": "#2a3f5f"
            },
            "marker": {
             "line": {
              "color": "#E5ECF6",
              "width": 0.5
             }
            },
            "type": "bar"
           }
          ],
          "barpolar": [
           {
            "marker": {
             "line": {
              "color": "#E5ECF6",
              "width": 0.5
             }
            },
            "type": "barpolar"
           }
          ],
          "carpet": [
           {
            "aaxis": {
             "endlinecolor": "#2a3f5f",
             "gridcolor": "white",
             "linecolor": "white",
             "minorgridcolor": "white",
             "startlinecolor": "#2a3f5f"
            },
            "baxis": {
             "endlinecolor": "#2a3f5f",
             "gridcolor": "white",
             "linecolor": "white",
             "minorgridcolor": "white",
             "startlinecolor": "#2a3f5f"
            },
            "type": "carpet"
           }
          ],
          "choropleth": [
           {
            "colorbar": {
             "outlinewidth": 0,
             "ticks": ""
            },
            "type": "choropleth"
           }
          ],
          "contour": [
           {
            "colorbar": {
             "outlinewidth": 0,
             "ticks": ""
            },
            "colorscale": [
             [
              0,
              "#0d0887"
             ],
             [
              0.1111111111111111,
              "#46039f"
             ],
             [
              0.2222222222222222,
              "#7201a8"
             ],
             [
              0.3333333333333333,
              "#9c179e"
             ],
             [
              0.4444444444444444,
              "#bd3786"
             ],
             [
              0.5555555555555556,
              "#d8576b"
             ],
             [
              0.6666666666666666,
              "#ed7953"
             ],
             [
              0.7777777777777778,
              "#fb9f3a"
             ],
             [
              0.8888888888888888,
              "#fdca26"
             ],
             [
              1,
              "#f0f921"
             ]
            ],
            "type": "contour"
           }
          ],
          "contourcarpet": [
           {
            "colorbar": {
             "outlinewidth": 0,
             "ticks": ""
            },
            "type": "contourcarpet"
           }
          ],
          "heatmap": [
           {
            "colorbar": {
             "outlinewidth": 0,
             "ticks": ""
            },
            "colorscale": [
             [
              0,
              "#0d0887"
             ],
             [
              0.1111111111111111,
              "#46039f"
             ],
             [
              0.2222222222222222,
              "#7201a8"
             ],
             [
              0.3333333333333333,
              "#9c179e"
             ],
             [
              0.4444444444444444,
              "#bd3786"
             ],
             [
              0.5555555555555556,
              "#d8576b"
             ],
             [
              0.6666666666666666,
              "#ed7953"
             ],
             [
              0.7777777777777778,
              "#fb9f3a"
             ],
             [
              0.8888888888888888,
              "#fdca26"
             ],
             [
              1,
              "#f0f921"
             ]
            ],
            "type": "heatmap"
           }
          ],
          "heatmapgl": [
           {
            "colorbar": {
             "outlinewidth": 0,
             "ticks": ""
            },
            "colorscale": [
             [
              0,
              "#0d0887"
             ],
             [
              0.1111111111111111,
              "#46039f"
             ],
             [
              0.2222222222222222,
              "#7201a8"
             ],
             [
              0.3333333333333333,
              "#9c179e"
             ],
             [
              0.4444444444444444,
              "#bd3786"
             ],
             [
              0.5555555555555556,
              "#d8576b"
             ],
             [
              0.6666666666666666,
              "#ed7953"
             ],
             [
              0.7777777777777778,
              "#fb9f3a"
             ],
             [
              0.8888888888888888,
              "#fdca26"
             ],
             [
              1,
              "#f0f921"
             ]
            ],
            "type": "heatmapgl"
           }
          ],
          "histogram": [
           {
            "marker": {
             "colorbar": {
              "outlinewidth": 0,
              "ticks": ""
             }
            },
            "type": "histogram"
           }
          ],
          "histogram2d": [
           {
            "colorbar": {
             "outlinewidth": 0,
             "ticks": ""
            },
            "colorscale": [
             [
              0,
              "#0d0887"
             ],
             [
              0.1111111111111111,
              "#46039f"
             ],
             [
              0.2222222222222222,
              "#7201a8"
             ],
             [
              0.3333333333333333,
              "#9c179e"
             ],
             [
              0.4444444444444444,
              "#bd3786"
             ],
             [
              0.5555555555555556,
              "#d8576b"
             ],
             [
              0.6666666666666666,
              "#ed7953"
             ],
             [
              0.7777777777777778,
              "#fb9f3a"
             ],
             [
              0.8888888888888888,
              "#fdca26"
             ],
             [
              1,
              "#f0f921"
             ]
            ],
            "type": "histogram2d"
           }
          ],
          "histogram2dcontour": [
           {
            "colorbar": {
             "outlinewidth": 0,
             "ticks": ""
            },
            "colorscale": [
             [
              0,
              "#0d0887"
             ],
             [
              0.1111111111111111,
              "#46039f"
             ],
             [
              0.2222222222222222,
              "#7201a8"
             ],
             [
              0.3333333333333333,
              "#9c179e"
             ],
             [
              0.4444444444444444,
              "#bd3786"
             ],
             [
              0.5555555555555556,
              "#d8576b"
             ],
             [
              0.6666666666666666,
              "#ed7953"
             ],
             [
              0.7777777777777778,
              "#fb9f3a"
             ],
             [
              0.8888888888888888,
              "#fdca26"
             ],
             [
              1,
              "#f0f921"
             ]
            ],
            "type": "histogram2dcontour"
           }
          ],
          "mesh3d": [
           {
            "colorbar": {
             "outlinewidth": 0,
             "ticks": ""
            },
            "type": "mesh3d"
           }
          ],
          "parcoords": [
           {
            "line": {
             "colorbar": {
              "outlinewidth": 0,
              "ticks": ""
             }
            },
            "type": "parcoords"
           }
          ],
          "pie": [
           {
            "automargin": true,
            "type": "pie"
           }
          ],
          "scatter": [
           {
            "marker": {
             "colorbar": {
              "outlinewidth": 0,
              "ticks": ""
             }
            },
            "type": "scatter"
           }
          ],
          "scatter3d": [
           {
            "line": {
             "colorbar": {
              "outlinewidth": 0,
              "ticks": ""
             }
            },
            "marker": {
             "colorbar": {
              "outlinewidth": 0,
              "ticks": ""
             }
            },
            "type": "scatter3d"
           }
          ],
          "scattercarpet": [
           {
            "marker": {
             "colorbar": {
              "outlinewidth": 0,
              "ticks": ""
             }
            },
            "type": "scattercarpet"
           }
          ],
          "scattergeo": [
           {
            "marker": {
             "colorbar": {
              "outlinewidth": 0,
              "ticks": ""
             }
            },
            "type": "scattergeo"
           }
          ],
          "scattergl": [
           {
            "marker": {
             "colorbar": {
              "outlinewidth": 0,
              "ticks": ""
             }
            },
            "type": "scattergl"
           }
          ],
          "scattermapbox": [
           {
            "marker": {
             "colorbar": {
              "outlinewidth": 0,
              "ticks": ""
             }
            },
            "type": "scattermapbox"
           }
          ],
          "scatterpolar": [
           {
            "marker": {
             "colorbar": {
              "outlinewidth": 0,
              "ticks": ""
             }
            },
            "type": "scatterpolar"
           }
          ],
          "scatterpolargl": [
           {
            "marker": {
             "colorbar": {
              "outlinewidth": 0,
              "ticks": ""
             }
            },
            "type": "scatterpolargl"
           }
          ],
          "scatterternary": [
           {
            "marker": {
             "colorbar": {
              "outlinewidth": 0,
              "ticks": ""
             }
            },
            "type": "scatterternary"
           }
          ],
          "surface": [
           {
            "colorbar": {
             "outlinewidth": 0,
             "ticks": ""
            },
            "colorscale": [
             [
              0,
              "#0d0887"
             ],
             [
              0.1111111111111111,
              "#46039f"
             ],
             [
              0.2222222222222222,
              "#7201a8"
             ],
             [
              0.3333333333333333,
              "#9c179e"
             ],
             [
              0.4444444444444444,
              "#bd3786"
             ],
             [
              0.5555555555555556,
              "#d8576b"
             ],
             [
              0.6666666666666666,
              "#ed7953"
             ],
             [
              0.7777777777777778,
              "#fb9f3a"
             ],
             [
              0.8888888888888888,
              "#fdca26"
             ],
             [
              1,
              "#f0f921"
             ]
            ],
            "type": "surface"
           }
          ],
          "table": [
           {
            "cells": {
             "fill": {
              "color": "#EBF0F8"
             },
             "line": {
              "color": "white"
             }
            },
            "header": {
             "fill": {
              "color": "#C8D4E3"
             },
             "line": {
              "color": "white"
             }
            },
            "type": "table"
           }
          ]
         },
         "layout": {
          "annotationdefaults": {
           "arrowcolor": "#2a3f5f",
           "arrowhead": 0,
           "arrowwidth": 1
          },
          "coloraxis": {
           "colorbar": {
            "outlinewidth": 0,
            "ticks": ""
           }
          },
          "colorscale": {
           "diverging": [
            [
             0,
             "#8e0152"
            ],
            [
             0.1,
             "#c51b7d"
            ],
            [
             0.2,
             "#de77ae"
            ],
            [
             0.3,
             "#f1b6da"
            ],
            [
             0.4,
             "#fde0ef"
            ],
            [
             0.5,
             "#f7f7f7"
            ],
            [
             0.6,
             "#e6f5d0"
            ],
            [
             0.7,
             "#b8e186"
            ],
            [
             0.8,
             "#7fbc41"
            ],
            [
             0.9,
             "#4d9221"
            ],
            [
             1,
             "#276419"
            ]
           ],
           "sequential": [
            [
             0,
             "#0d0887"
            ],
            [
             0.1111111111111111,
             "#46039f"
            ],
            [
             0.2222222222222222,
             "#7201a8"
            ],
            [
             0.3333333333333333,
             "#9c179e"
            ],
            [
             0.4444444444444444,
             "#bd3786"
            ],
            [
             0.5555555555555556,
             "#d8576b"
            ],
            [
             0.6666666666666666,
             "#ed7953"
            ],
            [
             0.7777777777777778,
             "#fb9f3a"
            ],
            [
             0.8888888888888888,
             "#fdca26"
            ],
            [
             1,
             "#f0f921"
            ]
           ],
           "sequentialminus": [
            [
             0,
             "#0d0887"
            ],
            [
             0.1111111111111111,
             "#46039f"
            ],
            [
             0.2222222222222222,
             "#7201a8"
            ],
            [
             0.3333333333333333,
             "#9c179e"
            ],
            [
             0.4444444444444444,
             "#bd3786"
            ],
            [
             0.5555555555555556,
             "#d8576b"
            ],
            [
             0.6666666666666666,
             "#ed7953"
            ],
            [
             0.7777777777777778,
             "#fb9f3a"
            ],
            [
             0.8888888888888888,
             "#fdca26"
            ],
            [
             1,
             "#f0f921"
            ]
           ]
          },
          "colorway": [
           "#636efa",
           "#EF553B",
           "#00cc96",
           "#ab63fa",
           "#FFA15A",
           "#19d3f3",
           "#FF6692",
           "#B6E880",
           "#FF97FF",
           "#FECB52"
          ],
          "font": {
           "color": "#2a3f5f"
          },
          "geo": {
           "bgcolor": "white",
           "lakecolor": "white",
           "landcolor": "#E5ECF6",
           "showlakes": true,
           "showland": true,
           "subunitcolor": "white"
          },
          "hoverlabel": {
           "align": "left"
          },
          "hovermode": "closest",
          "mapbox": {
           "style": "light"
          },
          "paper_bgcolor": "white",
          "plot_bgcolor": "#E5ECF6",
          "polar": {
           "angularaxis": {
            "gridcolor": "white",
            "linecolor": "white",
            "ticks": ""
           },
           "bgcolor": "#E5ECF6",
           "radialaxis": {
            "gridcolor": "white",
            "linecolor": "white",
            "ticks": ""
           }
          },
          "scene": {
           "xaxis": {
            "backgroundcolor": "#E5ECF6",
            "gridcolor": "white",
            "gridwidth": 2,
            "linecolor": "white",
            "showbackground": true,
            "ticks": "",
            "zerolinecolor": "white"
           },
           "yaxis": {
            "backgroundcolor": "#E5ECF6",
            "gridcolor": "white",
            "gridwidth": 2,
            "linecolor": "white",
            "showbackground": true,
            "ticks": "",
            "zerolinecolor": "white"
           },
           "zaxis": {
            "backgroundcolor": "#E5ECF6",
            "gridcolor": "white",
            "gridwidth": 2,
            "linecolor": "white",
            "showbackground": true,
            "ticks": "",
            "zerolinecolor": "white"
           }
          },
          "shapedefaults": {
           "line": {
            "color": "#2a3f5f"
           }
          },
          "ternary": {
           "aaxis": {
            "gridcolor": "white",
            "linecolor": "white",
            "ticks": ""
           },
           "baxis": {
            "gridcolor": "white",
            "linecolor": "white",
            "ticks": ""
           },
           "bgcolor": "#E5ECF6",
           "caxis": {
            "gridcolor": "white",
            "linecolor": "white",
            "ticks": ""
           }
          },
          "title": {
           "x": 0.05
          },
          "xaxis": {
           "automargin": true,
           "gridcolor": "white",
           "linecolor": "white",
           "ticks": "",
           "title": {
            "standoff": 15
           },
           "zerolinecolor": "white",
           "zerolinewidth": 2
          },
          "yaxis": {
           "automargin": true,
           "gridcolor": "white",
           "linecolor": "white",
           "ticks": "",
           "title": {
            "standoff": 15
           },
           "zerolinecolor": "white",
           "zerolinewidth": 2
          }
         }
        },
        "title": {
         "text": "Relationship between Apartment Size and Monthly Rental Fee"
        },
        "width": 700,
        "xaxis": {
         "anchor": "y",
         "domain": [
          0,
          1
         ],
         "title": {
          "text": "Monthly Rental Fee"
         }
        },
        "yaxis": {
         "anchor": "x",
         "domain": [
          0,
          1
         ],
         "title": {
          "text": "Total Apartment Size (sqm)"
         }
        }
       }
      }
     },
     "metadata": {}
    }
   ],
   "metadata": {}
  },
  {
   "cell_type": "code",
   "execution_count": 13,
   "source": [
    "##rent fee per sqm descriptive stats\n",
    "\n",
    "print(\"Minimum: {}\".format(round(price_df['price_per_sqm'].min())))\n",
    "print(\"Maximum: {}\".format(round(price_df['price_per_sqm'].max())))\n",
    "print(\"Mean: {}\".format(round(price_df['price_per_sqm'].mean())))\n",
    "print(\"Median: {}\".format(price_df['price_per_sqm'].quantile(q = 0.5)))\n",
    "print(\"10th Percentile Value: {}\".format(price_df['price_per_sqm'].quantile(q = 0.1)))\n",
    "print(\"90th Percentile Value: {}\".format(price_df['price_per_sqm'].quantile(q = 0.9)))"
   ],
   "outputs": [
    {
     "output_type": "stream",
     "name": "stdout",
     "text": [
      "Minimum: 71\n",
      "Maximum: 320\n",
      "Mean: 169\n",
      "Median: 167.0\n",
      "10th Percentile Value: 131.0\n",
      "90th Percentile Value: 214.0\n"
     ]
    }
   ],
   "metadata": {}
  },
  {
   "cell_type": "code",
   "execution_count": 15,
   "source": [
    "price_df.loc[:,('price_per_sqm_bin')] = ['a_130' if 0 <= x <= 130 else\n",
    "                                         'b_131_140' if 131 <= x <= 140 else\n",
    "                                         'c_141_150' if 141 <= x <= 150 else\n",
    "                                         'd_151_160' if 151 <= x <= 160 else\n",
    "                                         'e_161_170' if 161 <= x <= 170 else\n",
    "                                         'f_171_180' if 171 <= x <= 180 else\n",
    "                                         'g_181_190' if 181 <= x <= 190 else\n",
    "                                         'h_191_200' if 191 <= x <= 200 else\n",
    "                                         'i_201_210' if 201 <= x <= 210 else\n",
    "                                         'j_211' for x in price_df['price_per_sqm']]"
   ],
   "outputs": [],
   "metadata": {}
  },
  {
   "cell_type": "code",
   "execution_count": 17,
   "source": [
    "price_per_sqm_stats_df = price_df.groupby('price_per_sqm_bin').count().reset_index().\\\n",
    "                                  rename(columns = {'id':'apartment_count'})[['price_per_sqm_bin','apartment_count']]\n",
    "\n",
    "fig = px.bar(price_per_sqm_stats_df,\n",
    "             x=\"price_per_sqm_bin\",\n",
    "             y=\"apartment_count\",\n",
    "             text='apartment_count')\n",
    "\n",
    "fig.update_traces(textposition='inside',\n",
    "                  texttemplate='%{text}',\n",
    "                  marker_color='#106e45',\n",
    "                  textfont_size=14)\n",
    "\n",
    "fig.update_layout(title_text = 'Apartment Count by Monthly Rental Fee per Square Meter',\n",
    "                  yaxis_title = 'Number of Apartments',\n",
    "                  xaxis_title = 'Square Meter Rental Fee',\n",
    "                  height = 500, width = 1000)\n",
    "\n",
    "for idx in range(len(fig.data)):\n",
    "    fig.data[idx].x = ['<130','130–140','140–150','150–160','160–170','170–180','190–200','200–210','>210']\n",
    "\n",
    "fig.show()"
   ],
   "outputs": [
    {
     "output_type": "display_data",
     "data": {
      "application/vnd.plotly.v1+json": {
       "config": {
        "plotlyServerURL": "https://plot.ly"
       },
       "data": [
        {
         "alignmentgroup": "True",
         "hoverlabel": {
          "namelength": 0
         },
         "hovertemplate": "price_per_sqm_bin=%{x}<br>apartment_count=%{text}",
         "legendgroup": "",
         "marker": {
          "color": "#106e45"
         },
         "name": "",
         "offsetgroup": "",
         "orientation": "v",
         "showlegend": false,
         "text": [
          187,
          164,
          253,
          273,
          250,
          241,
          180,
          165,
          62,
          232
         ],
         "textfont": {
          "size": 14
         },
         "textposition": "inside",
         "texttemplate": "%{text}",
         "type": "bar",
         "x": [
          "<130",
          "130–140",
          "140–150",
          "150–160",
          "160–170",
          "170–180",
          "190–200",
          "200–210",
          ">210"
         ],
         "xaxis": "x",
         "y": [
          187,
          164,
          253,
          273,
          250,
          241,
          180,
          165,
          62,
          232
         ],
         "yaxis": "y"
        }
       ],
       "layout": {
        "barmode": "relative",
        "height": 500,
        "legend": {
         "tracegroupgap": 0
        },
        "margin": {
         "t": 60
        },
        "template": {
         "data": {
          "bar": [
           {
            "error_x": {
             "color": "#2a3f5f"
            },
            "error_y": {
             "color": "#2a3f5f"
            },
            "marker": {
             "line": {
              "color": "#E5ECF6",
              "width": 0.5
             }
            },
            "type": "bar"
           }
          ],
          "barpolar": [
           {
            "marker": {
             "line": {
              "color": "#E5ECF6",
              "width": 0.5
             }
            },
            "type": "barpolar"
           }
          ],
          "carpet": [
           {
            "aaxis": {
             "endlinecolor": "#2a3f5f",
             "gridcolor": "white",
             "linecolor": "white",
             "minorgridcolor": "white",
             "startlinecolor": "#2a3f5f"
            },
            "baxis": {
             "endlinecolor": "#2a3f5f",
             "gridcolor": "white",
             "linecolor": "white",
             "minorgridcolor": "white",
             "startlinecolor": "#2a3f5f"
            },
            "type": "carpet"
           }
          ],
          "choropleth": [
           {
            "colorbar": {
             "outlinewidth": 0,
             "ticks": ""
            },
            "type": "choropleth"
           }
          ],
          "contour": [
           {
            "colorbar": {
             "outlinewidth": 0,
             "ticks": ""
            },
            "colorscale": [
             [
              0,
              "#0d0887"
             ],
             [
              0.1111111111111111,
              "#46039f"
             ],
             [
              0.2222222222222222,
              "#7201a8"
             ],
             [
              0.3333333333333333,
              "#9c179e"
             ],
             [
              0.4444444444444444,
              "#bd3786"
             ],
             [
              0.5555555555555556,
              "#d8576b"
             ],
             [
              0.6666666666666666,
              "#ed7953"
             ],
             [
              0.7777777777777778,
              "#fb9f3a"
             ],
             [
              0.8888888888888888,
              "#fdca26"
             ],
             [
              1,
              "#f0f921"
             ]
            ],
            "type": "contour"
           }
          ],
          "contourcarpet": [
           {
            "colorbar": {
             "outlinewidth": 0,
             "ticks": ""
            },
            "type": "contourcarpet"
           }
          ],
          "heatmap": [
           {
            "colorbar": {
             "outlinewidth": 0,
             "ticks": ""
            },
            "colorscale": [
             [
              0,
              "#0d0887"
             ],
             [
              0.1111111111111111,
              "#46039f"
             ],
             [
              0.2222222222222222,
              "#7201a8"
             ],
             [
              0.3333333333333333,
              "#9c179e"
             ],
             [
              0.4444444444444444,
              "#bd3786"
             ],
             [
              0.5555555555555556,
              "#d8576b"
             ],
             [
              0.6666666666666666,
              "#ed7953"
             ],
             [
              0.7777777777777778,
              "#fb9f3a"
             ],
             [
              0.8888888888888888,
              "#fdca26"
             ],
             [
              1,
              "#f0f921"
             ]
            ],
            "type": "heatmap"
           }
          ],
          "heatmapgl": [
           {
            "colorbar": {
             "outlinewidth": 0,
             "ticks": ""
            },
            "colorscale": [
             [
              0,
              "#0d0887"
             ],
             [
              0.1111111111111111,
              "#46039f"
             ],
             [
              0.2222222222222222,
              "#7201a8"
             ],
             [
              0.3333333333333333,
              "#9c179e"
             ],
             [
              0.4444444444444444,
              "#bd3786"
             ],
             [
              0.5555555555555556,
              "#d8576b"
             ],
             [
              0.6666666666666666,
              "#ed7953"
             ],
             [
              0.7777777777777778,
              "#fb9f3a"
             ],
             [
              0.8888888888888888,
              "#fdca26"
             ],
             [
              1,
              "#f0f921"
             ]
            ],
            "type": "heatmapgl"
           }
          ],
          "histogram": [
           {
            "marker": {
             "colorbar": {
              "outlinewidth": 0,
              "ticks": ""
             }
            },
            "type": "histogram"
           }
          ],
          "histogram2d": [
           {
            "colorbar": {
             "outlinewidth": 0,
             "ticks": ""
            },
            "colorscale": [
             [
              0,
              "#0d0887"
             ],
             [
              0.1111111111111111,
              "#46039f"
             ],
             [
              0.2222222222222222,
              "#7201a8"
             ],
             [
              0.3333333333333333,
              "#9c179e"
             ],
             [
              0.4444444444444444,
              "#bd3786"
             ],
             [
              0.5555555555555556,
              "#d8576b"
             ],
             [
              0.6666666666666666,
              "#ed7953"
             ],
             [
              0.7777777777777778,
              "#fb9f3a"
             ],
             [
              0.8888888888888888,
              "#fdca26"
             ],
             [
              1,
              "#f0f921"
             ]
            ],
            "type": "histogram2d"
           }
          ],
          "histogram2dcontour": [
           {
            "colorbar": {
             "outlinewidth": 0,
             "ticks": ""
            },
            "colorscale": [
             [
              0,
              "#0d0887"
             ],
             [
              0.1111111111111111,
              "#46039f"
             ],
             [
              0.2222222222222222,
              "#7201a8"
             ],
             [
              0.3333333333333333,
              "#9c179e"
             ],
             [
              0.4444444444444444,
              "#bd3786"
             ],
             [
              0.5555555555555556,
              "#d8576b"
             ],
             [
              0.6666666666666666,
              "#ed7953"
             ],
             [
              0.7777777777777778,
              "#fb9f3a"
             ],
             [
              0.8888888888888888,
              "#fdca26"
             ],
             [
              1,
              "#f0f921"
             ]
            ],
            "type": "histogram2dcontour"
           }
          ],
          "mesh3d": [
           {
            "colorbar": {
             "outlinewidth": 0,
             "ticks": ""
            },
            "type": "mesh3d"
           }
          ],
          "parcoords": [
           {
            "line": {
             "colorbar": {
              "outlinewidth": 0,
              "ticks": ""
             }
            },
            "type": "parcoords"
           }
          ],
          "pie": [
           {
            "automargin": true,
            "type": "pie"
           }
          ],
          "scatter": [
           {
            "marker": {
             "colorbar": {
              "outlinewidth": 0,
              "ticks": ""
             }
            },
            "type": "scatter"
           }
          ],
          "scatter3d": [
           {
            "line": {
             "colorbar": {
              "outlinewidth": 0,
              "ticks": ""
             }
            },
            "marker": {
             "colorbar": {
              "outlinewidth": 0,
              "ticks": ""
             }
            },
            "type": "scatter3d"
           }
          ],
          "scattercarpet": [
           {
            "marker": {
             "colorbar": {
              "outlinewidth": 0,
              "ticks": ""
             }
            },
            "type": "scattercarpet"
           }
          ],
          "scattergeo": [
           {
            "marker": {
             "colorbar": {
              "outlinewidth": 0,
              "ticks": ""
             }
            },
            "type": "scattergeo"
           }
          ],
          "scattergl": [
           {
            "marker": {
             "colorbar": {
              "outlinewidth": 0,
              "ticks": ""
             }
            },
            "type": "scattergl"
           }
          ],
          "scattermapbox": [
           {
            "marker": {
             "colorbar": {
              "outlinewidth": 0,
              "ticks": ""
             }
            },
            "type": "scattermapbox"
           }
          ],
          "scatterpolar": [
           {
            "marker": {
             "colorbar": {
              "outlinewidth": 0,
              "ticks": ""
             }
            },
            "type": "scatterpolar"
           }
          ],
          "scatterpolargl": [
           {
            "marker": {
             "colorbar": {
              "outlinewidth": 0,
              "ticks": ""
             }
            },
            "type": "scatterpolargl"
           }
          ],
          "scatterternary": [
           {
            "marker": {
             "colorbar": {
              "outlinewidth": 0,
              "ticks": ""
             }
            },
            "type": "scatterternary"
           }
          ],
          "surface": [
           {
            "colorbar": {
             "outlinewidth": 0,
             "ticks": ""
            },
            "colorscale": [
             [
              0,
              "#0d0887"
             ],
             [
              0.1111111111111111,
              "#46039f"
             ],
             [
              0.2222222222222222,
              "#7201a8"
             ],
             [
              0.3333333333333333,
              "#9c179e"
             ],
             [
              0.4444444444444444,
              "#bd3786"
             ],
             [
              0.5555555555555556,
              "#d8576b"
             ],
             [
              0.6666666666666666,
              "#ed7953"
             ],
             [
              0.7777777777777778,
              "#fb9f3a"
             ],
             [
              0.8888888888888888,
              "#fdca26"
             ],
             [
              1,
              "#f0f921"
             ]
            ],
            "type": "surface"
           }
          ],
          "table": [
           {
            "cells": {
             "fill": {
              "color": "#EBF0F8"
             },
             "line": {
              "color": "white"
             }
            },
            "header": {
             "fill": {
              "color": "#C8D4E3"
             },
             "line": {
              "color": "white"
             }
            },
            "type": "table"
           }
          ]
         },
         "layout": {
          "annotationdefaults": {
           "arrowcolor": "#2a3f5f",
           "arrowhead": 0,
           "arrowwidth": 1
          },
          "coloraxis": {
           "colorbar": {
            "outlinewidth": 0,
            "ticks": ""
           }
          },
          "colorscale": {
           "diverging": [
            [
             0,
             "#8e0152"
            ],
            [
             0.1,
             "#c51b7d"
            ],
            [
             0.2,
             "#de77ae"
            ],
            [
             0.3,
             "#f1b6da"
            ],
            [
             0.4,
             "#fde0ef"
            ],
            [
             0.5,
             "#f7f7f7"
            ],
            [
             0.6,
             "#e6f5d0"
            ],
            [
             0.7,
             "#b8e186"
            ],
            [
             0.8,
             "#7fbc41"
            ],
            [
             0.9,
             "#4d9221"
            ],
            [
             1,
             "#276419"
            ]
           ],
           "sequential": [
            [
             0,
             "#0d0887"
            ],
            [
             0.1111111111111111,
             "#46039f"
            ],
            [
             0.2222222222222222,
             "#7201a8"
            ],
            [
             0.3333333333333333,
             "#9c179e"
            ],
            [
             0.4444444444444444,
             "#bd3786"
            ],
            [
             0.5555555555555556,
             "#d8576b"
            ],
            [
             0.6666666666666666,
             "#ed7953"
            ],
            [
             0.7777777777777778,
             "#fb9f3a"
            ],
            [
             0.8888888888888888,
             "#fdca26"
            ],
            [
             1,
             "#f0f921"
            ]
           ],
           "sequentialminus": [
            [
             0,
             "#0d0887"
            ],
            [
             0.1111111111111111,
             "#46039f"
            ],
            [
             0.2222222222222222,
             "#7201a8"
            ],
            [
             0.3333333333333333,
             "#9c179e"
            ],
            [
             0.4444444444444444,
             "#bd3786"
            ],
            [
             0.5555555555555556,
             "#d8576b"
            ],
            [
             0.6666666666666666,
             "#ed7953"
            ],
            [
             0.7777777777777778,
             "#fb9f3a"
            ],
            [
             0.8888888888888888,
             "#fdca26"
            ],
            [
             1,
             "#f0f921"
            ]
           ]
          },
          "colorway": [
           "#636efa",
           "#EF553B",
           "#00cc96",
           "#ab63fa",
           "#FFA15A",
           "#19d3f3",
           "#FF6692",
           "#B6E880",
           "#FF97FF",
           "#FECB52"
          ],
          "font": {
           "color": "#2a3f5f"
          },
          "geo": {
           "bgcolor": "white",
           "lakecolor": "white",
           "landcolor": "#E5ECF6",
           "showlakes": true,
           "showland": true,
           "subunitcolor": "white"
          },
          "hoverlabel": {
           "align": "left"
          },
          "hovermode": "closest",
          "mapbox": {
           "style": "light"
          },
          "paper_bgcolor": "white",
          "plot_bgcolor": "#E5ECF6",
          "polar": {
           "angularaxis": {
            "gridcolor": "white",
            "linecolor": "white",
            "ticks": ""
           },
           "bgcolor": "#E5ECF6",
           "radialaxis": {
            "gridcolor": "white",
            "linecolor": "white",
            "ticks": ""
           }
          },
          "scene": {
           "xaxis": {
            "backgroundcolor": "#E5ECF6",
            "gridcolor": "white",
            "gridwidth": 2,
            "linecolor": "white",
            "showbackground": true,
            "ticks": "",
            "zerolinecolor": "white"
           },
           "yaxis": {
            "backgroundcolor": "#E5ECF6",
            "gridcolor": "white",
            "gridwidth": 2,
            "linecolor": "white",
            "showbackground": true,
            "ticks": "",
            "zerolinecolor": "white"
           },
           "zaxis": {
            "backgroundcolor": "#E5ECF6",
            "gridcolor": "white",
            "gridwidth": 2,
            "linecolor": "white",
            "showbackground": true,
            "ticks": "",
            "zerolinecolor": "white"
           }
          },
          "shapedefaults": {
           "line": {
            "color": "#2a3f5f"
           }
          },
          "ternary": {
           "aaxis": {
            "gridcolor": "white",
            "linecolor": "white",
            "ticks": ""
           },
           "baxis": {
            "gridcolor": "white",
            "linecolor": "white",
            "ticks": ""
           },
           "bgcolor": "#E5ECF6",
           "caxis": {
            "gridcolor": "white",
            "linecolor": "white",
            "ticks": ""
           }
          },
          "title": {
           "x": 0.05
          },
          "xaxis": {
           "automargin": true,
           "gridcolor": "white",
           "linecolor": "white",
           "ticks": "",
           "title": {
            "standoff": 15
           },
           "zerolinecolor": "white",
           "zerolinewidth": 2
          },
          "yaxis": {
           "automargin": true,
           "gridcolor": "white",
           "linecolor": "white",
           "ticks": "",
           "title": {
            "standoff": 15
           },
           "zerolinecolor": "white",
           "zerolinewidth": 2
          }
         }
        },
        "title": {
         "text": "Apartment Count by Monthly Rental Fee per Square Meter"
        },
        "width": 1000,
        "xaxis": {
         "anchor": "y",
         "domain": [
          0,
          1
         ],
         "title": {
          "text": "Square Meter Rental Fee"
         }
        },
        "yaxis": {
         "anchor": "x",
         "domain": [
          0,
          1
         ],
         "title": {
          "text": "Number of Apartments"
         }
        }
       }
      }
     },
     "metadata": {}
    }
   ],
   "metadata": {}
  },
  {
   "cell_type": "markdown",
   "source": [
    "# District"
   ],
   "metadata": {}
  },
  {
   "cell_type": "code",
   "execution_count": 18,
   "source": [
    "district_df = main_df[main_df['district'].isin(['Changning','Huangpu','Jing\\'an District','Xuhui']) == True]\n",
    "district_stats = district_df[['price','price_per_sqm','district']].groupby('district').mean()\\\n",
    "    .merge(district_df[['price','price_per_sqm','district']].groupby('district').count(), left_index = True, right_index = True)\n",
    "\n",
    "district_stats = district_stats.rename(columns = {'price_x':'price','price_per_sqm_x':'price_per_sqm','price_y':'listing_count'})\\\n",
    "    .drop(columns = ['price_per_sqm_y']).reset_index().round()\n",
    "\n",
    "district_stats"
   ],
   "outputs": [
    {
     "output_type": "execute_result",
     "data": {
      "text/plain": [
       "           district    price  price_per_sqm  listing_count\n",
       "0         Changning   9425.0          161.0            502\n",
       "1           Huangpu  10154.0          168.0            302\n",
       "2  Jing'an District  11517.0          179.0            538\n",
       "3             Xuhui  10697.0          171.0            583"
      ],
      "text/html": [
       "<div>\n",
       "<style scoped>\n",
       "    .dataframe tbody tr th:only-of-type {\n",
       "        vertical-align: middle;\n",
       "    }\n",
       "\n",
       "    .dataframe tbody tr th {\n",
       "        vertical-align: top;\n",
       "    }\n",
       "\n",
       "    .dataframe thead th {\n",
       "        text-align: right;\n",
       "    }\n",
       "</style>\n",
       "<table border=\"1\" class=\"dataframe\">\n",
       "  <thead>\n",
       "    <tr style=\"text-align: right;\">\n",
       "      <th></th>\n",
       "      <th>district</th>\n",
       "      <th>price</th>\n",
       "      <th>price_per_sqm</th>\n",
       "      <th>listing_count</th>\n",
       "    </tr>\n",
       "  </thead>\n",
       "  <tbody>\n",
       "    <tr>\n",
       "      <th>0</th>\n",
       "      <td>Changning</td>\n",
       "      <td>9425.0</td>\n",
       "      <td>161.0</td>\n",
       "      <td>502</td>\n",
       "    </tr>\n",
       "    <tr>\n",
       "      <th>1</th>\n",
       "      <td>Huangpu</td>\n",
       "      <td>10154.0</td>\n",
       "      <td>168.0</td>\n",
       "      <td>302</td>\n",
       "    </tr>\n",
       "    <tr>\n",
       "      <th>2</th>\n",
       "      <td>Jing'an District</td>\n",
       "      <td>11517.0</td>\n",
       "      <td>179.0</td>\n",
       "      <td>538</td>\n",
       "    </tr>\n",
       "    <tr>\n",
       "      <th>3</th>\n",
       "      <td>Xuhui</td>\n",
       "      <td>10697.0</td>\n",
       "      <td>171.0</td>\n",
       "      <td>583</td>\n",
       "    </tr>\n",
       "  </tbody>\n",
       "</table>\n",
       "</div>"
      ]
     },
     "metadata": {},
     "execution_count": 18
    }
   ],
   "metadata": {}
  },
  {
   "cell_type": "code",
   "execution_count": 21,
   "source": [
    "fig = px.bar(district_stats,\n",
    "             x=\"district\",\n",
    "             y=\"price\",\n",
    "             text='price',\n",
    "             color = 'listing_count',\n",
    "             color_continuous_scale=['#0096FF','#0047AB'])\n",
    "\n",
    "fig.update_traces(textposition='outside',\n",
    "                  texttemplate='%{text}',\n",
    "                  #marker_color='#106e45',\n",
    "                  textfont_size=14\n",
    "                  )\n",
    "\n",
    "fig.update_layout(title_text = 'Monthly Rental Fee by District',\n",
    "                  yaxis_title = 'Monthl Rental Fee (¥)',\n",
    "                  xaxis_title = 'District',\n",
    "                  height = 600, width = 800)\n",
    "\n",
    "fig.show()"
   ],
   "outputs": [
    {
     "output_type": "display_data",
     "data": {
      "application/vnd.plotly.v1+json": {
       "config": {
        "plotlyServerURL": "https://plot.ly"
       },
       "data": [
        {
         "alignmentgroup": "True",
         "hoverlabel": {
          "namelength": 0
         },
         "hovertemplate": "district=%{x}<br>price=%{text}<br>listing_count=%{marker.color}",
         "legendgroup": "",
         "marker": {
          "color": [
           502,
           302,
           538,
           583
          ],
          "coloraxis": "coloraxis"
         },
         "name": "",
         "offsetgroup": "",
         "orientation": "v",
         "showlegend": false,
         "text": [
          9425,
          10154,
          11517,
          10697
         ],
         "textfont": {
          "size": 14
         },
         "textposition": "outside",
         "texttemplate": "%{text}",
         "type": "bar",
         "x": [
          "Changning",
          "Huangpu",
          "Jing'an District",
          "Xuhui"
         ],
         "xaxis": "x",
         "y": [
          9425,
          10154,
          11517,
          10697
         ],
         "yaxis": "y"
        }
       ],
       "layout": {
        "barmode": "relative",
        "coloraxis": {
         "colorbar": {
          "title": {
           "text": "listing_count"
          }
         },
         "colorscale": [
          [
           0,
           "#0096FF"
          ],
          [
           1,
           "#0047AB"
          ]
         ]
        },
        "height": 600,
        "legend": {
         "tracegroupgap": 0
        },
        "margin": {
         "t": 60
        },
        "template": {
         "data": {
          "bar": [
           {
            "error_x": {
             "color": "#2a3f5f"
            },
            "error_y": {
             "color": "#2a3f5f"
            },
            "marker": {
             "line": {
              "color": "#E5ECF6",
              "width": 0.5
             }
            },
            "type": "bar"
           }
          ],
          "barpolar": [
           {
            "marker": {
             "line": {
              "color": "#E5ECF6",
              "width": 0.5
             }
            },
            "type": "barpolar"
           }
          ],
          "carpet": [
           {
            "aaxis": {
             "endlinecolor": "#2a3f5f",
             "gridcolor": "white",
             "linecolor": "white",
             "minorgridcolor": "white",
             "startlinecolor": "#2a3f5f"
            },
            "baxis": {
             "endlinecolor": "#2a3f5f",
             "gridcolor": "white",
             "linecolor": "white",
             "minorgridcolor": "white",
             "startlinecolor": "#2a3f5f"
            },
            "type": "carpet"
           }
          ],
          "choropleth": [
           {
            "colorbar": {
             "outlinewidth": 0,
             "ticks": ""
            },
            "type": "choropleth"
           }
          ],
          "contour": [
           {
            "colorbar": {
             "outlinewidth": 0,
             "ticks": ""
            },
            "colorscale": [
             [
              0,
              "#0d0887"
             ],
             [
              0.1111111111111111,
              "#46039f"
             ],
             [
              0.2222222222222222,
              "#7201a8"
             ],
             [
              0.3333333333333333,
              "#9c179e"
             ],
             [
              0.4444444444444444,
              "#bd3786"
             ],
             [
              0.5555555555555556,
              "#d8576b"
             ],
             [
              0.6666666666666666,
              "#ed7953"
             ],
             [
              0.7777777777777778,
              "#fb9f3a"
             ],
             [
              0.8888888888888888,
              "#fdca26"
             ],
             [
              1,
              "#f0f921"
             ]
            ],
            "type": "contour"
           }
          ],
          "contourcarpet": [
           {
            "colorbar": {
             "outlinewidth": 0,
             "ticks": ""
            },
            "type": "contourcarpet"
           }
          ],
          "heatmap": [
           {
            "colorbar": {
             "outlinewidth": 0,
             "ticks": ""
            },
            "colorscale": [
             [
              0,
              "#0d0887"
             ],
             [
              0.1111111111111111,
              "#46039f"
             ],
             [
              0.2222222222222222,
              "#7201a8"
             ],
             [
              0.3333333333333333,
              "#9c179e"
             ],
             [
              0.4444444444444444,
              "#bd3786"
             ],
             [
              0.5555555555555556,
              "#d8576b"
             ],
             [
              0.6666666666666666,
              "#ed7953"
             ],
             [
              0.7777777777777778,
              "#fb9f3a"
             ],
             [
              0.8888888888888888,
              "#fdca26"
             ],
             [
              1,
              "#f0f921"
             ]
            ],
            "type": "heatmap"
           }
          ],
          "heatmapgl": [
           {
            "colorbar": {
             "outlinewidth": 0,
             "ticks": ""
            },
            "colorscale": [
             [
              0,
              "#0d0887"
             ],
             [
              0.1111111111111111,
              "#46039f"
             ],
             [
              0.2222222222222222,
              "#7201a8"
             ],
             [
              0.3333333333333333,
              "#9c179e"
             ],
             [
              0.4444444444444444,
              "#bd3786"
             ],
             [
              0.5555555555555556,
              "#d8576b"
             ],
             [
              0.6666666666666666,
              "#ed7953"
             ],
             [
              0.7777777777777778,
              "#fb9f3a"
             ],
             [
              0.8888888888888888,
              "#fdca26"
             ],
             [
              1,
              "#f0f921"
             ]
            ],
            "type": "heatmapgl"
           }
          ],
          "histogram": [
           {
            "marker": {
             "colorbar": {
              "outlinewidth": 0,
              "ticks": ""
             }
            },
            "type": "histogram"
           }
          ],
          "histogram2d": [
           {
            "colorbar": {
             "outlinewidth": 0,
             "ticks": ""
            },
            "colorscale": [
             [
              0,
              "#0d0887"
             ],
             [
              0.1111111111111111,
              "#46039f"
             ],
             [
              0.2222222222222222,
              "#7201a8"
             ],
             [
              0.3333333333333333,
              "#9c179e"
             ],
             [
              0.4444444444444444,
              "#bd3786"
             ],
             [
              0.5555555555555556,
              "#d8576b"
             ],
             [
              0.6666666666666666,
              "#ed7953"
             ],
             [
              0.7777777777777778,
              "#fb9f3a"
             ],
             [
              0.8888888888888888,
              "#fdca26"
             ],
             [
              1,
              "#f0f921"
             ]
            ],
            "type": "histogram2d"
           }
          ],
          "histogram2dcontour": [
           {
            "colorbar": {
             "outlinewidth": 0,
             "ticks": ""
            },
            "colorscale": [
             [
              0,
              "#0d0887"
             ],
             [
              0.1111111111111111,
              "#46039f"
             ],
             [
              0.2222222222222222,
              "#7201a8"
             ],
             [
              0.3333333333333333,
              "#9c179e"
             ],
             [
              0.4444444444444444,
              "#bd3786"
             ],
             [
              0.5555555555555556,
              "#d8576b"
             ],
             [
              0.6666666666666666,
              "#ed7953"
             ],
             [
              0.7777777777777778,
              "#fb9f3a"
             ],
             [
              0.8888888888888888,
              "#fdca26"
             ],
             [
              1,
              "#f0f921"
             ]
            ],
            "type": "histogram2dcontour"
           }
          ],
          "mesh3d": [
           {
            "colorbar": {
             "outlinewidth": 0,
             "ticks": ""
            },
            "type": "mesh3d"
           }
          ],
          "parcoords": [
           {
            "line": {
             "colorbar": {
              "outlinewidth": 0,
              "ticks": ""
             }
            },
            "type": "parcoords"
           }
          ],
          "pie": [
           {
            "automargin": true,
            "type": "pie"
           }
          ],
          "scatter": [
           {
            "marker": {
             "colorbar": {
              "outlinewidth": 0,
              "ticks": ""
             }
            },
            "type": "scatter"
           }
          ],
          "scatter3d": [
           {
            "line": {
             "colorbar": {
              "outlinewidth": 0,
              "ticks": ""
             }
            },
            "marker": {
             "colorbar": {
              "outlinewidth": 0,
              "ticks": ""
             }
            },
            "type": "scatter3d"
           }
          ],
          "scattercarpet": [
           {
            "marker": {
             "colorbar": {
              "outlinewidth": 0,
              "ticks": ""
             }
            },
            "type": "scattercarpet"
           }
          ],
          "scattergeo": [
           {
            "marker": {
             "colorbar": {
              "outlinewidth": 0,
              "ticks": ""
             }
            },
            "type": "scattergeo"
           }
          ],
          "scattergl": [
           {
            "marker": {
             "colorbar": {
              "outlinewidth": 0,
              "ticks": ""
             }
            },
            "type": "scattergl"
           }
          ],
          "scattermapbox": [
           {
            "marker": {
             "colorbar": {
              "outlinewidth": 0,
              "ticks": ""
             }
            },
            "type": "scattermapbox"
           }
          ],
          "scatterpolar": [
           {
            "marker": {
             "colorbar": {
              "outlinewidth": 0,
              "ticks": ""
             }
            },
            "type": "scatterpolar"
           }
          ],
          "scatterpolargl": [
           {
            "marker": {
             "colorbar": {
              "outlinewidth": 0,
              "ticks": ""
             }
            },
            "type": "scatterpolargl"
           }
          ],
          "scatterternary": [
           {
            "marker": {
             "colorbar": {
              "outlinewidth": 0,
              "ticks": ""
             }
            },
            "type": "scatterternary"
           }
          ],
          "surface": [
           {
            "colorbar": {
             "outlinewidth": 0,
             "ticks": ""
            },
            "colorscale": [
             [
              0,
              "#0d0887"
             ],
             [
              0.1111111111111111,
              "#46039f"
             ],
             [
              0.2222222222222222,
              "#7201a8"
             ],
             [
              0.3333333333333333,
              "#9c179e"
             ],
             [
              0.4444444444444444,
              "#bd3786"
             ],
             [
              0.5555555555555556,
              "#d8576b"
             ],
             [
              0.6666666666666666,
              "#ed7953"
             ],
             [
              0.7777777777777778,
              "#fb9f3a"
             ],
             [
              0.8888888888888888,
              "#fdca26"
             ],
             [
              1,
              "#f0f921"
             ]
            ],
            "type": "surface"
           }
          ],
          "table": [
           {
            "cells": {
             "fill": {
              "color": "#EBF0F8"
             },
             "line": {
              "color": "white"
             }
            },
            "header": {
             "fill": {
              "color": "#C8D4E3"
             },
             "line": {
              "color": "white"
             }
            },
            "type": "table"
           }
          ]
         },
         "layout": {
          "annotationdefaults": {
           "arrowcolor": "#2a3f5f",
           "arrowhead": 0,
           "arrowwidth": 1
          },
          "coloraxis": {
           "colorbar": {
            "outlinewidth": 0,
            "ticks": ""
           }
          },
          "colorscale": {
           "diverging": [
            [
             0,
             "#8e0152"
            ],
            [
             0.1,
             "#c51b7d"
            ],
            [
             0.2,
             "#de77ae"
            ],
            [
             0.3,
             "#f1b6da"
            ],
            [
             0.4,
             "#fde0ef"
            ],
            [
             0.5,
             "#f7f7f7"
            ],
            [
             0.6,
             "#e6f5d0"
            ],
            [
             0.7,
             "#b8e186"
            ],
            [
             0.8,
             "#7fbc41"
            ],
            [
             0.9,
             "#4d9221"
            ],
            [
             1,
             "#276419"
            ]
           ],
           "sequential": [
            [
             0,
             "#0d0887"
            ],
            [
             0.1111111111111111,
             "#46039f"
            ],
            [
             0.2222222222222222,
             "#7201a8"
            ],
            [
             0.3333333333333333,
             "#9c179e"
            ],
            [
             0.4444444444444444,
             "#bd3786"
            ],
            [
             0.5555555555555556,
             "#d8576b"
            ],
            [
             0.6666666666666666,
             "#ed7953"
            ],
            [
             0.7777777777777778,
             "#fb9f3a"
            ],
            [
             0.8888888888888888,
             "#fdca26"
            ],
            [
             1,
             "#f0f921"
            ]
           ],
           "sequentialminus": [
            [
             0,
             "#0d0887"
            ],
            [
             0.1111111111111111,
             "#46039f"
            ],
            [
             0.2222222222222222,
             "#7201a8"
            ],
            [
             0.3333333333333333,
             "#9c179e"
            ],
            [
             0.4444444444444444,
             "#bd3786"
            ],
            [
             0.5555555555555556,
             "#d8576b"
            ],
            [
             0.6666666666666666,
             "#ed7953"
            ],
            [
             0.7777777777777778,
             "#fb9f3a"
            ],
            [
             0.8888888888888888,
             "#fdca26"
            ],
            [
             1,
             "#f0f921"
            ]
           ]
          },
          "colorway": [
           "#636efa",
           "#EF553B",
           "#00cc96",
           "#ab63fa",
           "#FFA15A",
           "#19d3f3",
           "#FF6692",
           "#B6E880",
           "#FF97FF",
           "#FECB52"
          ],
          "font": {
           "color": "#2a3f5f"
          },
          "geo": {
           "bgcolor": "white",
           "lakecolor": "white",
           "landcolor": "#E5ECF6",
           "showlakes": true,
           "showland": true,
           "subunitcolor": "white"
          },
          "hoverlabel": {
           "align": "left"
          },
          "hovermode": "closest",
          "mapbox": {
           "style": "light"
          },
          "paper_bgcolor": "white",
          "plot_bgcolor": "#E5ECF6",
          "polar": {
           "angularaxis": {
            "gridcolor": "white",
            "linecolor": "white",
            "ticks": ""
           },
           "bgcolor": "#E5ECF6",
           "radialaxis": {
            "gridcolor": "white",
            "linecolor": "white",
            "ticks": ""
           }
          },
          "scene": {
           "xaxis": {
            "backgroundcolor": "#E5ECF6",
            "gridcolor": "white",
            "gridwidth": 2,
            "linecolor": "white",
            "showbackground": true,
            "ticks": "",
            "zerolinecolor": "white"
           },
           "yaxis": {
            "backgroundcolor": "#E5ECF6",
            "gridcolor": "white",
            "gridwidth": 2,
            "linecolor": "white",
            "showbackground": true,
            "ticks": "",
            "zerolinecolor": "white"
           },
           "zaxis": {
            "backgroundcolor": "#E5ECF6",
            "gridcolor": "white",
            "gridwidth": 2,
            "linecolor": "white",
            "showbackground": true,
            "ticks": "",
            "zerolinecolor": "white"
           }
          },
          "shapedefaults": {
           "line": {
            "color": "#2a3f5f"
           }
          },
          "ternary": {
           "aaxis": {
            "gridcolor": "white",
            "linecolor": "white",
            "ticks": ""
           },
           "baxis": {
            "gridcolor": "white",
            "linecolor": "white",
            "ticks": ""
           },
           "bgcolor": "#E5ECF6",
           "caxis": {
            "gridcolor": "white",
            "linecolor": "white",
            "ticks": ""
           }
          },
          "title": {
           "x": 0.05
          },
          "xaxis": {
           "automargin": true,
           "gridcolor": "white",
           "linecolor": "white",
           "ticks": "",
           "title": {
            "standoff": 15
           },
           "zerolinecolor": "white",
           "zerolinewidth": 2
          },
          "yaxis": {
           "automargin": true,
           "gridcolor": "white",
           "linecolor": "white",
           "ticks": "",
           "title": {
            "standoff": 15
           },
           "zerolinecolor": "white",
           "zerolinewidth": 2
          }
         }
        },
        "title": {
         "text": "Monthly Rental Fee by District"
        },
        "width": 800,
        "xaxis": {
         "anchor": "y",
         "domain": [
          0,
          1
         ],
         "title": {
          "text": "District"
         }
        },
        "yaxis": {
         "anchor": "x",
         "domain": [
          0,
          1
         ],
         "title": {
          "text": "Monthl Rental Fee (¥)"
         }
        }
       }
      }
     },
     "metadata": {}
    }
   ],
   "metadata": {}
  },
  {
   "cell_type": "code",
   "execution_count": 22,
   "source": [
    "fig = px.bar(district_stats,\n",
    "             x=\"district\",\n",
    "             y=\"price_per_sqm\",\n",
    "             text='price_per_sqm',\n",
    "             color = 'listing_count',\n",
    "             color_continuous_scale=['#0096FF','#0047AB'])\n",
    "\n",
    "fig.update_traces(textposition='outside',\n",
    "                  texttemplate='%{text}',\n",
    "                  #marker_color='#106e45',\n",
    "                  textfont_size=14\n",
    "                  )\n",
    "\n",
    "fig.update_layout(title_text = 'Monthly Rental Fee per Sqm by District',\n",
    "                  yaxis_title = 'Monthly Rental per Sqm (¥)',\n",
    "                  xaxis_title = 'District',\n",
    "                  height = 600, width = 800)\n",
    "\n",
    "fig.show()"
   ],
   "outputs": [
    {
     "output_type": "display_data",
     "data": {
      "application/vnd.plotly.v1+json": {
       "config": {
        "plotlyServerURL": "https://plot.ly"
       },
       "data": [
        {
         "alignmentgroup": "True",
         "hoverlabel": {
          "namelength": 0
         },
         "hovertemplate": "district=%{x}<br>price_per_sqm=%{text}<br>listing_count=%{marker.color}",
         "legendgroup": "",
         "marker": {
          "color": [
           502,
           302,
           538,
           583
          ],
          "coloraxis": "coloraxis"
         },
         "name": "",
         "offsetgroup": "",
         "orientation": "v",
         "showlegend": false,
         "text": [
          161,
          168,
          179,
          171
         ],
         "textfont": {
          "size": 14
         },
         "textposition": "outside",
         "texttemplate": "%{text}",
         "type": "bar",
         "x": [
          "Changning",
          "Huangpu",
          "Jing'an District",
          "Xuhui"
         ],
         "xaxis": "x",
         "y": [
          161,
          168,
          179,
          171
         ],
         "yaxis": "y"
        }
       ],
       "layout": {
        "barmode": "relative",
        "coloraxis": {
         "colorbar": {
          "title": {
           "text": "listing_count"
          }
         },
         "colorscale": [
          [
           0,
           "#0096FF"
          ],
          [
           1,
           "#0047AB"
          ]
         ]
        },
        "height": 600,
        "legend": {
         "tracegroupgap": 0
        },
        "margin": {
         "t": 60
        },
        "template": {
         "data": {
          "bar": [
           {
            "error_x": {
             "color": "#2a3f5f"
            },
            "error_y": {
             "color": "#2a3f5f"
            },
            "marker": {
             "line": {
              "color": "#E5ECF6",
              "width": 0.5
             }
            },
            "type": "bar"
           }
          ],
          "barpolar": [
           {
            "marker": {
             "line": {
              "color": "#E5ECF6",
              "width": 0.5
             }
            },
            "type": "barpolar"
           }
          ],
          "carpet": [
           {
            "aaxis": {
             "endlinecolor": "#2a3f5f",
             "gridcolor": "white",
             "linecolor": "white",
             "minorgridcolor": "white",
             "startlinecolor": "#2a3f5f"
            },
            "baxis": {
             "endlinecolor": "#2a3f5f",
             "gridcolor": "white",
             "linecolor": "white",
             "minorgridcolor": "white",
             "startlinecolor": "#2a3f5f"
            },
            "type": "carpet"
           }
          ],
          "choropleth": [
           {
            "colorbar": {
             "outlinewidth": 0,
             "ticks": ""
            },
            "type": "choropleth"
           }
          ],
          "contour": [
           {
            "colorbar": {
             "outlinewidth": 0,
             "ticks": ""
            },
            "colorscale": [
             [
              0,
              "#0d0887"
             ],
             [
              0.1111111111111111,
              "#46039f"
             ],
             [
              0.2222222222222222,
              "#7201a8"
             ],
             [
              0.3333333333333333,
              "#9c179e"
             ],
             [
              0.4444444444444444,
              "#bd3786"
             ],
             [
              0.5555555555555556,
              "#d8576b"
             ],
             [
              0.6666666666666666,
              "#ed7953"
             ],
             [
              0.7777777777777778,
              "#fb9f3a"
             ],
             [
              0.8888888888888888,
              "#fdca26"
             ],
             [
              1,
              "#f0f921"
             ]
            ],
            "type": "contour"
           }
          ],
          "contourcarpet": [
           {
            "colorbar": {
             "outlinewidth": 0,
             "ticks": ""
            },
            "type": "contourcarpet"
           }
          ],
          "heatmap": [
           {
            "colorbar": {
             "outlinewidth": 0,
             "ticks": ""
            },
            "colorscale": [
             [
              0,
              "#0d0887"
             ],
             [
              0.1111111111111111,
              "#46039f"
             ],
             [
              0.2222222222222222,
              "#7201a8"
             ],
             [
              0.3333333333333333,
              "#9c179e"
             ],
             [
              0.4444444444444444,
              "#bd3786"
             ],
             [
              0.5555555555555556,
              "#d8576b"
             ],
             [
              0.6666666666666666,
              "#ed7953"
             ],
             [
              0.7777777777777778,
              "#fb9f3a"
             ],
             [
              0.8888888888888888,
              "#fdca26"
             ],
             [
              1,
              "#f0f921"
             ]
            ],
            "type": "heatmap"
           }
          ],
          "heatmapgl": [
           {
            "colorbar": {
             "outlinewidth": 0,
             "ticks": ""
            },
            "colorscale": [
             [
              0,
              "#0d0887"
             ],
             [
              0.1111111111111111,
              "#46039f"
             ],
             [
              0.2222222222222222,
              "#7201a8"
             ],
             [
              0.3333333333333333,
              "#9c179e"
             ],
             [
              0.4444444444444444,
              "#bd3786"
             ],
             [
              0.5555555555555556,
              "#d8576b"
             ],
             [
              0.6666666666666666,
              "#ed7953"
             ],
             [
              0.7777777777777778,
              "#fb9f3a"
             ],
             [
              0.8888888888888888,
              "#fdca26"
             ],
             [
              1,
              "#f0f921"
             ]
            ],
            "type": "heatmapgl"
           }
          ],
          "histogram": [
           {
            "marker": {
             "colorbar": {
              "outlinewidth": 0,
              "ticks": ""
             }
            },
            "type": "histogram"
           }
          ],
          "histogram2d": [
           {
            "colorbar": {
             "outlinewidth": 0,
             "ticks": ""
            },
            "colorscale": [
             [
              0,
              "#0d0887"
             ],
             [
              0.1111111111111111,
              "#46039f"
             ],
             [
              0.2222222222222222,
              "#7201a8"
             ],
             [
              0.3333333333333333,
              "#9c179e"
             ],
             [
              0.4444444444444444,
              "#bd3786"
             ],
             [
              0.5555555555555556,
              "#d8576b"
             ],
             [
              0.6666666666666666,
              "#ed7953"
             ],
             [
              0.7777777777777778,
              "#fb9f3a"
             ],
             [
              0.8888888888888888,
              "#fdca26"
             ],
             [
              1,
              "#f0f921"
             ]
            ],
            "type": "histogram2d"
           }
          ],
          "histogram2dcontour": [
           {
            "colorbar": {
             "outlinewidth": 0,
             "ticks": ""
            },
            "colorscale": [
             [
              0,
              "#0d0887"
             ],
             [
              0.1111111111111111,
              "#46039f"
             ],
             [
              0.2222222222222222,
              "#7201a8"
             ],
             [
              0.3333333333333333,
              "#9c179e"
             ],
             [
              0.4444444444444444,
              "#bd3786"
             ],
             [
              0.5555555555555556,
              "#d8576b"
             ],
             [
              0.6666666666666666,
              "#ed7953"
             ],
             [
              0.7777777777777778,
              "#fb9f3a"
             ],
             [
              0.8888888888888888,
              "#fdca26"
             ],
             [
              1,
              "#f0f921"
             ]
            ],
            "type": "histogram2dcontour"
           }
          ],
          "mesh3d": [
           {
            "colorbar": {
             "outlinewidth": 0,
             "ticks": ""
            },
            "type": "mesh3d"
           }
          ],
          "parcoords": [
           {
            "line": {
             "colorbar": {
              "outlinewidth": 0,
              "ticks": ""
             }
            },
            "type": "parcoords"
           }
          ],
          "pie": [
           {
            "automargin": true,
            "type": "pie"
           }
          ],
          "scatter": [
           {
            "marker": {
             "colorbar": {
              "outlinewidth": 0,
              "ticks": ""
             }
            },
            "type": "scatter"
           }
          ],
          "scatter3d": [
           {
            "line": {
             "colorbar": {
              "outlinewidth": 0,
              "ticks": ""
             }
            },
            "marker": {
             "colorbar": {
              "outlinewidth": 0,
              "ticks": ""
             }
            },
            "type": "scatter3d"
           }
          ],
          "scattercarpet": [
           {
            "marker": {
             "colorbar": {
              "outlinewidth": 0,
              "ticks": ""
             }
            },
            "type": "scattercarpet"
           }
          ],
          "scattergeo": [
           {
            "marker": {
             "colorbar": {
              "outlinewidth": 0,
              "ticks": ""
             }
            },
            "type": "scattergeo"
           }
          ],
          "scattergl": [
           {
            "marker": {
             "colorbar": {
              "outlinewidth": 0,
              "ticks": ""
             }
            },
            "type": "scattergl"
           }
          ],
          "scattermapbox": [
           {
            "marker": {
             "colorbar": {
              "outlinewidth": 0,
              "ticks": ""
             }
            },
            "type": "scattermapbox"
           }
          ],
          "scatterpolar": [
           {
            "marker": {
             "colorbar": {
              "outlinewidth": 0,
              "ticks": ""
             }
            },
            "type": "scatterpolar"
           }
          ],
          "scatterpolargl": [
           {
            "marker": {
             "colorbar": {
              "outlinewidth": 0,
              "ticks": ""
             }
            },
            "type": "scatterpolargl"
           }
          ],
          "scatterternary": [
           {
            "marker": {
             "colorbar": {
              "outlinewidth": 0,
              "ticks": ""
             }
            },
            "type": "scatterternary"
           }
          ],
          "surface": [
           {
            "colorbar": {
             "outlinewidth": 0,
             "ticks": ""
            },
            "colorscale": [
             [
              0,
              "#0d0887"
             ],
             [
              0.1111111111111111,
              "#46039f"
             ],
             [
              0.2222222222222222,
              "#7201a8"
             ],
             [
              0.3333333333333333,
              "#9c179e"
             ],
             [
              0.4444444444444444,
              "#bd3786"
             ],
             [
              0.5555555555555556,
              "#d8576b"
             ],
             [
              0.6666666666666666,
              "#ed7953"
             ],
             [
              0.7777777777777778,
              "#fb9f3a"
             ],
             [
              0.8888888888888888,
              "#fdca26"
             ],
             [
              1,
              "#f0f921"
             ]
            ],
            "type": "surface"
           }
          ],
          "table": [
           {
            "cells": {
             "fill": {
              "color": "#EBF0F8"
             },
             "line": {
              "color": "white"
             }
            },
            "header": {
             "fill": {
              "color": "#C8D4E3"
             },
             "line": {
              "color": "white"
             }
            },
            "type": "table"
           }
          ]
         },
         "layout": {
          "annotationdefaults": {
           "arrowcolor": "#2a3f5f",
           "arrowhead": 0,
           "arrowwidth": 1
          },
          "coloraxis": {
           "colorbar": {
            "outlinewidth": 0,
            "ticks": ""
           }
          },
          "colorscale": {
           "diverging": [
            [
             0,
             "#8e0152"
            ],
            [
             0.1,
             "#c51b7d"
            ],
            [
             0.2,
             "#de77ae"
            ],
            [
             0.3,
             "#f1b6da"
            ],
            [
             0.4,
             "#fde0ef"
            ],
            [
             0.5,
             "#f7f7f7"
            ],
            [
             0.6,
             "#e6f5d0"
            ],
            [
             0.7,
             "#b8e186"
            ],
            [
             0.8,
             "#7fbc41"
            ],
            [
             0.9,
             "#4d9221"
            ],
            [
             1,
             "#276419"
            ]
           ],
           "sequential": [
            [
             0,
             "#0d0887"
            ],
            [
             0.1111111111111111,
             "#46039f"
            ],
            [
             0.2222222222222222,
             "#7201a8"
            ],
            [
             0.3333333333333333,
             "#9c179e"
            ],
            [
             0.4444444444444444,
             "#bd3786"
            ],
            [
             0.5555555555555556,
             "#d8576b"
            ],
            [
             0.6666666666666666,
             "#ed7953"
            ],
            [
             0.7777777777777778,
             "#fb9f3a"
            ],
            [
             0.8888888888888888,
             "#fdca26"
            ],
            [
             1,
             "#f0f921"
            ]
           ],
           "sequentialminus": [
            [
             0,
             "#0d0887"
            ],
            [
             0.1111111111111111,
             "#46039f"
            ],
            [
             0.2222222222222222,
             "#7201a8"
            ],
            [
             0.3333333333333333,
             "#9c179e"
            ],
            [
             0.4444444444444444,
             "#bd3786"
            ],
            [
             0.5555555555555556,
             "#d8576b"
            ],
            [
             0.6666666666666666,
             "#ed7953"
            ],
            [
             0.7777777777777778,
             "#fb9f3a"
            ],
            [
             0.8888888888888888,
             "#fdca26"
            ],
            [
             1,
             "#f0f921"
            ]
           ]
          },
          "colorway": [
           "#636efa",
           "#EF553B",
           "#00cc96",
           "#ab63fa",
           "#FFA15A",
           "#19d3f3",
           "#FF6692",
           "#B6E880",
           "#FF97FF",
           "#FECB52"
          ],
          "font": {
           "color": "#2a3f5f"
          },
          "geo": {
           "bgcolor": "white",
           "lakecolor": "white",
           "landcolor": "#E5ECF6",
           "showlakes": true,
           "showland": true,
           "subunitcolor": "white"
          },
          "hoverlabel": {
           "align": "left"
          },
          "hovermode": "closest",
          "mapbox": {
           "style": "light"
          },
          "paper_bgcolor": "white",
          "plot_bgcolor": "#E5ECF6",
          "polar": {
           "angularaxis": {
            "gridcolor": "white",
            "linecolor": "white",
            "ticks": ""
           },
           "bgcolor": "#E5ECF6",
           "radialaxis": {
            "gridcolor": "white",
            "linecolor": "white",
            "ticks": ""
           }
          },
          "scene": {
           "xaxis": {
            "backgroundcolor": "#E5ECF6",
            "gridcolor": "white",
            "gridwidth": 2,
            "linecolor": "white",
            "showbackground": true,
            "ticks": "",
            "zerolinecolor": "white"
           },
           "yaxis": {
            "backgroundcolor": "#E5ECF6",
            "gridcolor": "white",
            "gridwidth": 2,
            "linecolor": "white",
            "showbackground": true,
            "ticks": "",
            "zerolinecolor": "white"
           },
           "zaxis": {
            "backgroundcolor": "#E5ECF6",
            "gridcolor": "white",
            "gridwidth": 2,
            "linecolor": "white",
            "showbackground": true,
            "ticks": "",
            "zerolinecolor": "white"
           }
          },
          "shapedefaults": {
           "line": {
            "color": "#2a3f5f"
           }
          },
          "ternary": {
           "aaxis": {
            "gridcolor": "white",
            "linecolor": "white",
            "ticks": ""
           },
           "baxis": {
            "gridcolor": "white",
            "linecolor": "white",
            "ticks": ""
           },
           "bgcolor": "#E5ECF6",
           "caxis": {
            "gridcolor": "white",
            "linecolor": "white",
            "ticks": ""
           }
          },
          "title": {
           "x": 0.05
          },
          "xaxis": {
           "automargin": true,
           "gridcolor": "white",
           "linecolor": "white",
           "ticks": "",
           "title": {
            "standoff": 15
           },
           "zerolinecolor": "white",
           "zerolinewidth": 2
          },
          "yaxis": {
           "automargin": true,
           "gridcolor": "white",
           "linecolor": "white",
           "ticks": "",
           "title": {
            "standoff": 15
           },
           "zerolinecolor": "white",
           "zerolinewidth": 2
          }
         }
        },
        "title": {
         "text": "Monthly Rental Fee per Sqm by District"
        },
        "width": 800,
        "xaxis": {
         "anchor": "y",
         "domain": [
          0,
          1
         ],
         "title": {
          "text": "District"
         }
        },
        "yaxis": {
         "anchor": "x",
         "domain": [
          0,
          1
         ],
         "title": {
          "text": "Monthly Rental per Sqm (¥)"
         }
        }
       }
      }
     },
     "metadata": {}
    }
   ],
   "metadata": {}
  },
  {
   "cell_type": "markdown",
   "source": [
    "# Floor"
   ],
   "metadata": {}
  },
  {
   "cell_type": "code",
   "execution_count": 23,
   "source": [
    "###grouping apartments by floor\n",
    "main_df.loc[:,('floor_group')] = ['1st' if int(x) == 1 else '2nd' if int(x) == 2 else '3rd' if int(x) == 3 else 'high' for x in main_df['floor']]\n",
    "\n",
    "floor_df = main_df[['price','price_per_sqm','floor_group']]\n",
    "\n",
    "floor_stats = floor_df[['price','price_per_sqm','floor_group']].groupby('floor_group').mean()\\\n",
    "    .merge(floor_df[['price','price_per_sqm','floor_group']].groupby('floor_group').count(), left_index = True, right_index = True)\n",
    "\n",
    "floor_stats = floor_stats.rename(columns = {'price_x':'price','price_per_sqm_x':'price_per_sqm','price_y':'listing_count'})\\\n",
    "                         .drop(columns = ['price_per_sqm_y']).reset_index().round()\n",
    "\n",
    "floor_stats"
   ],
   "outputs": [
    {
     "output_type": "execute_result",
     "data": {
      "text/plain": [
       "  floor_group    price  price_per_sqm  listing_count\n",
       "0         1st  10139.0          168.0            356\n",
       "1         2nd   9843.0          165.0            341\n",
       "2         3rd  10348.0          168.0            379\n",
       "3        high  10831.0          172.0            931"
      ],
      "text/html": [
       "<div>\n",
       "<style scoped>\n",
       "    .dataframe tbody tr th:only-of-type {\n",
       "        vertical-align: middle;\n",
       "    }\n",
       "\n",
       "    .dataframe tbody tr th {\n",
       "        vertical-align: top;\n",
       "    }\n",
       "\n",
       "    .dataframe thead th {\n",
       "        text-align: right;\n",
       "    }\n",
       "</style>\n",
       "<table border=\"1\" class=\"dataframe\">\n",
       "  <thead>\n",
       "    <tr style=\"text-align: right;\">\n",
       "      <th></th>\n",
       "      <th>floor_group</th>\n",
       "      <th>price</th>\n",
       "      <th>price_per_sqm</th>\n",
       "      <th>listing_count</th>\n",
       "    </tr>\n",
       "  </thead>\n",
       "  <tbody>\n",
       "    <tr>\n",
       "      <th>0</th>\n",
       "      <td>1st</td>\n",
       "      <td>10139.0</td>\n",
       "      <td>168.0</td>\n",
       "      <td>356</td>\n",
       "    </tr>\n",
       "    <tr>\n",
       "      <th>1</th>\n",
       "      <td>2nd</td>\n",
       "      <td>9843.0</td>\n",
       "      <td>165.0</td>\n",
       "      <td>341</td>\n",
       "    </tr>\n",
       "    <tr>\n",
       "      <th>2</th>\n",
       "      <td>3rd</td>\n",
       "      <td>10348.0</td>\n",
       "      <td>168.0</td>\n",
       "      <td>379</td>\n",
       "    </tr>\n",
       "    <tr>\n",
       "      <th>3</th>\n",
       "      <td>high</td>\n",
       "      <td>10831.0</td>\n",
       "      <td>172.0</td>\n",
       "      <td>931</td>\n",
       "    </tr>\n",
       "  </tbody>\n",
       "</table>\n",
       "</div>"
      ]
     },
     "metadata": {},
     "execution_count": 23
    }
   ],
   "metadata": {}
  },
  {
   "cell_type": "code",
   "execution_count": 24,
   "source": [
    "fig = px.bar(floor_stats,\n",
    "             x=\"floor_group\",\n",
    "             y=\"price\",\n",
    "             text='price',\n",
    "             color = 'listing_count',\n",
    "             color_continuous_scale=['#D68E7E','#975243'])\n",
    "\n",
    "fig.update_traces(textposition='outside',\n",
    "                  texttemplate='%{text}',   \n",
    "                  textfont_size=14\n",
    "                  )\n",
    "\n",
    "fig.update_layout(title_text = 'Monthly Rental Fee per Sqm by Floor (Grouped)',\n",
    "                  yaxis_title = 'Monthly Rental Fee (¥)',\n",
    "                  xaxis_title = 'Floor (Grouped)',\n",
    "                  height = 600, width = 800)\n",
    "\n",
    "fig.show()"
   ],
   "outputs": [
    {
     "output_type": "display_data",
     "data": {
      "application/vnd.plotly.v1+json": {
       "config": {
        "plotlyServerURL": "https://plot.ly"
       },
       "data": [
        {
         "alignmentgroup": "True",
         "hoverlabel": {
          "namelength": 0
         },
         "hovertemplate": "floor_group=%{x}<br>price=%{text}<br>listing_count=%{marker.color}",
         "legendgroup": "",
         "marker": {
          "color": [
           356,
           341,
           379,
           931
          ],
          "coloraxis": "coloraxis"
         },
         "name": "",
         "offsetgroup": "",
         "orientation": "v",
         "showlegend": false,
         "text": [
          10139,
          9843,
          10348,
          10831
         ],
         "textfont": {
          "size": 14
         },
         "textposition": "outside",
         "texttemplate": "%{text}",
         "type": "bar",
         "x": [
          "1st",
          "2nd",
          "3rd",
          "high"
         ],
         "xaxis": "x",
         "y": [
          10139,
          9843,
          10348,
          10831
         ],
         "yaxis": "y"
        }
       ],
       "layout": {
        "barmode": "relative",
        "coloraxis": {
         "colorbar": {
          "title": {
           "text": "listing_count"
          }
         },
         "colorscale": [
          [
           0,
           "#D68E7E"
          ],
          [
           1,
           "#975243"
          ]
         ]
        },
        "height": 600,
        "legend": {
         "tracegroupgap": 0
        },
        "margin": {
         "t": 60
        },
        "template": {
         "data": {
          "bar": [
           {
            "error_x": {
             "color": "#2a3f5f"
            },
            "error_y": {
             "color": "#2a3f5f"
            },
            "marker": {
             "line": {
              "color": "#E5ECF6",
              "width": 0.5
             }
            },
            "type": "bar"
           }
          ],
          "barpolar": [
           {
            "marker": {
             "line": {
              "color": "#E5ECF6",
              "width": 0.5
             }
            },
            "type": "barpolar"
           }
          ],
          "carpet": [
           {
            "aaxis": {
             "endlinecolor": "#2a3f5f",
             "gridcolor": "white",
             "linecolor": "white",
             "minorgridcolor": "white",
             "startlinecolor": "#2a3f5f"
            },
            "baxis": {
             "endlinecolor": "#2a3f5f",
             "gridcolor": "white",
             "linecolor": "white",
             "minorgridcolor": "white",
             "startlinecolor": "#2a3f5f"
            },
            "type": "carpet"
           }
          ],
          "choropleth": [
           {
            "colorbar": {
             "outlinewidth": 0,
             "ticks": ""
            },
            "type": "choropleth"
           }
          ],
          "contour": [
           {
            "colorbar": {
             "outlinewidth": 0,
             "ticks": ""
            },
            "colorscale": [
             [
              0,
              "#0d0887"
             ],
             [
              0.1111111111111111,
              "#46039f"
             ],
             [
              0.2222222222222222,
              "#7201a8"
             ],
             [
              0.3333333333333333,
              "#9c179e"
             ],
             [
              0.4444444444444444,
              "#bd3786"
             ],
             [
              0.5555555555555556,
              "#d8576b"
             ],
             [
              0.6666666666666666,
              "#ed7953"
             ],
             [
              0.7777777777777778,
              "#fb9f3a"
             ],
             [
              0.8888888888888888,
              "#fdca26"
             ],
             [
              1,
              "#f0f921"
             ]
            ],
            "type": "contour"
           }
          ],
          "contourcarpet": [
           {
            "colorbar": {
             "outlinewidth": 0,
             "ticks": ""
            },
            "type": "contourcarpet"
           }
          ],
          "heatmap": [
           {
            "colorbar": {
             "outlinewidth": 0,
             "ticks": ""
            },
            "colorscale": [
             [
              0,
              "#0d0887"
             ],
             [
              0.1111111111111111,
              "#46039f"
             ],
             [
              0.2222222222222222,
              "#7201a8"
             ],
             [
              0.3333333333333333,
              "#9c179e"
             ],
             [
              0.4444444444444444,
              "#bd3786"
             ],
             [
              0.5555555555555556,
              "#d8576b"
             ],
             [
              0.6666666666666666,
              "#ed7953"
             ],
             [
              0.7777777777777778,
              "#fb9f3a"
             ],
             [
              0.8888888888888888,
              "#fdca26"
             ],
             [
              1,
              "#f0f921"
             ]
            ],
            "type": "heatmap"
           }
          ],
          "heatmapgl": [
           {
            "colorbar": {
             "outlinewidth": 0,
             "ticks": ""
            },
            "colorscale": [
             [
              0,
              "#0d0887"
             ],
             [
              0.1111111111111111,
              "#46039f"
             ],
             [
              0.2222222222222222,
              "#7201a8"
             ],
             [
              0.3333333333333333,
              "#9c179e"
             ],
             [
              0.4444444444444444,
              "#bd3786"
             ],
             [
              0.5555555555555556,
              "#d8576b"
             ],
             [
              0.6666666666666666,
              "#ed7953"
             ],
             [
              0.7777777777777778,
              "#fb9f3a"
             ],
             [
              0.8888888888888888,
              "#fdca26"
             ],
             [
              1,
              "#f0f921"
             ]
            ],
            "type": "heatmapgl"
           }
          ],
          "histogram": [
           {
            "marker": {
             "colorbar": {
              "outlinewidth": 0,
              "ticks": ""
             }
            },
            "type": "histogram"
           }
          ],
          "histogram2d": [
           {
            "colorbar": {
             "outlinewidth": 0,
             "ticks": ""
            },
            "colorscale": [
             [
              0,
              "#0d0887"
             ],
             [
              0.1111111111111111,
              "#46039f"
             ],
             [
              0.2222222222222222,
              "#7201a8"
             ],
             [
              0.3333333333333333,
              "#9c179e"
             ],
             [
              0.4444444444444444,
              "#bd3786"
             ],
             [
              0.5555555555555556,
              "#d8576b"
             ],
             [
              0.6666666666666666,
              "#ed7953"
             ],
             [
              0.7777777777777778,
              "#fb9f3a"
             ],
             [
              0.8888888888888888,
              "#fdca26"
             ],
             [
              1,
              "#f0f921"
             ]
            ],
            "type": "histogram2d"
           }
          ],
          "histogram2dcontour": [
           {
            "colorbar": {
             "outlinewidth": 0,
             "ticks": ""
            },
            "colorscale": [
             [
              0,
              "#0d0887"
             ],
             [
              0.1111111111111111,
              "#46039f"
             ],
             [
              0.2222222222222222,
              "#7201a8"
             ],
             [
              0.3333333333333333,
              "#9c179e"
             ],
             [
              0.4444444444444444,
              "#bd3786"
             ],
             [
              0.5555555555555556,
              "#d8576b"
             ],
             [
              0.6666666666666666,
              "#ed7953"
             ],
             [
              0.7777777777777778,
              "#fb9f3a"
             ],
             [
              0.8888888888888888,
              "#fdca26"
             ],
             [
              1,
              "#f0f921"
             ]
            ],
            "type": "histogram2dcontour"
           }
          ],
          "mesh3d": [
           {
            "colorbar": {
             "outlinewidth": 0,
             "ticks": ""
            },
            "type": "mesh3d"
           }
          ],
          "parcoords": [
           {
            "line": {
             "colorbar": {
              "outlinewidth": 0,
              "ticks": ""
             }
            },
            "type": "parcoords"
           }
          ],
          "pie": [
           {
            "automargin": true,
            "type": "pie"
           }
          ],
          "scatter": [
           {
            "marker": {
             "colorbar": {
              "outlinewidth": 0,
              "ticks": ""
             }
            },
            "type": "scatter"
           }
          ],
          "scatter3d": [
           {
            "line": {
             "colorbar": {
              "outlinewidth": 0,
              "ticks": ""
             }
            },
            "marker": {
             "colorbar": {
              "outlinewidth": 0,
              "ticks": ""
             }
            },
            "type": "scatter3d"
           }
          ],
          "scattercarpet": [
           {
            "marker": {
             "colorbar": {
              "outlinewidth": 0,
              "ticks": ""
             }
            },
            "type": "scattercarpet"
           }
          ],
          "scattergeo": [
           {
            "marker": {
             "colorbar": {
              "outlinewidth": 0,
              "ticks": ""
             }
            },
            "type": "scattergeo"
           }
          ],
          "scattergl": [
           {
            "marker": {
             "colorbar": {
              "outlinewidth": 0,
              "ticks": ""
             }
            },
            "type": "scattergl"
           }
          ],
          "scattermapbox": [
           {
            "marker": {
             "colorbar": {
              "outlinewidth": 0,
              "ticks": ""
             }
            },
            "type": "scattermapbox"
           }
          ],
          "scatterpolar": [
           {
            "marker": {
             "colorbar": {
              "outlinewidth": 0,
              "ticks": ""
             }
            },
            "type": "scatterpolar"
           }
          ],
          "scatterpolargl": [
           {
            "marker": {
             "colorbar": {
              "outlinewidth": 0,
              "ticks": ""
             }
            },
            "type": "scatterpolargl"
           }
          ],
          "scatterternary": [
           {
            "marker": {
             "colorbar": {
              "outlinewidth": 0,
              "ticks": ""
             }
            },
            "type": "scatterternary"
           }
          ],
          "surface": [
           {
            "colorbar": {
             "outlinewidth": 0,
             "ticks": ""
            },
            "colorscale": [
             [
              0,
              "#0d0887"
             ],
             [
              0.1111111111111111,
              "#46039f"
             ],
             [
              0.2222222222222222,
              "#7201a8"
             ],
             [
              0.3333333333333333,
              "#9c179e"
             ],
             [
              0.4444444444444444,
              "#bd3786"
             ],
             [
              0.5555555555555556,
              "#d8576b"
             ],
             [
              0.6666666666666666,
              "#ed7953"
             ],
             [
              0.7777777777777778,
              "#fb9f3a"
             ],
             [
              0.8888888888888888,
              "#fdca26"
             ],
             [
              1,
              "#f0f921"
             ]
            ],
            "type": "surface"
           }
          ],
          "table": [
           {
            "cells": {
             "fill": {
              "color": "#EBF0F8"
             },
             "line": {
              "color": "white"
             }
            },
            "header": {
             "fill": {
              "color": "#C8D4E3"
             },
             "line": {
              "color": "white"
             }
            },
            "type": "table"
           }
          ]
         },
         "layout": {
          "annotationdefaults": {
           "arrowcolor": "#2a3f5f",
           "arrowhead": 0,
           "arrowwidth": 1
          },
          "coloraxis": {
           "colorbar": {
            "outlinewidth": 0,
            "ticks": ""
           }
          },
          "colorscale": {
           "diverging": [
            [
             0,
             "#8e0152"
            ],
            [
             0.1,
             "#c51b7d"
            ],
            [
             0.2,
             "#de77ae"
            ],
            [
             0.3,
             "#f1b6da"
            ],
            [
             0.4,
             "#fde0ef"
            ],
            [
             0.5,
             "#f7f7f7"
            ],
            [
             0.6,
             "#e6f5d0"
            ],
            [
             0.7,
             "#b8e186"
            ],
            [
             0.8,
             "#7fbc41"
            ],
            [
             0.9,
             "#4d9221"
            ],
            [
             1,
             "#276419"
            ]
           ],
           "sequential": [
            [
             0,
             "#0d0887"
            ],
            [
             0.1111111111111111,
             "#46039f"
            ],
            [
             0.2222222222222222,
             "#7201a8"
            ],
            [
             0.3333333333333333,
             "#9c179e"
            ],
            [
             0.4444444444444444,
             "#bd3786"
            ],
            [
             0.5555555555555556,
             "#d8576b"
            ],
            [
             0.6666666666666666,
             "#ed7953"
            ],
            [
             0.7777777777777778,
             "#fb9f3a"
            ],
            [
             0.8888888888888888,
             "#fdca26"
            ],
            [
             1,
             "#f0f921"
            ]
           ],
           "sequentialminus": [
            [
             0,
             "#0d0887"
            ],
            [
             0.1111111111111111,
             "#46039f"
            ],
            [
             0.2222222222222222,
             "#7201a8"
            ],
            [
             0.3333333333333333,
             "#9c179e"
            ],
            [
             0.4444444444444444,
             "#bd3786"
            ],
            [
             0.5555555555555556,
             "#d8576b"
            ],
            [
             0.6666666666666666,
             "#ed7953"
            ],
            [
             0.7777777777777778,
             "#fb9f3a"
            ],
            [
             0.8888888888888888,
             "#fdca26"
            ],
            [
             1,
             "#f0f921"
            ]
           ]
          },
          "colorway": [
           "#636efa",
           "#EF553B",
           "#00cc96",
           "#ab63fa",
           "#FFA15A",
           "#19d3f3",
           "#FF6692",
           "#B6E880",
           "#FF97FF",
           "#FECB52"
          ],
          "font": {
           "color": "#2a3f5f"
          },
          "geo": {
           "bgcolor": "white",
           "lakecolor": "white",
           "landcolor": "#E5ECF6",
           "showlakes": true,
           "showland": true,
           "subunitcolor": "white"
          },
          "hoverlabel": {
           "align": "left"
          },
          "hovermode": "closest",
          "mapbox": {
           "style": "light"
          },
          "paper_bgcolor": "white",
          "plot_bgcolor": "#E5ECF6",
          "polar": {
           "angularaxis": {
            "gridcolor": "white",
            "linecolor": "white",
            "ticks": ""
           },
           "bgcolor": "#E5ECF6",
           "radialaxis": {
            "gridcolor": "white",
            "linecolor": "white",
            "ticks": ""
           }
          },
          "scene": {
           "xaxis": {
            "backgroundcolor": "#E5ECF6",
            "gridcolor": "white",
            "gridwidth": 2,
            "linecolor": "white",
            "showbackground": true,
            "ticks": "",
            "zerolinecolor": "white"
           },
           "yaxis": {
            "backgroundcolor": "#E5ECF6",
            "gridcolor": "white",
            "gridwidth": 2,
            "linecolor": "white",
            "showbackground": true,
            "ticks": "",
            "zerolinecolor": "white"
           },
           "zaxis": {
            "backgroundcolor": "#E5ECF6",
            "gridcolor": "white",
            "gridwidth": 2,
            "linecolor": "white",
            "showbackground": true,
            "ticks": "",
            "zerolinecolor": "white"
           }
          },
          "shapedefaults": {
           "line": {
            "color": "#2a3f5f"
           }
          },
          "ternary": {
           "aaxis": {
            "gridcolor": "white",
            "linecolor": "white",
            "ticks": ""
           },
           "baxis": {
            "gridcolor": "white",
            "linecolor": "white",
            "ticks": ""
           },
           "bgcolor": "#E5ECF6",
           "caxis": {
            "gridcolor": "white",
            "linecolor": "white",
            "ticks": ""
           }
          },
          "title": {
           "x": 0.05
          },
          "xaxis": {
           "automargin": true,
           "gridcolor": "white",
           "linecolor": "white",
           "ticks": "",
           "title": {
            "standoff": 15
           },
           "zerolinecolor": "white",
           "zerolinewidth": 2
          },
          "yaxis": {
           "automargin": true,
           "gridcolor": "white",
           "linecolor": "white",
           "ticks": "",
           "title": {
            "standoff": 15
           },
           "zerolinecolor": "white",
           "zerolinewidth": 2
          }
         }
        },
        "title": {
         "text": "Monthly Rental Fee by Floor (Grouped)"
        },
        "width": 800,
        "xaxis": {
         "anchor": "y",
         "domain": [
          0,
          1
         ],
         "title": {
          "text": "Floor (Grouped)"
         }
        },
        "yaxis": {
         "anchor": "x",
         "domain": [
          0,
          1
         ],
         "title": {
          "text": "Monthly Rental Fee (¥)"
         }
        }
       }
      }
     },
     "metadata": {}
    }
   ],
   "metadata": {}
  },
  {
   "cell_type": "code",
   "execution_count": 25,
   "source": [
    "fig = px.bar(floor_stats,\n",
    "             x=\"floor_group\",\n",
    "             y=\"price_per_sqm\",\n",
    "             text='price_per_sqm',\n",
    "             color = 'listing_count',\n",
    "             color_continuous_scale=['#D68E7E','#975243'])\n",
    "\n",
    "fig.update_traces(textposition='outside',\n",
    "                  texttemplate='%{text}',   \n",
    "                  textfont_size=14\n",
    "                  )\n",
    "\n",
    "fig.update_layout(title_text = 'Monthly Rental Fee per Sqm by Floor (Grouped)',\n",
    "                  yaxis_title = 'Monthly Rental (¥)',\n",
    "                  xaxis_title = 'Floor (Grouped)',\n",
    "                  height = 600, width = 800)\n",
    "\n",
    "fig.show()"
   ],
   "outputs": [
    {
     "output_type": "display_data",
     "data": {
      "application/vnd.plotly.v1+json": {
       "config": {
        "plotlyServerURL": "https://plot.ly"
       },
       "data": [
        {
         "alignmentgroup": "True",
         "hoverlabel": {
          "namelength": 0
         },
         "hovertemplate": "floor_group=%{x}<br>price_per_sqm=%{text}<br>listing_count=%{marker.color}",
         "legendgroup": "",
         "marker": {
          "color": [
           356,
           341,
           379,
           931
          ],
          "coloraxis": "coloraxis"
         },
         "name": "",
         "offsetgroup": "",
         "orientation": "v",
         "showlegend": false,
         "text": [
          168,
          165,
          168,
          172
         ],
         "textfont": {
          "size": 14
         },
         "textposition": "outside",
         "texttemplate": "%{text}",
         "type": "bar",
         "x": [
          "1st",
          "2nd",
          "3rd",
          "high"
         ],
         "xaxis": "x",
         "y": [
          168,
          165,
          168,
          172
         ],
         "yaxis": "y"
        }
       ],
       "layout": {
        "barmode": "relative",
        "coloraxis": {
         "colorbar": {
          "title": {
           "text": "listing_count"
          }
         },
         "colorscale": [
          [
           0,
           "#D68E7E"
          ],
          [
           1,
           "#975243"
          ]
         ]
        },
        "height": 600,
        "legend": {
         "tracegroupgap": 0
        },
        "margin": {
         "t": 60
        },
        "template": {
         "data": {
          "bar": [
           {
            "error_x": {
             "color": "#2a3f5f"
            },
            "error_y": {
             "color": "#2a3f5f"
            },
            "marker": {
             "line": {
              "color": "#E5ECF6",
              "width": 0.5
             }
            },
            "type": "bar"
           }
          ],
          "barpolar": [
           {
            "marker": {
             "line": {
              "color": "#E5ECF6",
              "width": 0.5
             }
            },
            "type": "barpolar"
           }
          ],
          "carpet": [
           {
            "aaxis": {
             "endlinecolor": "#2a3f5f",
             "gridcolor": "white",
             "linecolor": "white",
             "minorgridcolor": "white",
             "startlinecolor": "#2a3f5f"
            },
            "baxis": {
             "endlinecolor": "#2a3f5f",
             "gridcolor": "white",
             "linecolor": "white",
             "minorgridcolor": "white",
             "startlinecolor": "#2a3f5f"
            },
            "type": "carpet"
           }
          ],
          "choropleth": [
           {
            "colorbar": {
             "outlinewidth": 0,
             "ticks": ""
            },
            "type": "choropleth"
           }
          ],
          "contour": [
           {
            "colorbar": {
             "outlinewidth": 0,
             "ticks": ""
            },
            "colorscale": [
             [
              0,
              "#0d0887"
             ],
             [
              0.1111111111111111,
              "#46039f"
             ],
             [
              0.2222222222222222,
              "#7201a8"
             ],
             [
              0.3333333333333333,
              "#9c179e"
             ],
             [
              0.4444444444444444,
              "#bd3786"
             ],
             [
              0.5555555555555556,
              "#d8576b"
             ],
             [
              0.6666666666666666,
              "#ed7953"
             ],
             [
              0.7777777777777778,
              "#fb9f3a"
             ],
             [
              0.8888888888888888,
              "#fdca26"
             ],
             [
              1,
              "#f0f921"
             ]
            ],
            "type": "contour"
           }
          ],
          "contourcarpet": [
           {
            "colorbar": {
             "outlinewidth": 0,
             "ticks": ""
            },
            "type": "contourcarpet"
           }
          ],
          "heatmap": [
           {
            "colorbar": {
             "outlinewidth": 0,
             "ticks": ""
            },
            "colorscale": [
             [
              0,
              "#0d0887"
             ],
             [
              0.1111111111111111,
              "#46039f"
             ],
             [
              0.2222222222222222,
              "#7201a8"
             ],
             [
              0.3333333333333333,
              "#9c179e"
             ],
             [
              0.4444444444444444,
              "#bd3786"
             ],
             [
              0.5555555555555556,
              "#d8576b"
             ],
             [
              0.6666666666666666,
              "#ed7953"
             ],
             [
              0.7777777777777778,
              "#fb9f3a"
             ],
             [
              0.8888888888888888,
              "#fdca26"
             ],
             [
              1,
              "#f0f921"
             ]
            ],
            "type": "heatmap"
           }
          ],
          "heatmapgl": [
           {
            "colorbar": {
             "outlinewidth": 0,
             "ticks": ""
            },
            "colorscale": [
             [
              0,
              "#0d0887"
             ],
             [
              0.1111111111111111,
              "#46039f"
             ],
             [
              0.2222222222222222,
              "#7201a8"
             ],
             [
              0.3333333333333333,
              "#9c179e"
             ],
             [
              0.4444444444444444,
              "#bd3786"
             ],
             [
              0.5555555555555556,
              "#d8576b"
             ],
             [
              0.6666666666666666,
              "#ed7953"
             ],
             [
              0.7777777777777778,
              "#fb9f3a"
             ],
             [
              0.8888888888888888,
              "#fdca26"
             ],
             [
              1,
              "#f0f921"
             ]
            ],
            "type": "heatmapgl"
           }
          ],
          "histogram": [
           {
            "marker": {
             "colorbar": {
              "outlinewidth": 0,
              "ticks": ""
             }
            },
            "type": "histogram"
           }
          ],
          "histogram2d": [
           {
            "colorbar": {
             "outlinewidth": 0,
             "ticks": ""
            },
            "colorscale": [
             [
              0,
              "#0d0887"
             ],
             [
              0.1111111111111111,
              "#46039f"
             ],
             [
              0.2222222222222222,
              "#7201a8"
             ],
             [
              0.3333333333333333,
              "#9c179e"
             ],
             [
              0.4444444444444444,
              "#bd3786"
             ],
             [
              0.5555555555555556,
              "#d8576b"
             ],
             [
              0.6666666666666666,
              "#ed7953"
             ],
             [
              0.7777777777777778,
              "#fb9f3a"
             ],
             [
              0.8888888888888888,
              "#fdca26"
             ],
             [
              1,
              "#f0f921"
             ]
            ],
            "type": "histogram2d"
           }
          ],
          "histogram2dcontour": [
           {
            "colorbar": {
             "outlinewidth": 0,
             "ticks": ""
            },
            "colorscale": [
             [
              0,
              "#0d0887"
             ],
             [
              0.1111111111111111,
              "#46039f"
             ],
             [
              0.2222222222222222,
              "#7201a8"
             ],
             [
              0.3333333333333333,
              "#9c179e"
             ],
             [
              0.4444444444444444,
              "#bd3786"
             ],
             [
              0.5555555555555556,
              "#d8576b"
             ],
             [
              0.6666666666666666,
              "#ed7953"
             ],
             [
              0.7777777777777778,
              "#fb9f3a"
             ],
             [
              0.8888888888888888,
              "#fdca26"
             ],
             [
              1,
              "#f0f921"
             ]
            ],
            "type": "histogram2dcontour"
           }
          ],
          "mesh3d": [
           {
            "colorbar": {
             "outlinewidth": 0,
             "ticks": ""
            },
            "type": "mesh3d"
           }
          ],
          "parcoords": [
           {
            "line": {
             "colorbar": {
              "outlinewidth": 0,
              "ticks": ""
             }
            },
            "type": "parcoords"
           }
          ],
          "pie": [
           {
            "automargin": true,
            "type": "pie"
           }
          ],
          "scatter": [
           {
            "marker": {
             "colorbar": {
              "outlinewidth": 0,
              "ticks": ""
             }
            },
            "type": "scatter"
           }
          ],
          "scatter3d": [
           {
            "line": {
             "colorbar": {
              "outlinewidth": 0,
              "ticks": ""
             }
            },
            "marker": {
             "colorbar": {
              "outlinewidth": 0,
              "ticks": ""
             }
            },
            "type": "scatter3d"
           }
          ],
          "scattercarpet": [
           {
            "marker": {
             "colorbar": {
              "outlinewidth": 0,
              "ticks": ""
             }
            },
            "type": "scattercarpet"
           }
          ],
          "scattergeo": [
           {
            "marker": {
             "colorbar": {
              "outlinewidth": 0,
              "ticks": ""
             }
            },
            "type": "scattergeo"
           }
          ],
          "scattergl": [
           {
            "marker": {
             "colorbar": {
              "outlinewidth": 0,
              "ticks": ""
             }
            },
            "type": "scattergl"
           }
          ],
          "scattermapbox": [
           {
            "marker": {
             "colorbar": {
              "outlinewidth": 0,
              "ticks": ""
             }
            },
            "type": "scattermapbox"
           }
          ],
          "scatterpolar": [
           {
            "marker": {
             "colorbar": {
              "outlinewidth": 0,
              "ticks": ""
             }
            },
            "type": "scatterpolar"
           }
          ],
          "scatterpolargl": [
           {
            "marker": {
             "colorbar": {
              "outlinewidth": 0,
              "ticks": ""
             }
            },
            "type": "scatterpolargl"
           }
          ],
          "scatterternary": [
           {
            "marker": {
             "colorbar": {
              "outlinewidth": 0,
              "ticks": ""
             }
            },
            "type": "scatterternary"
           }
          ],
          "surface": [
           {
            "colorbar": {
             "outlinewidth": 0,
             "ticks": ""
            },
            "colorscale": [
             [
              0,
              "#0d0887"
             ],
             [
              0.1111111111111111,
              "#46039f"
             ],
             [
              0.2222222222222222,
              "#7201a8"
             ],
             [
              0.3333333333333333,
              "#9c179e"
             ],
             [
              0.4444444444444444,
              "#bd3786"
             ],
             [
              0.5555555555555556,
              "#d8576b"
             ],
             [
              0.6666666666666666,
              "#ed7953"
             ],
             [
              0.7777777777777778,
              "#fb9f3a"
             ],
             [
              0.8888888888888888,
              "#fdca26"
             ],
             [
              1,
              "#f0f921"
             ]
            ],
            "type": "surface"
           }
          ],
          "table": [
           {
            "cells": {
             "fill": {
              "color": "#EBF0F8"
             },
             "line": {
              "color": "white"
             }
            },
            "header": {
             "fill": {
              "color": "#C8D4E3"
             },
             "line": {
              "color": "white"
             }
            },
            "type": "table"
           }
          ]
         },
         "layout": {
          "annotationdefaults": {
           "arrowcolor": "#2a3f5f",
           "arrowhead": 0,
           "arrowwidth": 1
          },
          "coloraxis": {
           "colorbar": {
            "outlinewidth": 0,
            "ticks": ""
           }
          },
          "colorscale": {
           "diverging": [
            [
             0,
             "#8e0152"
            ],
            [
             0.1,
             "#c51b7d"
            ],
            [
             0.2,
             "#de77ae"
            ],
            [
             0.3,
             "#f1b6da"
            ],
            [
             0.4,
             "#fde0ef"
            ],
            [
             0.5,
             "#f7f7f7"
            ],
            [
             0.6,
             "#e6f5d0"
            ],
            [
             0.7,
             "#b8e186"
            ],
            [
             0.8,
             "#7fbc41"
            ],
            [
             0.9,
             "#4d9221"
            ],
            [
             1,
             "#276419"
            ]
           ],
           "sequential": [
            [
             0,
             "#0d0887"
            ],
            [
             0.1111111111111111,
             "#46039f"
            ],
            [
             0.2222222222222222,
             "#7201a8"
            ],
            [
             0.3333333333333333,
             "#9c179e"
            ],
            [
             0.4444444444444444,
             "#bd3786"
            ],
            [
             0.5555555555555556,
             "#d8576b"
            ],
            [
             0.6666666666666666,
             "#ed7953"
            ],
            [
             0.7777777777777778,
             "#fb9f3a"
            ],
            [
             0.8888888888888888,
             "#fdca26"
            ],
            [
             1,
             "#f0f921"
            ]
           ],
           "sequentialminus": [
            [
             0,
             "#0d0887"
            ],
            [
             0.1111111111111111,
             "#46039f"
            ],
            [
             0.2222222222222222,
             "#7201a8"
            ],
            [
             0.3333333333333333,
             "#9c179e"
            ],
            [
             0.4444444444444444,
             "#bd3786"
            ],
            [
             0.5555555555555556,
             "#d8576b"
            ],
            [
             0.6666666666666666,
             "#ed7953"
            ],
            [
             0.7777777777777778,
             "#fb9f3a"
            ],
            [
             0.8888888888888888,
             "#fdca26"
            ],
            [
             1,
             "#f0f921"
            ]
           ]
          },
          "colorway": [
           "#636efa",
           "#EF553B",
           "#00cc96",
           "#ab63fa",
           "#FFA15A",
           "#19d3f3",
           "#FF6692",
           "#B6E880",
           "#FF97FF",
           "#FECB52"
          ],
          "font": {
           "color": "#2a3f5f"
          },
          "geo": {
           "bgcolor": "white",
           "lakecolor": "white",
           "landcolor": "#E5ECF6",
           "showlakes": true,
           "showland": true,
           "subunitcolor": "white"
          },
          "hoverlabel": {
           "align": "left"
          },
          "hovermode": "closest",
          "mapbox": {
           "style": "light"
          },
          "paper_bgcolor": "white",
          "plot_bgcolor": "#E5ECF6",
          "polar": {
           "angularaxis": {
            "gridcolor": "white",
            "linecolor": "white",
            "ticks": ""
           },
           "bgcolor": "#E5ECF6",
           "radialaxis": {
            "gridcolor": "white",
            "linecolor": "white",
            "ticks": ""
           }
          },
          "scene": {
           "xaxis": {
            "backgroundcolor": "#E5ECF6",
            "gridcolor": "white",
            "gridwidth": 2,
            "linecolor": "white",
            "showbackground": true,
            "ticks": "",
            "zerolinecolor": "white"
           },
           "yaxis": {
            "backgroundcolor": "#E5ECF6",
            "gridcolor": "white",
            "gridwidth": 2,
            "linecolor": "white",
            "showbackground": true,
            "ticks": "",
            "zerolinecolor": "white"
           },
           "zaxis": {
            "backgroundcolor": "#E5ECF6",
            "gridcolor": "white",
            "gridwidth": 2,
            "linecolor": "white",
            "showbackground": true,
            "ticks": "",
            "zerolinecolor": "white"
           }
          },
          "shapedefaults": {
           "line": {
            "color": "#2a3f5f"
           }
          },
          "ternary": {
           "aaxis": {
            "gridcolor": "white",
            "linecolor": "white",
            "ticks": ""
           },
           "baxis": {
            "gridcolor": "white",
            "linecolor": "white",
            "ticks": ""
           },
           "bgcolor": "#E5ECF6",
           "caxis": {
            "gridcolor": "white",
            "linecolor": "white",
            "ticks": ""
           }
          },
          "title": {
           "x": 0.05
          },
          "xaxis": {
           "automargin": true,
           "gridcolor": "white",
           "linecolor": "white",
           "ticks": "",
           "title": {
            "standoff": 15
           },
           "zerolinecolor": "white",
           "zerolinewidth": 2
          },
          "yaxis": {
           "automargin": true,
           "gridcolor": "white",
           "linecolor": "white",
           "ticks": "",
           "title": {
            "standoff": 15
           },
           "zerolinecolor": "white",
           "zerolinewidth": 2
          }
         }
        },
        "title": {
         "text": "Monthly Rental Fee per Sqm by Floor (Grouped)"
        },
        "width": 800,
        "xaxis": {
         "anchor": "y",
         "domain": [
          0,
          1
         ],
         "title": {
          "text": "Floor (Grouped)"
         }
        },
        "yaxis": {
         "anchor": "x",
         "domain": [
          0,
          1
         ],
         "title": {
          "text": "Monthly Rental (¥)"
         }
        }
       }
      }
     },
     "metadata": {}
    }
   ],
   "metadata": {}
  },
  {
   "cell_type": "code",
   "execution_count": 26,
   "source": [
    "main_df.loc[:,('metro_min_walk_group')] = ['a_0_5' if 0 <= int(x) <= 5 else\n",
    "                                           'b_6_10' if 6 <= int(x) <= 10 else\n",
    "                                           'c_11_15' if 11 <= int(x) <= 15 else\n",
    "                                           'd_16_20' if 16 <= int(x) <= 20 else\n",
    "                                           'e_21_25' if 21 <= int(x) <= 25 else\n",
    "                                           'f_25_30' if 25 <= int(x) <= 30 else\n",
    "                                           'f_31+' for x in main_df['metro_min_walk']]\n",
    "\n",
    "metro_df = main_df[['price','price_per_sqm','metro_min_walk_group']]\n",
    "\n",
    "metro_stats = metro_df[['price','price_per_sqm','metro_min_walk_group']].groupby('metro_min_walk_group').mean()\\\n",
    "    .merge(metro_df[['price','price_per_sqm','metro_min_walk_group']].groupby('metro_min_walk_group').count(), left_index = True, right_index = True)\n",
    "\n",
    "metro_stats = metro_stats.rename(columns = {'price_x':'price','price_per_sqm_x':'price_per_sqm','price_y':'listing_count'})\\\n",
    "                         .drop(columns = ['price_per_sqm_y']).reset_index().round()\n",
    "\n",
    "metro_stats"
   ],
   "outputs": [
    {
     "output_type": "execute_result",
     "data": {
      "text/plain": [
       "  metro_min_walk_group    price  price_per_sqm  listing_count\n",
       "0                a_0_5  10456.0          168.0           1019\n",
       "1               b_6_10  10426.0          170.0            918\n",
       "2              c_11_15  10541.0          173.0             66\n",
       "3              d_16_20  12050.0          202.0              2\n",
       "4              f_25_30  11800.0          174.0              1\n",
       "5                f_31+  14000.0          233.0              1"
      ],
      "text/html": [
       "<div>\n",
       "<style scoped>\n",
       "    .dataframe tbody tr th:only-of-type {\n",
       "        vertical-align: middle;\n",
       "    }\n",
       "\n",
       "    .dataframe tbody tr th {\n",
       "        vertical-align: top;\n",
       "    }\n",
       "\n",
       "    .dataframe thead th {\n",
       "        text-align: right;\n",
       "    }\n",
       "</style>\n",
       "<table border=\"1\" class=\"dataframe\">\n",
       "  <thead>\n",
       "    <tr style=\"text-align: right;\">\n",
       "      <th></th>\n",
       "      <th>metro_min_walk_group</th>\n",
       "      <th>price</th>\n",
       "      <th>price_per_sqm</th>\n",
       "      <th>listing_count</th>\n",
       "    </tr>\n",
       "  </thead>\n",
       "  <tbody>\n",
       "    <tr>\n",
       "      <th>0</th>\n",
       "      <td>a_0_5</td>\n",
       "      <td>10456.0</td>\n",
       "      <td>168.0</td>\n",
       "      <td>1019</td>\n",
       "    </tr>\n",
       "    <tr>\n",
       "      <th>1</th>\n",
       "      <td>b_6_10</td>\n",
       "      <td>10426.0</td>\n",
       "      <td>170.0</td>\n",
       "      <td>918</td>\n",
       "    </tr>\n",
       "    <tr>\n",
       "      <th>2</th>\n",
       "      <td>c_11_15</td>\n",
       "      <td>10541.0</td>\n",
       "      <td>173.0</td>\n",
       "      <td>66</td>\n",
       "    </tr>\n",
       "    <tr>\n",
       "      <th>3</th>\n",
       "      <td>d_16_20</td>\n",
       "      <td>12050.0</td>\n",
       "      <td>202.0</td>\n",
       "      <td>2</td>\n",
       "    </tr>\n",
       "    <tr>\n",
       "      <th>4</th>\n",
       "      <td>f_25_30</td>\n",
       "      <td>11800.0</td>\n",
       "      <td>174.0</td>\n",
       "      <td>1</td>\n",
       "    </tr>\n",
       "    <tr>\n",
       "      <th>5</th>\n",
       "      <td>f_31+</td>\n",
       "      <td>14000.0</td>\n",
       "      <td>233.0</td>\n",
       "      <td>1</td>\n",
       "    </tr>\n",
       "  </tbody>\n",
       "</table>\n",
       "</div>"
      ]
     },
     "metadata": {},
     "execution_count": 26
    }
   ],
   "metadata": {}
  },
  {
   "cell_type": "code",
   "execution_count": 29,
   "source": [
    "fig = px.bar(metro_stats[metro_stats['metro_min_walk_group'].isin(['a_0_5','b_6_10','c_11_15'])],\n",
    "             x=\"metro_min_walk_group\",\n",
    "             y=\"price\",\n",
    "             text='price',\n",
    "             color = 'listing_count',\n",
    "             color_continuous_scale=['#18BCC1','#22979B'])\n",
    "\n",
    "fig.update_traces(textposition='outside',\n",
    "                  texttemplate='%{text}',   \n",
    "                  textfont_size=14\n",
    "                  )\n",
    "\n",
    "fig.update_layout(title_text = 'Monthly Rental Fee by Proximity to Subway',\n",
    "                  yaxis_title = 'Monthly Rental Fee (¥)',\n",
    "                  xaxis_title = 'Proximity to Subway (minutes grouped)',\n",
    "                  height = 600, width = 800)\n",
    "\n",
    "fig.show()"
   ],
   "outputs": [
    {
     "output_type": "display_data",
     "data": {
      "application/vnd.plotly.v1+json": {
       "config": {
        "plotlyServerURL": "https://plot.ly"
       },
       "data": [
        {
         "alignmentgroup": "True",
         "hoverlabel": {
          "namelength": 0
         },
         "hovertemplate": "metro_min_walk_group=%{x}<br>price=%{text}<br>listing_count=%{marker.color}",
         "legendgroup": "",
         "marker": {
          "color": [
           1019,
           918,
           66
          ],
          "coloraxis": "coloraxis"
         },
         "name": "",
         "offsetgroup": "",
         "orientation": "v",
         "showlegend": false,
         "text": [
          10456,
          10426,
          10541
         ],
         "textfont": {
          "size": 14
         },
         "textposition": "outside",
         "texttemplate": "%{text}",
         "type": "bar",
         "x": [
          "a_0_5",
          "b_6_10",
          "c_11_15"
         ],
         "xaxis": "x",
         "y": [
          10456,
          10426,
          10541
         ],
         "yaxis": "y"
        }
       ],
       "layout": {
        "barmode": "relative",
        "coloraxis": {
         "colorbar": {
          "title": {
           "text": "listing_count"
          }
         },
         "colorscale": [
          [
           0,
           "#18BCC1"
          ],
          [
           1,
           "#22979B"
          ]
         ]
        },
        "height": 600,
        "legend": {
         "tracegroupgap": 0
        },
        "margin": {
         "t": 60
        },
        "template": {
         "data": {
          "bar": [
           {
            "error_x": {
             "color": "#2a3f5f"
            },
            "error_y": {
             "color": "#2a3f5f"
            },
            "marker": {
             "line": {
              "color": "#E5ECF6",
              "width": 0.5
             }
            },
            "type": "bar"
           }
          ],
          "barpolar": [
           {
            "marker": {
             "line": {
              "color": "#E5ECF6",
              "width": 0.5
             }
            },
            "type": "barpolar"
           }
          ],
          "carpet": [
           {
            "aaxis": {
             "endlinecolor": "#2a3f5f",
             "gridcolor": "white",
             "linecolor": "white",
             "minorgridcolor": "white",
             "startlinecolor": "#2a3f5f"
            },
            "baxis": {
             "endlinecolor": "#2a3f5f",
             "gridcolor": "white",
             "linecolor": "white",
             "minorgridcolor": "white",
             "startlinecolor": "#2a3f5f"
            },
            "type": "carpet"
           }
          ],
          "choropleth": [
           {
            "colorbar": {
             "outlinewidth": 0,
             "ticks": ""
            },
            "type": "choropleth"
           }
          ],
          "contour": [
           {
            "colorbar": {
             "outlinewidth": 0,
             "ticks": ""
            },
            "colorscale": [
             [
              0,
              "#0d0887"
             ],
             [
              0.1111111111111111,
              "#46039f"
             ],
             [
              0.2222222222222222,
              "#7201a8"
             ],
             [
              0.3333333333333333,
              "#9c179e"
             ],
             [
              0.4444444444444444,
              "#bd3786"
             ],
             [
              0.5555555555555556,
              "#d8576b"
             ],
             [
              0.6666666666666666,
              "#ed7953"
             ],
             [
              0.7777777777777778,
              "#fb9f3a"
             ],
             [
              0.8888888888888888,
              "#fdca26"
             ],
             [
              1,
              "#f0f921"
             ]
            ],
            "type": "contour"
           }
          ],
          "contourcarpet": [
           {
            "colorbar": {
             "outlinewidth": 0,
             "ticks": ""
            },
            "type": "contourcarpet"
           }
          ],
          "heatmap": [
           {
            "colorbar": {
             "outlinewidth": 0,
             "ticks": ""
            },
            "colorscale": [
             [
              0,
              "#0d0887"
             ],
             [
              0.1111111111111111,
              "#46039f"
             ],
             [
              0.2222222222222222,
              "#7201a8"
             ],
             [
              0.3333333333333333,
              "#9c179e"
             ],
             [
              0.4444444444444444,
              "#bd3786"
             ],
             [
              0.5555555555555556,
              "#d8576b"
             ],
             [
              0.6666666666666666,
              "#ed7953"
             ],
             [
              0.7777777777777778,
              "#fb9f3a"
             ],
             [
              0.8888888888888888,
              "#fdca26"
             ],
             [
              1,
              "#f0f921"
             ]
            ],
            "type": "heatmap"
           }
          ],
          "heatmapgl": [
           {
            "colorbar": {
             "outlinewidth": 0,
             "ticks": ""
            },
            "colorscale": [
             [
              0,
              "#0d0887"
             ],
             [
              0.1111111111111111,
              "#46039f"
             ],
             [
              0.2222222222222222,
              "#7201a8"
             ],
             [
              0.3333333333333333,
              "#9c179e"
             ],
             [
              0.4444444444444444,
              "#bd3786"
             ],
             [
              0.5555555555555556,
              "#d8576b"
             ],
             [
              0.6666666666666666,
              "#ed7953"
             ],
             [
              0.7777777777777778,
              "#fb9f3a"
             ],
             [
              0.8888888888888888,
              "#fdca26"
             ],
             [
              1,
              "#f0f921"
             ]
            ],
            "type": "heatmapgl"
           }
          ],
          "histogram": [
           {
            "marker": {
             "colorbar": {
              "outlinewidth": 0,
              "ticks": ""
             }
            },
            "type": "histogram"
           }
          ],
          "histogram2d": [
           {
            "colorbar": {
             "outlinewidth": 0,
             "ticks": ""
            },
            "colorscale": [
             [
              0,
              "#0d0887"
             ],
             [
              0.1111111111111111,
              "#46039f"
             ],
             [
              0.2222222222222222,
              "#7201a8"
             ],
             [
              0.3333333333333333,
              "#9c179e"
             ],
             [
              0.4444444444444444,
              "#bd3786"
             ],
             [
              0.5555555555555556,
              "#d8576b"
             ],
             [
              0.6666666666666666,
              "#ed7953"
             ],
             [
              0.7777777777777778,
              "#fb9f3a"
             ],
             [
              0.8888888888888888,
              "#fdca26"
             ],
             [
              1,
              "#f0f921"
             ]
            ],
            "type": "histogram2d"
           }
          ],
          "histogram2dcontour": [
           {
            "colorbar": {
             "outlinewidth": 0,
             "ticks": ""
            },
            "colorscale": [
             [
              0,
              "#0d0887"
             ],
             [
              0.1111111111111111,
              "#46039f"
             ],
             [
              0.2222222222222222,
              "#7201a8"
             ],
             [
              0.3333333333333333,
              "#9c179e"
             ],
             [
              0.4444444444444444,
              "#bd3786"
             ],
             [
              0.5555555555555556,
              "#d8576b"
             ],
             [
              0.6666666666666666,
              "#ed7953"
             ],
             [
              0.7777777777777778,
              "#fb9f3a"
             ],
             [
              0.8888888888888888,
              "#fdca26"
             ],
             [
              1,
              "#f0f921"
             ]
            ],
            "type": "histogram2dcontour"
           }
          ],
          "mesh3d": [
           {
            "colorbar": {
             "outlinewidth": 0,
             "ticks": ""
            },
            "type": "mesh3d"
           }
          ],
          "parcoords": [
           {
            "line": {
             "colorbar": {
              "outlinewidth": 0,
              "ticks": ""
             }
            },
            "type": "parcoords"
           }
          ],
          "pie": [
           {
            "automargin": true,
            "type": "pie"
           }
          ],
          "scatter": [
           {
            "marker": {
             "colorbar": {
              "outlinewidth": 0,
              "ticks": ""
             }
            },
            "type": "scatter"
           }
          ],
          "scatter3d": [
           {
            "line": {
             "colorbar": {
              "outlinewidth": 0,
              "ticks": ""
             }
            },
            "marker": {
             "colorbar": {
              "outlinewidth": 0,
              "ticks": ""
             }
            },
            "type": "scatter3d"
           }
          ],
          "scattercarpet": [
           {
            "marker": {
             "colorbar": {
              "outlinewidth": 0,
              "ticks": ""
             }
            },
            "type": "scattercarpet"
           }
          ],
          "scattergeo": [
           {
            "marker": {
             "colorbar": {
              "outlinewidth": 0,
              "ticks": ""
             }
            },
            "type": "scattergeo"
           }
          ],
          "scattergl": [
           {
            "marker": {
             "colorbar": {
              "outlinewidth": 0,
              "ticks": ""
             }
            },
            "type": "scattergl"
           }
          ],
          "scattermapbox": [
           {
            "marker": {
             "colorbar": {
              "outlinewidth": 0,
              "ticks": ""
             }
            },
            "type": "scattermapbox"
           }
          ],
          "scatterpolar": [
           {
            "marker": {
             "colorbar": {
              "outlinewidth": 0,
              "ticks": ""
             }
            },
            "type": "scatterpolar"
           }
          ],
          "scatterpolargl": [
           {
            "marker": {
             "colorbar": {
              "outlinewidth": 0,
              "ticks": ""
             }
            },
            "type": "scatterpolargl"
           }
          ],
          "scatterternary": [
           {
            "marker": {
             "colorbar": {
              "outlinewidth": 0,
              "ticks": ""
             }
            },
            "type": "scatterternary"
           }
          ],
          "surface": [
           {
            "colorbar": {
             "outlinewidth": 0,
             "ticks": ""
            },
            "colorscale": [
             [
              0,
              "#0d0887"
             ],
             [
              0.1111111111111111,
              "#46039f"
             ],
             [
              0.2222222222222222,
              "#7201a8"
             ],
             [
              0.3333333333333333,
              "#9c179e"
             ],
             [
              0.4444444444444444,
              "#bd3786"
             ],
             [
              0.5555555555555556,
              "#d8576b"
             ],
             [
              0.6666666666666666,
              "#ed7953"
             ],
             [
              0.7777777777777778,
              "#fb9f3a"
             ],
             [
              0.8888888888888888,
              "#fdca26"
             ],
             [
              1,
              "#f0f921"
             ]
            ],
            "type": "surface"
           }
          ],
          "table": [
           {
            "cells": {
             "fill": {
              "color": "#EBF0F8"
             },
             "line": {
              "color": "white"
             }
            },
            "header": {
             "fill": {
              "color": "#C8D4E3"
             },
             "line": {
              "color": "white"
             }
            },
            "type": "table"
           }
          ]
         },
         "layout": {
          "annotationdefaults": {
           "arrowcolor": "#2a3f5f",
           "arrowhead": 0,
           "arrowwidth": 1
          },
          "coloraxis": {
           "colorbar": {
            "outlinewidth": 0,
            "ticks": ""
           }
          },
          "colorscale": {
           "diverging": [
            [
             0,
             "#8e0152"
            ],
            [
             0.1,
             "#c51b7d"
            ],
            [
             0.2,
             "#de77ae"
            ],
            [
             0.3,
             "#f1b6da"
            ],
            [
             0.4,
             "#fde0ef"
            ],
            [
             0.5,
             "#f7f7f7"
            ],
            [
             0.6,
             "#e6f5d0"
            ],
            [
             0.7,
             "#b8e186"
            ],
            [
             0.8,
             "#7fbc41"
            ],
            [
             0.9,
             "#4d9221"
            ],
            [
             1,
             "#276419"
            ]
           ],
           "sequential": [
            [
             0,
             "#0d0887"
            ],
            [
             0.1111111111111111,
             "#46039f"
            ],
            [
             0.2222222222222222,
             "#7201a8"
            ],
            [
             0.3333333333333333,
             "#9c179e"
            ],
            [
             0.4444444444444444,
             "#bd3786"
            ],
            [
             0.5555555555555556,
             "#d8576b"
            ],
            [
             0.6666666666666666,
             "#ed7953"
            ],
            [
             0.7777777777777778,
             "#fb9f3a"
            ],
            [
             0.8888888888888888,
             "#fdca26"
            ],
            [
             1,
             "#f0f921"
            ]
           ],
           "sequentialminus": [
            [
             0,
             "#0d0887"
            ],
            [
             0.1111111111111111,
             "#46039f"
            ],
            [
             0.2222222222222222,
             "#7201a8"
            ],
            [
             0.3333333333333333,
             "#9c179e"
            ],
            [
             0.4444444444444444,
             "#bd3786"
            ],
            [
             0.5555555555555556,
             "#d8576b"
            ],
            [
             0.6666666666666666,
             "#ed7953"
            ],
            [
             0.7777777777777778,
             "#fb9f3a"
            ],
            [
             0.8888888888888888,
             "#fdca26"
            ],
            [
             1,
             "#f0f921"
            ]
           ]
          },
          "colorway": [
           "#636efa",
           "#EF553B",
           "#00cc96",
           "#ab63fa",
           "#FFA15A",
           "#19d3f3",
           "#FF6692",
           "#B6E880",
           "#FF97FF",
           "#FECB52"
          ],
          "font": {
           "color": "#2a3f5f"
          },
          "geo": {
           "bgcolor": "white",
           "lakecolor": "white",
           "landcolor": "#E5ECF6",
           "showlakes": true,
           "showland": true,
           "subunitcolor": "white"
          },
          "hoverlabel": {
           "align": "left"
          },
          "hovermode": "closest",
          "mapbox": {
           "style": "light"
          },
          "paper_bgcolor": "white",
          "plot_bgcolor": "#E5ECF6",
          "polar": {
           "angularaxis": {
            "gridcolor": "white",
            "linecolor": "white",
            "ticks": ""
           },
           "bgcolor": "#E5ECF6",
           "radialaxis": {
            "gridcolor": "white",
            "linecolor": "white",
            "ticks": ""
           }
          },
          "scene": {
           "xaxis": {
            "backgroundcolor": "#E5ECF6",
            "gridcolor": "white",
            "gridwidth": 2,
            "linecolor": "white",
            "showbackground": true,
            "ticks": "",
            "zerolinecolor": "white"
           },
           "yaxis": {
            "backgroundcolor": "#E5ECF6",
            "gridcolor": "white",
            "gridwidth": 2,
            "linecolor": "white",
            "showbackground": true,
            "ticks": "",
            "zerolinecolor": "white"
           },
           "zaxis": {
            "backgroundcolor": "#E5ECF6",
            "gridcolor": "white",
            "gridwidth": 2,
            "linecolor": "white",
            "showbackground": true,
            "ticks": "",
            "zerolinecolor": "white"
           }
          },
          "shapedefaults": {
           "line": {
            "color": "#2a3f5f"
           }
          },
          "ternary": {
           "aaxis": {
            "gridcolor": "white",
            "linecolor": "white",
            "ticks": ""
           },
           "baxis": {
            "gridcolor": "white",
            "linecolor": "white",
            "ticks": ""
           },
           "bgcolor": "#E5ECF6",
           "caxis": {
            "gridcolor": "white",
            "linecolor": "white",
            "ticks": ""
           }
          },
          "title": {
           "x": 0.05
          },
          "xaxis": {
           "automargin": true,
           "gridcolor": "white",
           "linecolor": "white",
           "ticks": "",
           "title": {
            "standoff": 15
           },
           "zerolinecolor": "white",
           "zerolinewidth": 2
          },
          "yaxis": {
           "automargin": true,
           "gridcolor": "white",
           "linecolor": "white",
           "ticks": "",
           "title": {
            "standoff": 15
           },
           "zerolinecolor": "white",
           "zerolinewidth": 2
          }
         }
        },
        "title": {
         "text": "Monthly Rental Fee by Proximity to Subway"
        },
        "width": 800,
        "xaxis": {
         "anchor": "y",
         "domain": [
          0,
          1
         ],
         "title": {
          "text": "Proximity to Subway (minutes grouped)"
         }
        },
        "yaxis": {
         "anchor": "x",
         "domain": [
          0,
          1
         ],
         "title": {
          "text": "Monthly Rental Fee (¥)"
         }
        }
       }
      }
     },
     "metadata": {}
    }
   ],
   "metadata": {}
  },
  {
   "cell_type": "code",
   "execution_count": 30,
   "source": [
    "fig = px.bar(metro_stats[metro_stats['metro_min_walk_group'].isin(['a_0_5','b_6_10','c_11_15'])],\n",
    "             x=\"metro_min_walk_group\",\n",
    "             y=\"price_per_sqm\",\n",
    "             text='price_per_sqm',\n",
    "             color = 'listing_count',\n",
    "             color_continuous_scale=['#18BCC1','#22979B'])\n",
    "\n",
    "fig.update_traces(textposition='outside',\n",
    "                  texttemplate='%{text}',   \n",
    "                  textfont_size=14\n",
    "                  )\n",
    "\n",
    "fig.update_layout(title_text = 'Monthly Rental Fee per Sqm by Proximity to Subway',\n",
    "                  yaxis_title = 'Monthly Rental Fee (¥)',\n",
    "                  xaxis_title = 'Proximity to Subway (minutes grouped)',\n",
    "                  height = 600, width = 800)\n",
    "\n",
    "fig.show()"
   ],
   "outputs": [
    {
     "output_type": "display_data",
     "data": {
      "application/vnd.plotly.v1+json": {
       "config": {
        "plotlyServerURL": "https://plot.ly"
       },
       "data": [
        {
         "alignmentgroup": "True",
         "hoverlabel": {
          "namelength": 0
         },
         "hovertemplate": "metro_min_walk_group=%{x}<br>price_per_sqm=%{text}<br>listing_count=%{marker.color}",
         "legendgroup": "",
         "marker": {
          "color": [
           1019,
           918,
           66
          ],
          "coloraxis": "coloraxis"
         },
         "name": "",
         "offsetgroup": "",
         "orientation": "v",
         "showlegend": false,
         "text": [
          168,
          170,
          173
         ],
         "textfont": {
          "size": 14
         },
         "textposition": "outside",
         "texttemplate": "%{text}",
         "type": "bar",
         "x": [
          "a_0_5",
          "b_6_10",
          "c_11_15"
         ],
         "xaxis": "x",
         "y": [
          168,
          170,
          173
         ],
         "yaxis": "y"
        }
       ],
       "layout": {
        "barmode": "relative",
        "coloraxis": {
         "colorbar": {
          "title": {
           "text": "listing_count"
          }
         },
         "colorscale": [
          [
           0,
           "#18BCC1"
          ],
          [
           1,
           "#22979B"
          ]
         ]
        },
        "height": 600,
        "legend": {
         "tracegroupgap": 0
        },
        "margin": {
         "t": 60
        },
        "template": {
         "data": {
          "bar": [
           {
            "error_x": {
             "color": "#2a3f5f"
            },
            "error_y": {
             "color": "#2a3f5f"
            },
            "marker": {
             "line": {
              "color": "#E5ECF6",
              "width": 0.5
             }
            },
            "type": "bar"
           }
          ],
          "barpolar": [
           {
            "marker": {
             "line": {
              "color": "#E5ECF6",
              "width": 0.5
             }
            },
            "type": "barpolar"
           }
          ],
          "carpet": [
           {
            "aaxis": {
             "endlinecolor": "#2a3f5f",
             "gridcolor": "white",
             "linecolor": "white",
             "minorgridcolor": "white",
             "startlinecolor": "#2a3f5f"
            },
            "baxis": {
             "endlinecolor": "#2a3f5f",
             "gridcolor": "white",
             "linecolor": "white",
             "minorgridcolor": "white",
             "startlinecolor": "#2a3f5f"
            },
            "type": "carpet"
           }
          ],
          "choropleth": [
           {
            "colorbar": {
             "outlinewidth": 0,
             "ticks": ""
            },
            "type": "choropleth"
           }
          ],
          "contour": [
           {
            "colorbar": {
             "outlinewidth": 0,
             "ticks": ""
            },
            "colorscale": [
             [
              0,
              "#0d0887"
             ],
             [
              0.1111111111111111,
              "#46039f"
             ],
             [
              0.2222222222222222,
              "#7201a8"
             ],
             [
              0.3333333333333333,
              "#9c179e"
             ],
             [
              0.4444444444444444,
              "#bd3786"
             ],
             [
              0.5555555555555556,
              "#d8576b"
             ],
             [
              0.6666666666666666,
              "#ed7953"
             ],
             [
              0.7777777777777778,
              "#fb9f3a"
             ],
             [
              0.8888888888888888,
              "#fdca26"
             ],
             [
              1,
              "#f0f921"
             ]
            ],
            "type": "contour"
           }
          ],
          "contourcarpet": [
           {
            "colorbar": {
             "outlinewidth": 0,
             "ticks": ""
            },
            "type": "contourcarpet"
           }
          ],
          "heatmap": [
           {
            "colorbar": {
             "outlinewidth": 0,
             "ticks": ""
            },
            "colorscale": [
             [
              0,
              "#0d0887"
             ],
             [
              0.1111111111111111,
              "#46039f"
             ],
             [
              0.2222222222222222,
              "#7201a8"
             ],
             [
              0.3333333333333333,
              "#9c179e"
             ],
             [
              0.4444444444444444,
              "#bd3786"
             ],
             [
              0.5555555555555556,
              "#d8576b"
             ],
             [
              0.6666666666666666,
              "#ed7953"
             ],
             [
              0.7777777777777778,
              "#fb9f3a"
             ],
             [
              0.8888888888888888,
              "#fdca26"
             ],
             [
              1,
              "#f0f921"
             ]
            ],
            "type": "heatmap"
           }
          ],
          "heatmapgl": [
           {
            "colorbar": {
             "outlinewidth": 0,
             "ticks": ""
            },
            "colorscale": [
             [
              0,
              "#0d0887"
             ],
             [
              0.1111111111111111,
              "#46039f"
             ],
             [
              0.2222222222222222,
              "#7201a8"
             ],
             [
              0.3333333333333333,
              "#9c179e"
             ],
             [
              0.4444444444444444,
              "#bd3786"
             ],
             [
              0.5555555555555556,
              "#d8576b"
             ],
             [
              0.6666666666666666,
              "#ed7953"
             ],
             [
              0.7777777777777778,
              "#fb9f3a"
             ],
             [
              0.8888888888888888,
              "#fdca26"
             ],
             [
              1,
              "#f0f921"
             ]
            ],
            "type": "heatmapgl"
           }
          ],
          "histogram": [
           {
            "marker": {
             "colorbar": {
              "outlinewidth": 0,
              "ticks": ""
             }
            },
            "type": "histogram"
           }
          ],
          "histogram2d": [
           {
            "colorbar": {
             "outlinewidth": 0,
             "ticks": ""
            },
            "colorscale": [
             [
              0,
              "#0d0887"
             ],
             [
              0.1111111111111111,
              "#46039f"
             ],
             [
              0.2222222222222222,
              "#7201a8"
             ],
             [
              0.3333333333333333,
              "#9c179e"
             ],
             [
              0.4444444444444444,
              "#bd3786"
             ],
             [
              0.5555555555555556,
              "#d8576b"
             ],
             [
              0.6666666666666666,
              "#ed7953"
             ],
             [
              0.7777777777777778,
              "#fb9f3a"
             ],
             [
              0.8888888888888888,
              "#fdca26"
             ],
             [
              1,
              "#f0f921"
             ]
            ],
            "type": "histogram2d"
           }
          ],
          "histogram2dcontour": [
           {
            "colorbar": {
             "outlinewidth": 0,
             "ticks": ""
            },
            "colorscale": [
             [
              0,
              "#0d0887"
             ],
             [
              0.1111111111111111,
              "#46039f"
             ],
             [
              0.2222222222222222,
              "#7201a8"
             ],
             [
              0.3333333333333333,
              "#9c179e"
             ],
             [
              0.4444444444444444,
              "#bd3786"
             ],
             [
              0.5555555555555556,
              "#d8576b"
             ],
             [
              0.6666666666666666,
              "#ed7953"
             ],
             [
              0.7777777777777778,
              "#fb9f3a"
             ],
             [
              0.8888888888888888,
              "#fdca26"
             ],
             [
              1,
              "#f0f921"
             ]
            ],
            "type": "histogram2dcontour"
           }
          ],
          "mesh3d": [
           {
            "colorbar": {
             "outlinewidth": 0,
             "ticks": ""
            },
            "type": "mesh3d"
           }
          ],
          "parcoords": [
           {
            "line": {
             "colorbar": {
              "outlinewidth": 0,
              "ticks": ""
             }
            },
            "type": "parcoords"
           }
          ],
          "pie": [
           {
            "automargin": true,
            "type": "pie"
           }
          ],
          "scatter": [
           {
            "marker": {
             "colorbar": {
              "outlinewidth": 0,
              "ticks": ""
             }
            },
            "type": "scatter"
           }
          ],
          "scatter3d": [
           {
            "line": {
             "colorbar": {
              "outlinewidth": 0,
              "ticks": ""
             }
            },
            "marker": {
             "colorbar": {
              "outlinewidth": 0,
              "ticks": ""
             }
            },
            "type": "scatter3d"
           }
          ],
          "scattercarpet": [
           {
            "marker": {
             "colorbar": {
              "outlinewidth": 0,
              "ticks": ""
             }
            },
            "type": "scattercarpet"
           }
          ],
          "scattergeo": [
           {
            "marker": {
             "colorbar": {
              "outlinewidth": 0,
              "ticks": ""
             }
            },
            "type": "scattergeo"
           }
          ],
          "scattergl": [
           {
            "marker": {
             "colorbar": {
              "outlinewidth": 0,
              "ticks": ""
             }
            },
            "type": "scattergl"
           }
          ],
          "scattermapbox": [
           {
            "marker": {
             "colorbar": {
              "outlinewidth": 0,
              "ticks": ""
             }
            },
            "type": "scattermapbox"
           }
          ],
          "scatterpolar": [
           {
            "marker": {
             "colorbar": {
              "outlinewidth": 0,
              "ticks": ""
             }
            },
            "type": "scatterpolar"
           }
          ],
          "scatterpolargl": [
           {
            "marker": {
             "colorbar": {
              "outlinewidth": 0,
              "ticks": ""
             }
            },
            "type": "scatterpolargl"
           }
          ],
          "scatterternary": [
           {
            "marker": {
             "colorbar": {
              "outlinewidth": 0,
              "ticks": ""
             }
            },
            "type": "scatterternary"
           }
          ],
          "surface": [
           {
            "colorbar": {
             "outlinewidth": 0,
             "ticks": ""
            },
            "colorscale": [
             [
              0,
              "#0d0887"
             ],
             [
              0.1111111111111111,
              "#46039f"
             ],
             [
              0.2222222222222222,
              "#7201a8"
             ],
             [
              0.3333333333333333,
              "#9c179e"
             ],
             [
              0.4444444444444444,
              "#bd3786"
             ],
             [
              0.5555555555555556,
              "#d8576b"
             ],
             [
              0.6666666666666666,
              "#ed7953"
             ],
             [
              0.7777777777777778,
              "#fb9f3a"
             ],
             [
              0.8888888888888888,
              "#fdca26"
             ],
             [
              1,
              "#f0f921"
             ]
            ],
            "type": "surface"
           }
          ],
          "table": [
           {
            "cells": {
             "fill": {
              "color": "#EBF0F8"
             },
             "line": {
              "color": "white"
             }
            },
            "header": {
             "fill": {
              "color": "#C8D4E3"
             },
             "line": {
              "color": "white"
             }
            },
            "type": "table"
           }
          ]
         },
         "layout": {
          "annotationdefaults": {
           "arrowcolor": "#2a3f5f",
           "arrowhead": 0,
           "arrowwidth": 1
          },
          "coloraxis": {
           "colorbar": {
            "outlinewidth": 0,
            "ticks": ""
           }
          },
          "colorscale": {
           "diverging": [
            [
             0,
             "#8e0152"
            ],
            [
             0.1,
             "#c51b7d"
            ],
            [
             0.2,
             "#de77ae"
            ],
            [
             0.3,
             "#f1b6da"
            ],
            [
             0.4,
             "#fde0ef"
            ],
            [
             0.5,
             "#f7f7f7"
            ],
            [
             0.6,
             "#e6f5d0"
            ],
            [
             0.7,
             "#b8e186"
            ],
            [
             0.8,
             "#7fbc41"
            ],
            [
             0.9,
             "#4d9221"
            ],
            [
             1,
             "#276419"
            ]
           ],
           "sequential": [
            [
             0,
             "#0d0887"
            ],
            [
             0.1111111111111111,
             "#46039f"
            ],
            [
             0.2222222222222222,
             "#7201a8"
            ],
            [
             0.3333333333333333,
             "#9c179e"
            ],
            [
             0.4444444444444444,
             "#bd3786"
            ],
            [
             0.5555555555555556,
             "#d8576b"
            ],
            [
             0.6666666666666666,
             "#ed7953"
            ],
            [
             0.7777777777777778,
             "#fb9f3a"
            ],
            [
             0.8888888888888888,
             "#fdca26"
            ],
            [
             1,
             "#f0f921"
            ]
           ],
           "sequentialminus": [
            [
             0,
             "#0d0887"
            ],
            [
             0.1111111111111111,
             "#46039f"
            ],
            [
             0.2222222222222222,
             "#7201a8"
            ],
            [
             0.3333333333333333,
             "#9c179e"
            ],
            [
             0.4444444444444444,
             "#bd3786"
            ],
            [
             0.5555555555555556,
             "#d8576b"
            ],
            [
             0.6666666666666666,
             "#ed7953"
            ],
            [
             0.7777777777777778,
             "#fb9f3a"
            ],
            [
             0.8888888888888888,
             "#fdca26"
            ],
            [
             1,
             "#f0f921"
            ]
           ]
          },
          "colorway": [
           "#636efa",
           "#EF553B",
           "#00cc96",
           "#ab63fa",
           "#FFA15A",
           "#19d3f3",
           "#FF6692",
           "#B6E880",
           "#FF97FF",
           "#FECB52"
          ],
          "font": {
           "color": "#2a3f5f"
          },
          "geo": {
           "bgcolor": "white",
           "lakecolor": "white",
           "landcolor": "#E5ECF6",
           "showlakes": true,
           "showland": true,
           "subunitcolor": "white"
          },
          "hoverlabel": {
           "align": "left"
          },
          "hovermode": "closest",
          "mapbox": {
           "style": "light"
          },
          "paper_bgcolor": "white",
          "plot_bgcolor": "#E5ECF6",
          "polar": {
           "angularaxis": {
            "gridcolor": "white",
            "linecolor": "white",
            "ticks": ""
           },
           "bgcolor": "#E5ECF6",
           "radialaxis": {
            "gridcolor": "white",
            "linecolor": "white",
            "ticks": ""
           }
          },
          "scene": {
           "xaxis": {
            "backgroundcolor": "#E5ECF6",
            "gridcolor": "white",
            "gridwidth": 2,
            "linecolor": "white",
            "showbackground": true,
            "ticks": "",
            "zerolinecolor": "white"
           },
           "yaxis": {
            "backgroundcolor": "#E5ECF6",
            "gridcolor": "white",
            "gridwidth": 2,
            "linecolor": "white",
            "showbackground": true,
            "ticks": "",
            "zerolinecolor": "white"
           },
           "zaxis": {
            "backgroundcolor": "#E5ECF6",
            "gridcolor": "white",
            "gridwidth": 2,
            "linecolor": "white",
            "showbackground": true,
            "ticks": "",
            "zerolinecolor": "white"
           }
          },
          "shapedefaults": {
           "line": {
            "color": "#2a3f5f"
           }
          },
          "ternary": {
           "aaxis": {
            "gridcolor": "white",
            "linecolor": "white",
            "ticks": ""
           },
           "baxis": {
            "gridcolor": "white",
            "linecolor": "white",
            "ticks": ""
           },
           "bgcolor": "#E5ECF6",
           "caxis": {
            "gridcolor": "white",
            "linecolor": "white",
            "ticks": ""
           }
          },
          "title": {
           "x": 0.05
          },
          "xaxis": {
           "automargin": true,
           "gridcolor": "white",
           "linecolor": "white",
           "ticks": "",
           "title": {
            "standoff": 15
           },
           "zerolinecolor": "white",
           "zerolinewidth": 2
          },
          "yaxis": {
           "automargin": true,
           "gridcolor": "white",
           "linecolor": "white",
           "ticks": "",
           "title": {
            "standoff": 15
           },
           "zerolinecolor": "white",
           "zerolinewidth": 2
          }
         }
        },
        "title": {
         "text": "Monthly Rental Fee per Sqm by Proximity to Subway"
        },
        "width": 800,
        "xaxis": {
         "anchor": "y",
         "domain": [
          0,
          1
         ],
         "title": {
          "text": "Proximity to Subway (minutes grouped)"
         }
        },
        "yaxis": {
         "anchor": "x",
         "domain": [
          0,
          1
         ],
         "title": {
          "text": "Monthly Rental Fee (¥)"
         }
        }
       }
      }
     },
     "metadata": {}
    }
   ],
   "metadata": {}
  },
  {
   "cell_type": "code",
   "execution_count": null,
   "source": [],
   "outputs": [],
   "metadata": {}
  },
  {
   "cell_type": "code",
   "execution_count": null,
   "source": [],
   "outputs": [],
   "metadata": {}
  },
  {
   "cell_type": "code",
   "execution_count": 107,
   "source": [
    "data_all = pd.DataFrame.from_dict(apartments)\n",
    "filtered_data = data_all[(data_all['price'] < 8000) & (data_all['price'] > 4000) &\n",
    "         (data_all['floor'] != '1')&\n",
    "         ((data_all['district'] == 'Jing\\'an District') | ((data_all['district'] == 'Xuhui')))]"
   ],
   "outputs": [],
   "metadata": {}
  },
  {
   "cell_type": "code",
   "execution_count": 95,
   "source": [
    "token = \"1479740392:AAH46Vt37bs0aHpqkpLpGgS9UZGkVN_WKxU\"\n",
    "bot_url = \"https://api.telegram.org/bot{}/\".format(token)"
   ],
   "outputs": [],
   "metadata": {}
  },
  {
   "cell_type": "code",
   "execution_count": 105,
   "source": [
    "def get_url(url):\n",
    "    response = requests.get(url)\n",
    "    content = response.content.decode(\"utf8\")\n",
    "    return content\n",
    "\n",
    "def send_message(text, chat_id):\n",
    "    url = bot_url + \"sendMessage?text={}&chat_id={}\".format(text, chat_id)\n",
    "    get_url(url)"
   ],
   "outputs": [],
   "metadata": {}
  },
  {
   "cell_type": "code",
   "execution_count": 122,
   "source": [
    "filtered_data.reset_index().iloc[0]['id']"
   ],
   "outputs": [
    {
     "output_type": "execute_result",
     "data": {
      "text/plain": [
       "'1397647'"
      ]
     },
     "metadata": {},
     "execution_count": 122
    }
   ],
   "metadata": {}
  },
  {
   "cell_type": "code",
   "execution_count": 126,
   "source": [
    "new_place_id = filtered_data.reset_index().iloc[0]['id']\n",
    "message = 'Got a new option for you, my man. Check this out: {}'\\\n",
    "            .format('https://www.smartshanghai.com/housing/apartments-rent/'+new_place_id)\n",
    "\n",
    "send_message(message, 33651759)"
   ],
   "outputs": [],
   "metadata": {}
  },
  {
   "cell_type": "code",
   "execution_count": 124,
   "source": [
    "message"
   ],
   "outputs": [
    {
     "output_type": "execute_result",
     "data": {
      "text/plain": [
       "'Got a new option for you, my man. Check this out: https://www.smartshanghai.com/housing/apartments-rent/1397647'"
      ]
     },
     "metadata": {},
     "execution_count": 124
    }
   ],
   "metadata": {}
  },
  {
   "cell_type": "code",
   "execution_count": 97,
   "source": [
    "url = 'https://www.smartshanghai.com/housing/apartments-rent/1397257'\n",
    "# Create the string html containing the HTML source\n",
    "html = requests.get( url).text"
   ],
   "outputs": [],
   "metadata": {}
  },
  {
   "cell_type": "code",
   "execution_count": 98,
   "source": [
    "sel = Selector(text = html)"
   ],
   "outputs": [],
   "metadata": {}
  },
  {
   "cell_type": "code",
   "execution_count": 100,
   "source": [
    "sel.css('div#housing::text').extract()"
   ],
   "outputs": [
    {
     "output_type": "execute_result",
     "data": {
      "text/plain": [
       "['\\n    ', '\\n    ', '\\n']"
      ]
     },
     "metadata": {},
     "execution_count": 100
    }
   ],
   "metadata": {}
  },
  {
   "cell_type": "code",
   "execution_count": 80,
   "source": [
    "html = requests.get('https://www.smartshanghai.com/housing/apartments-rent/1397257').text"
   ],
   "outputs": [],
   "metadata": {}
  },
  {
   "cell_type": "code",
   "execution_count": 102,
   "source": [
    "sel = Selector(text = html)\n",
    "# Create a SelectorList of all div elements in the HTML document\n",
    "listings = sel.css('span.price > input').extract()"
   ],
   "outputs": [],
   "metadata": {}
  },
  {
   "cell_type": "code",
   "execution_count": 103,
   "source": [
    "listings"
   ],
   "outputs": [
    {
     "output_type": "execute_result",
     "data": {
      "text/plain": [
       "[]"
      ]
     },
     "metadata": {},
     "execution_count": 103
    }
   ],
   "metadata": {}
  },
  {
   "cell_type": "code",
   "execution_count": null,
   "source": [],
   "outputs": [],
   "metadata": {}
  }
 ],
 "metadata": {
  "kernelspec": {
   "name": "python3",
   "display_name": "Python 3.7.4 64-bit ('base': conda)"
  },
  "language_info": {
   "codemirror_mode": {
    "name": "ipython",
    "version": 3
   },
   "file_extension": ".py",
   "mimetype": "text/x-python",
   "name": "python",
   "nbconvert_exporter": "python",
   "pygments_lexer": "ipython3",
   "version": "3.7.4"
  },
  "interpreter": {
   "hash": "dca0ade3e726a953b501b15e8e990130d2b7799f14cfd9f4271676035ebe5511"
  }
 },
 "nbformat": 4,
 "nbformat_minor": 2
}