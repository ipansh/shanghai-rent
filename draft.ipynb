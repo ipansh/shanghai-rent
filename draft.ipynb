{
 "cells": [
  {
   "cell_type": "code",
   "execution_count": 2,
   "metadata": {},
   "outputs": [],
   "source": [
    "import requests\n",
    "import pandas as pd\n",
    "import time\n",
    "from bs4 import BeautifulSoup\n",
    "import boto3\n",
    "import re\n",
    "import datetime\n",
    "from datetime import datetime\n",
    "import io\n",
    "from io import StringIO\n",
    "\n",
    "### access telegram token\n",
    "with open('/Users/ilya/Desktop/keys/telegram_token.txt') as f:\n",
    "    lines = f.readlines()\n",
    "\n",
    "telegram_token = lines[0]\n",
    "\n",
    "### permissions for telegram bot token\n",
    "bot_url = \"https://api.telegram.org/bot{}/\".format(telegram_token)\n",
    "\n",
    "def retrieve_main_df_from_bucket(bucket, file_name):\n",
    "    s3 = boto3.client('s3')\n",
    "    obj = s3.get_object(Bucket= bucket, Key= file_name) \n",
    "    main_df = pd.read_csv(obj['Body'])\n",
    "    return main_df\n",
    "\n",
    "def scrape_smartshanghai(main_df):\n",
    "    day_df = pd.DataFrame()\n",
    "    listing_list = []\n",
    "    \n",
    "    for page_number in range(1,3):\n",
    "        url = 'https://www.smartshanghai.com/housing/apartments-rent/?page={}&bedrooms[0]=1&ownership_private=1&ownership_landlord=1&ownership_agency=1&view=list'.format(page_number)\n",
    "        html = requests.get(url)\n",
    "        soup = BeautifulSoup(html.text, \"html.parser\")\n",
    "        \n",
    "        for tag in soup('a'):\n",
    "            if bool(re.match(r'https://www\\.smartshanghai\\.com/housing/apartments-rent/[0-9]', str(tag.get('href')))):\n",
    "                listing_list.append(tag.get('href'))\n",
    "                \n",
    "    for listing_url in listing_list:\n",
    "        detail_list = []\n",
    "        \n",
    "        listing_html = requests.get(listing_url)\n",
    "        listing_soup = BeautifulSoup(listing_html.text, \"html.parser\")\n",
    "        \n",
    "        detail_list.append(listing_url)\n",
    "        \n",
    "        detail_list.append(listing_soup.find('span', {'class' : 'price'}).get_text())\n",
    "        \n",
    "        for div_tag in listing_soup.find_all('div', {'class' : 'details'}):\n",
    "            div_tag_children = div_tag.findChildren()\n",
    "            for another_tag in div_tag_children:\n",
    "                if another_tag.find('div') is not None:\n",
    "                    detail_list.append(another_tag.find('div').text.strip())\n",
    "        \n",
    "        day_df = day_df.append(pd.Series(detail_list), ignore_index=True)\n",
    "        \n",
    "    day_df.columns = ['url','price', 'type','type2','availability','comission','rooms','size',\n",
    "                      'floor','furnished','direction','district','area','compound','distance']\n",
    "                      \n",
    "    day_df = day_df[['price','type','availability','size','floor','furnished','direction','district','url']]\n",
    "    day_df.loc[:,'price'] = [int(price.replace(',','')) for price in day_df['price']]\n",
    "    day_df.loc[:,'floor'] = day_df['floor'].astype('int')\n",
    "    \n",
    "    filtered_day_df = day_df[(day_df['price'] > 0000) & (day_df['price'] < 8000)\n",
    "                            & (day_df['floor'] > 2) & (day_df['district'].isin(['Xuhui','Changning','Jing\\'an']) == True)]\n",
    " \n",
    "    main_df = main_df.append(filtered_day_df).drop_duplicates(subset = ['url'])\n",
    "    \n",
    "    return main_df"
   ]
  },
  {
   "cell_type": "code",
   "execution_count": 3,
   "metadata": {},
   "outputs": [
    {
     "ename": "NameError",
     "evalue": "name 'main_df' is not defined",
     "output_type": "error",
     "traceback": [
      "\u001b[0;31m---------------------------------------------------------------------------\u001b[0m",
      "\u001b[0;31mNameError\u001b[0m                                 Traceback (most recent call last)",
      "\u001b[0;32m<ipython-input-3-6679b2773820>\u001b[0m in \u001b[0;36m<module>\u001b[0;34m\u001b[0m\n\u001b[0;32m----> 1\u001b[0;31m \u001b[0mscrape_smartshanghai\u001b[0m\u001b[0;34m(\u001b[0m\u001b[0mmain_df\u001b[0m\u001b[0;34m)\u001b[0m\u001b[0;34m\u001b[0m\u001b[0;34m\u001b[0m\u001b[0m\n\u001b[0m",
      "\u001b[0;31mNameError\u001b[0m: name 'main_df' is not defined"
     ]
    }
   ],
   "source": [
    "scrape_smartshanghai(main_df)"
   ]
  },
  {
   "cell_type": "code",
   "execution_count": null,
   "metadata": {},
   "outputs": [],
   "source": []
  }
 ],
 "metadata": {
  "interpreter": {
   "hash": "40d3a090f54c6569ab1632332b64b2c03c39dcf918b08424e98f38b5ae0af88f"
  },
  "kernelspec": {
   "display_name": "Python 3.7.4 64-bit ('base': conda)",
   "name": "python3"
  },
  "language_info": {
   "codemirror_mode": {
    "name": "ipython",
    "version": 3
   },
   "file_extension": ".py",
   "mimetype": "text/x-python",
   "name": "python",
   "nbconvert_exporter": "python",
   "pygments_lexer": "ipython3",
   "version": "3.7.4"
  },
  "orig_nbformat": 4
 },
 "nbformat": 4,
 "nbformat_minor": 2
}
